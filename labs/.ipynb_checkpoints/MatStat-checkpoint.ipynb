{
 "cells": [
  {
   "cell_type": "code",
   "execution_count": 1,
   "metadata": {},
   "outputs": [],
   "source": [
    "import numpy as np"
   ]
  },
  {
   "cell_type": "code",
   "execution_count": 2,
   "metadata": {},
   "outputs": [],
   "source": [
    "def variance(a):\n",
    "    d = 0\n",
    "    av = np.average(a)\n",
    "    for i in set(a):\n",
    "        d += len([j for j in a if j == i])/len(a) * (i - av)**2\n",
    "    return d\n"
   ]
  },
  {
   "cell_type": "code",
   "execution_count": 3,
   "metadata": {},
   "outputs": [],
   "source": [
    "def median(d):\n",
    "    d = sorted(d)\n",
    "    return np.average(d[len(d)//2-1:len(d)//2+1])*(1-len(d)%2)+d[len(d)//2]*(len(d)%2)"
   ]
  },
  {
   "cell_type": "code",
   "execution_count": 4,
   "metadata": {},
   "outputs": [],
   "source": [
    "def excess(d):\n",
    "    av = np.average(d)\n",
    "    return np.sum((d-av)**4)/len(d)/variance(d)**2-3"
   ]
  },
  {
   "cell_type": "code",
   "execution_count": 5,
   "metadata": {},
   "outputs": [],
   "source": [
    "def asymmetry(d):\n",
    "    av = np.average(d)\n",
    "    return np.sum((d-av)**3)/len(d)/variance(d)**(3/2)"
   ]
  },
  {
   "cell_type": "code",
   "execution_count": 6,
   "metadata": {},
   "outputs": [
    {
     "ename": "NameError",
     "evalue": "name 'data' is not defined",
     "output_type": "error",
     "traceback": [
      "\u001b[1;31m---------------------------------------------------------------------------\u001b[0m",
      "\u001b[1;31mNameError\u001b[0m                                 Traceback (most recent call last)",
      "\u001b[1;32m<ipython-input-6-a27aba8e8bc0>\u001b[0m in \u001b[0;36m<module>\u001b[1;34m\u001b[0m\n\u001b[1;32m----> 1\u001b[1;33m \u001b[0md\u001b[0m \u001b[1;33m=\u001b[0m \u001b[0mdata\u001b[0m\u001b[1;33m\u001b[0m\u001b[1;33m\u001b[0m\u001b[0m\n\u001b[0m\u001b[0;32m      2\u001b[0m \u001b[0mnp\u001b[0m\u001b[1;33m.\u001b[0m\u001b[0mmedian\u001b[0m\u001b[1;33m(\u001b[0m\u001b[0md\u001b[0m\u001b[1;33m)\u001b[0m\u001b[1;33m,\u001b[0m \u001b[0mmedian\u001b[0m\u001b[1;33m(\u001b[0m\u001b[0md\u001b[0m\u001b[1;33m)\u001b[0m\u001b[1;33m\u001b[0m\u001b[1;33m\u001b[0m\u001b[0m\n",
      "\u001b[1;31mNameError\u001b[0m: name 'data' is not defined"
     ]
    }
   ],
   "source": [
    "d = data\n",
    "np.median(d), median(d)"
   ]
  },
  {
   "cell_type": "code",
   "execution_count": 7,
   "metadata": {},
   "outputs": [],
   "source": [
    "def qartile(p, d):\n",
    "    return sorted(d)[int(np.floor(len(d)*p))]\n",
    "# qartile(0.75, data), np.round(np.percentile(data, 75)) ????????????????"
   ]
  },
  {
   "cell_type": "code",
   "execution_count": 8,
   "metadata": {},
   "outputs": [],
   "source": [
    "def uniform(a, b, size):\n",
    "    return np.random.randint(a, b, size)\n",
    "def normal(a, sigm, size):\n",
    "    #probs = [np.e**(-(x-a)**2/(2*sigm**2))/(sigm*(2*np.pi)**(1/2))]\n",
    "    return np.random.normal(a, b, size=size)"
   ]
  },
  {
   "cell_type": "code",
   "execution_count": 9,
   "metadata": {},
   "outputs": [],
   "source": [
    "def correl(d1, d2):\n",
    "    av_d1 = np.average(d1)\n",
    "    av_d2 = np.average(d2)\n",
    "    return np.sum(d1*d2-av_d1*av_d2)/len(d1)/(np.var(d1)*np.var(d2))**(1/2)\n",
    "    "
   ]
  },
  {
   "cell_type": "code",
   "execution_count": 10,
   "metadata": {},
   "outputs": [
    {
     "data": {
      "image/png": "[encoded data removed]",
      "text/plain": [
       "<Figure size 432x288 with 1 Axes>"
      ]
     },
     "metadata": {
      "needs_background": "light"
     },
     "output_type": "display_data"
    }
   ],
   "source": [
    "#%%\n",
    "import pandas as pd\n",
    "import matplotlib.pyplot as plt\n",
    "%matplotlib inline\n",
    "import seaborn as sns\n",
    "\n",
    "\n",
    "plt.boxplot(list(np.random.randint(5, 100, 100))+[150])\n",
    "plt.show()"
   ]
  },
  {
   "cell_type": "code",
   "execution_count": 11,
   "metadata": {},
   "outputs": [],
   "source": [
    "a = pd.read_csv(r\"../13_6\", sep=\",\", header=None, names=['drop', 'year', 'month', '6th', '13th', 'market'])"
   ]
  },
  {
   "cell_type": "code",
   "execution_count": 12,
   "metadata": {},
   "outputs": [],
   "source": [
    "a.drop(columns='drop', inplace=True)"
   ]
  },
  {
   "cell_type": "code",
   "execution_count": 13,
   "metadata": {},
   "outputs": [
    {
     "data": {
      "text/plain": [
       "(46.48888888888889, 4.963871474817532, 1.4723605614659805)"
      ]
     },
     "execution_count": 13,
     "metadata": {},
     "output_type": "execute_result"
    }
   ],
   "source": [
    "d = np.array(a['13th'])-np.array(a['6th'])\n",
    "np.average(d), excess(d), asymmetry(d)"
   ]
  },
  {
   "cell_type": "code",
   "execution_count": null,
   "metadata": {},
   "outputs": [],
   "source": []
  },
  {
   "cell_type": "code",
   "execution_count": 14,
   "metadata": {},
   "outputs": [
    {
     "data": {
      "text/plain": [
       "<matplotlib.axes._subplots.AxesSubplot at 0x2b60d2df2b0>"
      ]
     },
     "execution_count": 14,
     "metadata": {},
     "output_type": "execute_result"
    },
    {
     "data": {
      "image/png": "[encoded data removed]",
      "text/plain": [
       "<Figure size 432x288 with 1 Axes>"
      ]
     },
     "metadata": {
      "needs_background": "light"
     },
     "output_type": "display_data"
    }
   ],
   "source": [
    "sns.boxplot(orient='v', data=a[['13th', '6th']])"
   ]
  },
  {
   "cell_type": "code",
   "execution_count": 15,
   "metadata": {},
   "outputs": [
    {
     "data": {
      "text/plain": [
       "<matplotlib.axes._subplots.AxesSubplot at 0x2b60e365dd8>"
      ]
     },
     "execution_count": 15,
     "metadata": {},
     "output_type": "execute_result"
    },
    {
     "data": {
      "image/png": "[encoded data removed]",
      "text/plain": [
       "<Figure size 432x288 with 1 Axes>"
      ]
     },
     "metadata": {
      "needs_background": "light"
     },
     "output_type": "display_data"
    }
   ],
   "source": [
    "sns.boxplot(orient='v', data=np.array(a['13th'])-np.array(a['6th']))"
   ]
  },
  {
   "cell_type": "code",
   "execution_count": 16,
   "metadata": {},
   "outputs": [
    {
     "data": {
      "image/png": "[encoded data removed]",
      "text/plain": [
       "<Figure size 432x288 with 1 Axes>"
      ]
     },
     "metadata": {
      "needs_background": "light"
     },
     "output_type": "display_data"
    },
    {
     "data": {
      "image/png": "[encoded data removed]",
      "text/plain": [
       "<Figure size 432x288 with 1 Axes>"
      ]
     },
     "metadata": {
      "needs_background": "light"
     },
     "output_type": "display_data"
    },
    {
     "data": {
      "text/plain": [
       "(array([ 3.,  5., 15., 10.,  6.,  5.,  0.,  0.,  0.,  1.]),\n",
       " array([-302. , -194.4,  -86.8,   20.8,  128.4,  236. ,  343.6,  451.2,\n",
       "         558.8,  666.4,  774. ]),\n",
       " <a list of 10 Patch objects>)"
      ]
     },
     "execution_count": 16,
     "metadata": {},
     "output_type": "execute_result"
    },
    {
     "data": {
      "image/png": "[encoded data removed]",
      "text/plain": [
       "<Figure size 432x288 with 1 Axes>"
      ]
     },
     "metadata": {
      "needs_background": "light"
     },
     "output_type": "display_data"
    }
   ],
   "source": [
    "plt.hist(a['13th'])\n",
    "plt.show()\n",
    "plt.hist(a['6th'])\n",
    "plt.show()\n",
    "plt.hist(np.array(a['13th'])-np.array(a['6th']))"
   ]
  },
  {
   "cell_type": "code",
   "execution_count": 17,
   "metadata": {},
   "outputs": [],
   "source": [
    "a = pd.read_csv(r\"../colleges2.txt\", sep=\",\",  dtype={'School':str, 'School_Type':str, 'SAT':int, 'Acceptance':int, '$/Student':int, 'Top10%':int, '%PhD':int,'Grad%':int})"
   ]
  },
  {
   "cell_type": "code",
   "execution_count": 18,
   "metadata": {},
   "outputs": [],
   "source": [
    "a.drop(columns='School', inplace=True)"
   ]
  },
  {
   "cell_type": "code",
   "execution_count": 19,
   "metadata": {},
   "outputs": [
    {
     "data": {
      "text/plain": [
       "Index(['School_Type', 'SAT', 'Acceptance', '$/Student', 'Top10%', '%PhD',\n",
       "       'Grad%'],\n",
       "      dtype='object')"
      ]
     },
     "execution_count": 19,
     "metadata": {},
     "output_type": "execute_result"
    }
   ],
   "source": [
    "a.head()\n",
    "a.columns"
   ]
  },
  {
   "cell_type": "code",
   "execution_count": 20,
   "metadata": {},
   "outputs": [
    {
     "name": "stdout",
     "output_type": "stream",
     "text": [
      "<class 'str'>\n",
      "<class 'numpy.int32'>\n",
      "<class 'numpy.int32'>\n",
      "<class 'numpy.int32'>\n",
      "<class 'numpy.int32'>\n",
      "<class 'numpy.int32'>\n",
      "<class 'numpy.int32'>\n"
     ]
    }
   ],
   "source": [
    "for i in a.columns:\n",
    "    print(type(a[i][0]))"
   ]
  },
  {
   "cell_type": "code",
   "execution_count": 21,
   "metadata": {},
   "outputs": [
    {
     "data": {
      "text/html": [
       "<div>\n",
       "<style scoped>\n",
       "    .dataframe tbody tr th:only-of-type {\n",
       "        vertical-align: middle;\n",
       "    }\n",
       "\n",
       "    .dataframe tbody tr th {\n",
       "        vertical-align: top;\n",
       "    }\n",
       "\n",
       "    .dataframe thead th {\n",
       "        text-align: right;\n",
       "    }\n",
       "</style>\n",
       "<table border=\"1\" class=\"dataframe\">\n",
       "  <thead>\n",
       "    <tr style=\"text-align: right;\">\n",
       "      <th></th>\n",
       "      <th>School_Type</th>\n",
       "      <th>SAT</th>\n",
       "      <th>Acceptance</th>\n",
       "      <th>$/Student</th>\n",
       "      <th>Top10%</th>\n",
       "      <th>%PhD</th>\n",
       "      <th>Grad%</th>\n",
       "    </tr>\n",
       "  </thead>\n",
       "  <tbody>\n",
       "    <tr>\n",
       "      <th>0</th>\n",
       "      <td>LibArts</td>\n",
       "      <td>1315</td>\n",
       "      <td>22</td>\n",
       "      <td>26636</td>\n",
       "      <td>85</td>\n",
       "      <td>81</td>\n",
       "      <td>93</td>\n",
       "    </tr>\n",
       "    <tr>\n",
       "      <th>1</th>\n",
       "      <td>LibArts</td>\n",
       "      <td>1310</td>\n",
       "      <td>24</td>\n",
       "      <td>27487</td>\n",
       "      <td>78</td>\n",
       "      <td>93</td>\n",
       "      <td>88</td>\n",
       "    </tr>\n",
       "    <tr>\n",
       "      <th>2</th>\n",
       "      <td>LibArts</td>\n",
       "      <td>1336</td>\n",
       "      <td>28</td>\n",
       "      <td>23772</td>\n",
       "      <td>86</td>\n",
       "      <td>90</td>\n",
       "      <td>93</td>\n",
       "    </tr>\n",
       "    <tr>\n",
       "      <th>3</th>\n",
       "      <td>LibArts</td>\n",
       "      <td>1300</td>\n",
       "      <td>24</td>\n",
       "      <td>25703</td>\n",
       "      <td>78</td>\n",
       "      <td>95</td>\n",
       "      <td>90</td>\n",
       "    </tr>\n",
       "    <tr>\n",
       "      <th>4</th>\n",
       "      <td>LibArts</td>\n",
       "      <td>1250</td>\n",
       "      <td>49</td>\n",
       "      <td>27879</td>\n",
       "      <td>76</td>\n",
       "      <td>91</td>\n",
       "      <td>86</td>\n",
       "    </tr>\n",
       "    <tr>\n",
       "      <th>5</th>\n",
       "      <td>LibArts</td>\n",
       "      <td>1320</td>\n",
       "      <td>33</td>\n",
       "      <td>26668</td>\n",
       "      <td>79</td>\n",
       "      <td>98</td>\n",
       "      <td>80</td>\n",
       "    </tr>\n",
       "    <tr>\n",
       "      <th>6</th>\n",
       "      <td>LibArts</td>\n",
       "      <td>1290</td>\n",
       "      <td>35</td>\n",
       "      <td>19948</td>\n",
       "      <td>73</td>\n",
       "      <td>87</td>\n",
       "      <td>91</td>\n",
       "    </tr>\n",
       "    <tr>\n",
       "      <th>7</th>\n",
       "      <td>LibArts</td>\n",
       "      <td>1255</td>\n",
       "      <td>25</td>\n",
       "      <td>24718</td>\n",
       "      <td>65</td>\n",
       "      <td>89</td>\n",
       "      <td>92</td>\n",
       "    </tr>\n",
       "    <tr>\n",
       "      <th>8</th>\n",
       "      <td>LibArts</td>\n",
       "      <td>1195</td>\n",
       "      <td>57</td>\n",
       "      <td>25271</td>\n",
       "      <td>65</td>\n",
       "      <td>90</td>\n",
       "      <td>87</td>\n",
       "    </tr>\n",
       "    <tr>\n",
       "      <th>9</th>\n",
       "      <td>LibArts</td>\n",
       "      <td>1230</td>\n",
       "      <td>36</td>\n",
       "      <td>17721</td>\n",
       "      <td>77</td>\n",
       "      <td>94</td>\n",
       "      <td>89</td>\n",
       "    </tr>\n",
       "    <tr>\n",
       "      <th>10</th>\n",
       "      <td>LibArts</td>\n",
       "      <td>1287</td>\n",
       "      <td>43</td>\n",
       "      <td>20179</td>\n",
       "      <td>53</td>\n",
       "      <td>90</td>\n",
       "      <td>84</td>\n",
       "    </tr>\n",
       "    <tr>\n",
       "      <th>11</th>\n",
       "      <td>LibArts</td>\n",
       "      <td>1300</td>\n",
       "      <td>40</td>\n",
       "      <td>19504</td>\n",
       "      <td>75</td>\n",
       "      <td>82</td>\n",
       "      <td>80</td>\n",
       "    </tr>\n",
       "    <tr>\n",
       "      <th>12</th>\n",
       "      <td>LibArts</td>\n",
       "      <td>1260</td>\n",
       "      <td>36</td>\n",
       "      <td>20377</td>\n",
       "      <td>68</td>\n",
       "      <td>94</td>\n",
       "      <td>74</td>\n",
       "    </tr>\n",
       "    <tr>\n",
       "      <th>13</th>\n",
       "      <td>LibArts</td>\n",
       "      <td>1247</td>\n",
       "      <td>54</td>\n",
       "      <td>23591</td>\n",
       "      <td>64</td>\n",
       "      <td>98</td>\n",
       "      <td>77</td>\n",
       "    </tr>\n",
       "    <tr>\n",
       "      <th>14</th>\n",
       "      <td>LibArts</td>\n",
       "      <td>1234</td>\n",
       "      <td>29</td>\n",
       "      <td>17998</td>\n",
       "      <td>61</td>\n",
       "      <td>89</td>\n",
       "      <td>78</td>\n",
       "    </tr>\n",
       "    <tr>\n",
       "      <th>15</th>\n",
       "      <td>LibArts</td>\n",
       "      <td>1244</td>\n",
       "      <td>67</td>\n",
       "      <td>22301</td>\n",
       "      <td>65</td>\n",
       "      <td>79</td>\n",
       "      <td>73</td>\n",
       "    </tr>\n",
       "    <tr>\n",
       "      <th>16</th>\n",
       "      <td>LibArts</td>\n",
       "      <td>1200</td>\n",
       "      <td>61</td>\n",
       "      <td>23358</td>\n",
       "      <td>47</td>\n",
       "      <td>83</td>\n",
       "      <td>83</td>\n",
       "    </tr>\n",
       "    <tr>\n",
       "      <th>17</th>\n",
       "      <td>LibArts</td>\n",
       "      <td>1200</td>\n",
       "      <td>46</td>\n",
       "      <td>18872</td>\n",
       "      <td>52</td>\n",
       "      <td>75</td>\n",
       "      <td>84</td>\n",
       "    </tr>\n",
       "    <tr>\n",
       "      <th>18</th>\n",
       "      <td>LibArts</td>\n",
       "      <td>1215</td>\n",
       "      <td>38</td>\n",
       "      <td>20722</td>\n",
       "      <td>51</td>\n",
       "      <td>86</td>\n",
       "      <td>85</td>\n",
       "    </tr>\n",
       "    <tr>\n",
       "      <th>19</th>\n",
       "      <td>LibArts</td>\n",
       "      <td>1240</td>\n",
       "      <td>36</td>\n",
       "      <td>17554</td>\n",
       "      <td>58</td>\n",
       "      <td>81</td>\n",
       "      <td>88</td>\n",
       "    </tr>\n",
       "    <tr>\n",
       "      <th>20</th>\n",
       "      <td>LibArts</td>\n",
       "      <td>1285</td>\n",
       "      <td>35</td>\n",
       "      <td>19418</td>\n",
       "      <td>71</td>\n",
       "      <td>91</td>\n",
       "      <td>87</td>\n",
       "    </tr>\n",
       "    <tr>\n",
       "      <th>21</th>\n",
       "      <td>LibArts</td>\n",
       "      <td>1258</td>\n",
       "      <td>38</td>\n",
       "      <td>17520</td>\n",
       "      <td>61</td>\n",
       "      <td>78</td>\n",
       "      <td>85</td>\n",
       "    </tr>\n",
       "    <tr>\n",
       "      <th>22</th>\n",
       "      <td>LibArts</td>\n",
       "      <td>1255</td>\n",
       "      <td>56</td>\n",
       "      <td>18847</td>\n",
       "      <td>70</td>\n",
       "      <td>81</td>\n",
       "      <td>84</td>\n",
       "    </tr>\n",
       "    <tr>\n",
       "      <th>23</th>\n",
       "      <td>LibArts</td>\n",
       "      <td>1170</td>\n",
       "      <td>49</td>\n",
       "      <td>20192</td>\n",
       "      <td>54</td>\n",
       "      <td>93</td>\n",
       "      <td>72</td>\n",
       "    </tr>\n",
       "    <tr>\n",
       "      <th>24</th>\n",
       "      <td>LibArts</td>\n",
       "      <td>1220</td>\n",
       "      <td>53</td>\n",
       "      <td>17653</td>\n",
       "      <td>69</td>\n",
       "      <td>98</td>\n",
       "      <td>80</td>\n",
       "    </tr>\n",
       "    <tr>\n",
       "      <th>25</th>\n",
       "      <td>Univ</td>\n",
       "      <td>1370</td>\n",
       "      <td>18</td>\n",
       "      <td>46918</td>\n",
       "      <td>90</td>\n",
       "      <td>99</td>\n",
       "      <td>90</td>\n",
       "    </tr>\n",
       "    <tr>\n",
       "      <th>26</th>\n",
       "      <td>Univ</td>\n",
       "      <td>1370</td>\n",
       "      <td>18</td>\n",
       "      <td>61921</td>\n",
       "      <td>92</td>\n",
       "      <td>96</td>\n",
       "      <td>88</td>\n",
       "    </tr>\n",
       "    <tr>\n",
       "      <th>27</th>\n",
       "      <td>Univ</td>\n",
       "      <td>1350</td>\n",
       "      <td>19</td>\n",
       "      <td>52468</td>\n",
       "      <td>90</td>\n",
       "      <td>97</td>\n",
       "      <td>93</td>\n",
       "    </tr>\n",
       "    <tr>\n",
       "      <th>28</th>\n",
       "      <td>Univ</td>\n",
       "      <td>1340</td>\n",
       "      <td>17</td>\n",
       "      <td>48123</td>\n",
       "      <td>89</td>\n",
       "      <td>99</td>\n",
       "      <td>93</td>\n",
       "    </tr>\n",
       "    <tr>\n",
       "      <th>29</th>\n",
       "      <td>Univ</td>\n",
       "      <td>1400</td>\n",
       "      <td>31</td>\n",
       "      <td>102262</td>\n",
       "      <td>98</td>\n",
       "      <td>98</td>\n",
       "      <td>75</td>\n",
       "    </tr>\n",
       "    <tr>\n",
       "      <th>30</th>\n",
       "      <td>Univ</td>\n",
       "      <td>1357</td>\n",
       "      <td>30</td>\n",
       "      <td>56766</td>\n",
       "      <td>95</td>\n",
       "      <td>98</td>\n",
       "      <td>86</td>\n",
       "    </tr>\n",
       "    <tr>\n",
       "      <th>31</th>\n",
       "      <td>Univ</td>\n",
       "      <td>1310</td>\n",
       "      <td>25</td>\n",
       "      <td>39504</td>\n",
       "      <td>91</td>\n",
       "      <td>95</td>\n",
       "      <td>91</td>\n",
       "    </tr>\n",
       "    <tr>\n",
       "      <th>32</th>\n",
       "      <td>Univ</td>\n",
       "      <td>1306</td>\n",
       "      <td>25</td>\n",
       "      <td>35804</td>\n",
       "      <td>86</td>\n",
       "      <td>100</td>\n",
       "      <td>95</td>\n",
       "    </tr>\n",
       "    <tr>\n",
       "      <th>33</th>\n",
       "      <td>Univ</td>\n",
       "      <td>1280</td>\n",
       "      <td>30</td>\n",
       "      <td>37137</td>\n",
       "      <td>85</td>\n",
       "      <td>90</td>\n",
       "      <td>83</td>\n",
       "    </tr>\n",
       "    <tr>\n",
       "      <th>34</th>\n",
       "      <td>Univ</td>\n",
       "      <td>1268</td>\n",
       "      <td>29</td>\n",
       "      <td>45879</td>\n",
       "      <td>78</td>\n",
       "      <td>93</td>\n",
       "      <td>90</td>\n",
       "    </tr>\n",
       "    <tr>\n",
       "      <th>35</th>\n",
       "      <td>Univ</td>\n",
       "      <td>1300</td>\n",
       "      <td>45</td>\n",
       "      <td>38937</td>\n",
       "      <td>74</td>\n",
       "      <td>100</td>\n",
       "      <td>73</td>\n",
       "    </tr>\n",
       "    <tr>\n",
       "      <th>36</th>\n",
       "      <td>Univ</td>\n",
       "      <td>1281</td>\n",
       "      <td>24</td>\n",
       "      <td>24201</td>\n",
       "      <td>80</td>\n",
       "      <td>98</td>\n",
       "      <td>90</td>\n",
       "    </tr>\n",
       "    <tr>\n",
       "      <th>37</th>\n",
       "      <td>Univ</td>\n",
       "      <td>1280</td>\n",
       "      <td>41</td>\n",
       "      <td>30882</td>\n",
       "      <td>87</td>\n",
       "      <td>99</td>\n",
       "      <td>86</td>\n",
       "    </tr>\n",
       "    <tr>\n",
       "      <th>38</th>\n",
       "      <td>Univ</td>\n",
       "      <td>1176</td>\n",
       "      <td>37</td>\n",
       "      <td>23665</td>\n",
       "      <td>95</td>\n",
       "      <td>93</td>\n",
       "      <td>68</td>\n",
       "    </tr>\n",
       "    <tr>\n",
       "      <th>39</th>\n",
       "      <td>Univ</td>\n",
       "      <td>1290</td>\n",
       "      <td>48</td>\n",
       "      <td>45460</td>\n",
       "      <td>69</td>\n",
       "      <td>58</td>\n",
       "      <td>86</td>\n",
       "    </tr>\n",
       "    <tr>\n",
       "      <th>40</th>\n",
       "      <td>Univ</td>\n",
       "      <td>1327</td>\n",
       "      <td>24</td>\n",
       "      <td>26730</td>\n",
       "      <td>85</td>\n",
       "      <td>95</td>\n",
       "      <td>88</td>\n",
       "    </tr>\n",
       "    <tr>\n",
       "      <th>41</th>\n",
       "      <td>Univ</td>\n",
       "      <td>1142</td>\n",
       "      <td>43</td>\n",
       "      <td>26859</td>\n",
       "      <td>96</td>\n",
       "      <td>100</td>\n",
       "      <td>61</td>\n",
       "    </tr>\n",
       "    <tr>\n",
       "      <th>42</th>\n",
       "      <td>Univ</td>\n",
       "      <td>1218</td>\n",
       "      <td>37</td>\n",
       "      <td>19365</td>\n",
       "      <td>77</td>\n",
       "      <td>91</td>\n",
       "      <td>88</td>\n",
       "    </tr>\n",
       "    <tr>\n",
       "      <th>43</th>\n",
       "      <td>Univ</td>\n",
       "      <td>1278</td>\n",
       "      <td>24</td>\n",
       "      <td>23115</td>\n",
       "      <td>79</td>\n",
       "      <td>89</td>\n",
       "      <td>89</td>\n",
       "    </tr>\n",
       "    <tr>\n",
       "      <th>44</th>\n",
       "      <td>Univ</td>\n",
       "      <td>1109</td>\n",
       "      <td>32</td>\n",
       "      <td>19684</td>\n",
       "      <td>82</td>\n",
       "      <td>84</td>\n",
       "      <td>73</td>\n",
       "    </tr>\n",
       "    <tr>\n",
       "      <th>45</th>\n",
       "      <td>Univ</td>\n",
       "      <td>1195</td>\n",
       "      <td>60</td>\n",
       "      <td>21853</td>\n",
       "      <td>71</td>\n",
       "      <td>93</td>\n",
       "      <td>77</td>\n",
       "    </tr>\n",
       "    <tr>\n",
       "      <th>46</th>\n",
       "      <td>Univ</td>\n",
       "      <td>1225</td>\n",
       "      <td>64</td>\n",
       "      <td>33607</td>\n",
       "      <td>52</td>\n",
       "      <td>84</td>\n",
       "      <td>77</td>\n",
       "    </tr>\n",
       "    <tr>\n",
       "      <th>47</th>\n",
       "      <td>Univ</td>\n",
       "      <td>1230</td>\n",
       "      <td>47</td>\n",
       "      <td>28851</td>\n",
       "      <td>77</td>\n",
       "      <td>79</td>\n",
       "      <td>82</td>\n",
       "    </tr>\n",
       "    <tr>\n",
       "      <th>48</th>\n",
       "      <td>Univ</td>\n",
       "      <td>1225</td>\n",
       "      <td>54</td>\n",
       "      <td>39883</td>\n",
       "      <td>71</td>\n",
       "      <td>98</td>\n",
       "      <td>76</td>\n",
       "    </tr>\n",
       "    <tr>\n",
       "      <th>49</th>\n",
       "      <td>Univ</td>\n",
       "      <td>1155</td>\n",
       "      <td>56</td>\n",
       "      <td>38597</td>\n",
       "      <td>52</td>\n",
       "      <td>96</td>\n",
       "      <td>73</td>\n",
       "    </tr>\n",
       "  </tbody>\n",
       "</table>\n",
       "</div>"
      ],
      "text/plain": [
       "   School_Type   SAT  Acceptance  $/Student  Top10%  %PhD  Grad%\n",
       "0      LibArts  1315          22      26636      85    81     93\n",
       "1      LibArts  1310          24      27487      78    93     88\n",
       "2      LibArts  1336          28      23772      86    90     93\n",
       "3      LibArts  1300          24      25703      78    95     90\n",
       "4      LibArts  1250          49      27879      76    91     86\n",
       "5      LibArts  1320          33      26668      79    98     80\n",
       "6      LibArts  1290          35      19948      73    87     91\n",
       "7      LibArts  1255          25      24718      65    89     92\n",
       "8      LibArts  1195          57      25271      65    90     87\n",
       "9      LibArts  1230          36      17721      77    94     89\n",
       "10     LibArts  1287          43      20179      53    90     84\n",
       "11     LibArts  1300          40      19504      75    82     80\n",
       "12     LibArts  1260          36      20377      68    94     74\n",
       "13     LibArts  1247          54      23591      64    98     77\n",
       "14     LibArts  1234          29      17998      61    89     78\n",
       "15     LibArts  1244          67      22301      65    79     73\n",
       "16     LibArts  1200          61      23358      47    83     83\n",
       "17     LibArts  1200          46      18872      52    75     84\n",
       "18     LibArts  1215          38      20722      51    86     85\n",
       "19     LibArts  1240          36      17554      58    81     88\n",
       "20     LibArts  1285          35      19418      71    91     87\n",
       "21     LibArts  1258          38      17520      61    78     85\n",
       "22     LibArts  1255          56      18847      70    81     84\n",
       "23     LibArts  1170          49      20192      54    93     72\n",
       "24     LibArts  1220          53      17653      69    98     80\n",
       "25        Univ  1370          18      46918      90    99     90\n",
       "26        Univ  1370          18      61921      92    96     88\n",
       "27        Univ  1350          19      52468      90    97     93\n",
       "28        Univ  1340          17      48123      89    99     93\n",
       "29        Univ  1400          31     102262      98    98     75\n",
       "30        Univ  1357          30      56766      95    98     86\n",
       "31        Univ  1310          25      39504      91    95     91\n",
       "32        Univ  1306          25      35804      86   100     95\n",
       "33        Univ  1280          30      37137      85    90     83\n",
       "34        Univ  1268          29      45879      78    93     90\n",
       "35        Univ  1300          45      38937      74   100     73\n",
       "36        Univ  1281          24      24201      80    98     90\n",
       "37        Univ  1280          41      30882      87    99     86\n",
       "38        Univ  1176          37      23665      95    93     68\n",
       "39        Univ  1290          48      45460      69    58     86\n",
       "40        Univ  1327          24      26730      85    95     88\n",
       "41        Univ  1142          43      26859      96   100     61\n",
       "42        Univ  1218          37      19365      77    91     88\n",
       "43        Univ  1278          24      23115      79    89     89\n",
       "44        Univ  1109          32      19684      82    84     73\n",
       "45        Univ  1195          60      21853      71    93     77\n",
       "46        Univ  1225          64      33607      52    84     77\n",
       "47        Univ  1230          47      28851      77    79     82\n",
       "48        Univ  1225          54      39883      71    98     76\n",
       "49        Univ  1155          56      38597      52    96     73"
      ]
     },
     "execution_count": 21,
     "metadata": {},
     "output_type": "execute_result"
    }
   ],
   "source": [
    "a"
   ]
  },
  {
   "cell_type": "code",
   "execution_count": 22,
   "metadata": {},
   "outputs": [
    {
     "data": {
      "image/png": "[encoded data removed]",
      "text/plain": [
       "<Figure size 1224x792 with 6 Axes>"
      ]
     },
     "metadata": {
      "needs_background": "light"
     },
     "output_type": "display_data"
    }
   ],
   "source": [
    "plt.figure(figsize=(17,11))\n",
    "for i, j in enumerate(['SAT', 'Acceptance', '$/Student', 'Top10%', '%PhD', 'Grad%']):\n",
    "    plt.subplot(2,3,i+1)\n",
    "    sns.boxplot(x='School_Type', y=j, orient='v', data=a)"
   ]
  },
  {
   "cell_type": "code",
   "execution_count": 23,
   "metadata": {},
   "outputs": [
    {
     "data": {
      "image/png": "[encoded data removed]",
      "text/plain": [
       "<Figure size 1440x1440 with 12 Axes>"
      ]
     },
     "metadata": {
      "needs_background": "light"
     },
     "output_type": "display_data"
    }
   ],
   "source": [
    "plt.figure(figsize=(20,20))\n",
    "j = 1\n",
    "for i in ['SAT', 'Acceptance', '$/Student', 'Top10%', '%PhD', 'Grad%']:\n",
    "    plt.subplot(6,2,j)\n",
    "    plt.hist(a[a['School_Type']=='LibArts'][i], int(1.72*len(a)**(1/3)))\n",
    "    plt.title(i+' LibArts')\n",
    "    plt.subplot(6,2,j+1)\n",
    "    plt.hist(a[a['School_Type']=='Univ'][i], int(1.72*len(a)**(1/3)))\n",
    "    plt.title(i+' Univs')\n",
    "    j += 2"
   ]
  },
  {
   "cell_type": "code",
   "execution_count": 24,
   "metadata": {},
   "outputs": [
    {
     "data": {
      "text/plain": [
       "1256.64"
      ]
     },
     "execution_count": 24,
     "metadata": {},
     "output_type": "execute_result"
    }
   ],
   "source": [
    "np.average(a[a['School_Type']=='LibArts'][\"SAT\"])"
   ]
  },
  {
   "cell_type": "code",
   "execution_count": 25,
   "metadata": {},
   "outputs": [
    {
     "data": {
      "text/plain": [
       "(45, 45.0)"
      ]
     },
     "execution_count": 25,
     "metadata": {},
     "output_type": "execute_result"
    }
   ],
   "source": [
    "qartile(0.75, a[a['School_Type']=='Univ'][\"Acceptance\"]), np.percentile(a[a['School_Type']=='Univ'][\"Acceptance\"], 75)"
   ]
  },
  {
   "cell_type": "code",
   "execution_count": 26,
   "metadata": {},
   "outputs": [
    {
     "data": {
      "text/html": [
       "<div>\n",
       "<style scoped>\n",
       "    .dataframe tbody tr th:only-of-type {\n",
       "        vertical-align: middle;\n",
       "    }\n",
       "\n",
       "    .dataframe tbody tr th {\n",
       "        vertical-align: top;\n",
       "    }\n",
       "\n",
       "    .dataframe thead th {\n",
       "        text-align: right;\n",
       "    }\n",
       "</style>\n",
       "<table border=\"1\" class=\"dataframe\">\n",
       "  <thead>\n",
       "    <tr style=\"text-align: right;\">\n",
       "      <th></th>\n",
       "      <th>School_Type</th>\n",
       "      <th>SAT</th>\n",
       "      <th>Acceptance</th>\n",
       "      <th>$/Student</th>\n",
       "      <th>Top10%</th>\n",
       "      <th>%PhD</th>\n",
       "      <th>Grad%</th>\n",
       "    </tr>\n",
       "  </thead>\n",
       "  <tbody>\n",
       "    <tr>\n",
       "      <th>29</th>\n",
       "      <td>Univ</td>\n",
       "      <td>1400</td>\n",
       "      <td>31</td>\n",
       "      <td>102262</td>\n",
       "      <td>98</td>\n",
       "      <td>98</td>\n",
       "      <td>75</td>\n",
       "    </tr>\n",
       "  </tbody>\n",
       "</table>\n",
       "</div>"
      ],
      "text/plain": [
       "   School_Type   SAT  Acceptance  $/Student  Top10%  %PhD  Grad%\n",
       "29        Univ  1400          31     102262      98    98     75"
      ]
     },
     "execution_count": 26,
     "metadata": {},
     "output_type": "execute_result"
    }
   ],
   "source": [
    "m = np.max(a[a['School_Type']=='Univ']['$/Student'])\n",
    "a[a['$/Student'] == m]"
   ]
  },
  {
   "cell_type": "code",
   "execution_count": null,
   "metadata": {},
   "outputs": [],
   "source": []
  },
  {
   "cell_type": "code",
   "execution_count": 27,
   "metadata": {},
   "outputs": [],
   "source": [
    "d = [17.4, 19.9, 19.9, 19.0, 20.7, 18.2, 18.6, 20.3, 21.7, 20.8, 16.7, 20.3, 22.5, 18.3, 21.1, 16.3, 22.0, 19.5, 18.1, 21.1, 20.0, 21.6, 21.5, 21.1, 23.3, 23.0, 17.8, 19.5, 21.6, 22.9]"
   ]
  },
  {
   "cell_type": "code",
   "execution_count": 28,
   "metadata": {},
   "outputs": [
    {
     "data": {
      "text/plain": [
       "(3.413788888888889, 3.413788888888889)"
      ]
     },
     "execution_count": 28,
     "metadata": {},
     "output_type": "execute_result"
    }
   ],
   "source": [
    "np.var(d), variance(d)"
   ]
  },
  {
   "cell_type": "code",
   "execution_count": 29,
   "metadata": {},
   "outputs": [
    {
     "data": {
      "text/plain": [
       "-11.298698025887505"
      ]
     },
     "execution_count": 29,
     "metadata": {},
     "output_type": "execute_result"
    }
   ],
   "source": [
    "-15+4*np.log(3)-(np.log(2)+4*np.log(1))"
   ]
  },
  {
   "cell_type": "code",
   "execution_count": 30,
   "metadata": {},
   "outputs": [],
   "source": [
    "d = [-11.63, -6.4, -10.07, -3.14, -12.26, -12.4, -15.15, -18.35, -15.68, -9.26, -7.03, -18.9, -3.36, -12.61, -3.43, -10.6, -9.51, -5.43, -9.35, -7.14]"
   ]
  },
  {
   "cell_type": "code",
   "execution_count": 31,
   "metadata": {},
   "outputs": [
    {
     "data": {
      "text/plain": [
       "-3.14"
      ]
     },
     "execution_count": 31,
     "metadata": {},
     "output_type": "execute_result"
    }
   ],
   "source": [
    "np.max(d)"
   ]
  },
  {
   "cell_type": "code",
   "execution_count": 32,
   "metadata": {},
   "outputs": [
    {
     "data": {
      "text/plain": [
       "-18.9"
      ]
     },
     "execution_count": 32,
     "metadata": {},
     "output_type": "execute_result"
    }
   ],
   "source": [
    "np.min(d)"
   ]
  },
  {
   "cell_type": "code",
   "execution_count": 33,
   "metadata": {},
   "outputs": [
    {
     "data": {
      "text/plain": [
       "0.3333333333333333"
      ]
     },
     "execution_count": 33,
     "metadata": {},
     "output_type": "execute_result"
    }
   ],
   "source": [
    "1/3"
   ]
  },
  {
   "cell_type": "code",
   "execution_count": null,
   "metadata": {},
   "outputs": [],
   "source": []
  },
  {
   "cell_type": "code",
   "execution_count": 34,
   "metadata": {},
   "outputs": [],
   "source": [
    "with open(\"../sample_2_4.txt\", \"rt\") as f:\n",
    "    d = f.readlines()"
   ]
  },
  {
   "cell_type": "code",
   "execution_count": 36,
   "metadata": {},
   "outputs": [],
   "source": [
    "d = [(int(i[0]),'p' if i[2]=='F' else 'g') for i in d]"
   ]
  },
  {
   "cell_type": "code",
   "execution_count": 37,
   "metadata": {},
   "outputs": [
    {
     "data": {
      "text/plain": [
       "[(4, 'p'),\n",
       " (1, 'p'),\n",
       " (1, 'p'),\n",
       " (1, 'g'),\n",
       " (3, 'p'),\n",
       " (1, 'p'),\n",
       " (2, 'g'),\n",
       " (4, 'p'),\n",
       " (2, 'p'),\n",
       " (2, 'g'),\n",
       " (1, 'p'),\n",
       " (2, 'g'),\n",
       " (1, 'p'),\n",
       " (3, 'p'),\n",
       " (5, 'g'),\n",
       " (1, 'p'),\n",
       " (2, 'p'),\n",
       " (1, 'g'),\n",
       " (1, 'p'),\n",
       " (3, 'p'),\n",
       " (2, 'g'),\n",
       " (2, 'p'),\n",
       " (1, 'g'),\n",
       " (4, 'p'),\n",
       " (1, 'g'),\n",
       " (1, 'p'),\n",
       " (1, 'p'),\n",
       " (3, 'p'),\n",
       " (1, 'g'),\n",
       " (1, 'p'),\n",
       " (2, 'g'),\n",
       " (3, 'p'),\n",
       " (1, 'p'),\n",
       " (4, 'p'),\n",
       " (1, 'p'),\n",
       " (1, 'p'),\n",
       " (1, 'p'),\n",
       " (1, 'p'),\n",
       " (2, 'p'),\n",
       " (1, 'p'),\n",
       " (2, 'p'),\n",
       " (2, 'p'),\n",
       " (1, 'p'),\n",
       " (1, 'p'),\n",
       " (1, 'p'),\n",
       " (2, 'p'),\n",
       " (2, 'p'),\n",
       " (1, 'g'),\n",
       " (4, 'g'),\n",
       " (2, 'g'),\n",
       " (2, 'g'),\n",
       " (2, 'p'),\n",
       " (1, 'p'),\n",
       " (1, 'p'),\n",
       " (3, 'p'),\n",
       " (2, 'p'),\n",
       " (2, 'p'),\n",
       " (1, 'g'),\n",
       " (2, 'p'),\n",
       " (1, 'p'),\n",
       " (2, 'p'),\n",
       " (3, 'p'),\n",
       " (1, 'p'),\n",
       " (1, 'p'),\n",
       " (2, 'g'),\n",
       " (2, 'p'),\n",
       " (1, 'p'),\n",
       " (1, 'g'),\n",
       " (1, 'p'),\n",
       " (1, 'p'),\n",
       " (2, 'p'),\n",
       " (2, 'p'),\n",
       " (1, 'p'),\n",
       " (1, 'p'),\n",
       " (3, 'g'),\n",
       " (1, 'p'),\n",
       " (1, 'g'),\n",
       " (1, 'p'),\n",
       " (1, 'p'),\n",
       " (3, 'p'),\n",
       " (1, 'p'),\n",
       " (1, 'p'),\n",
       " (1, 'p'),\n",
       " (1, 'p'),\n",
       " (3, 'p'),\n",
       " (1, 'p'),\n",
       " (1, 'p'),\n",
       " (2, 'p'),\n",
       " (3, 'p'),\n",
       " (1, 'g'),\n",
       " (1, 'p'),\n",
       " (1, 'p'),\n",
       " (2, 'p'),\n",
       " (5, 'p'),\n",
       " (2, 'g'),\n",
       " (1, 'p'),\n",
       " (3, 'p'),\n",
       " (1, 'p'),\n",
       " (1, 'p'),\n",
       " (2, 'p')]"
      ]
     },
     "execution_count": 37,
     "metadata": {},
     "output_type": "execute_result"
    }
   ],
   "source": [
    "d"
   ]
  },
  {
   "cell_type": "code",
   "execution_count": 45,
   "metadata": {},
   "outputs": [
    {
     "data": {
      "text/plain": [
       "'(1-g)^(75)*(1-p)^(97)*p^78*g^22'"
      ]
     },
     "execution_count": 45,
     "metadata": {},
     "output_type": "execute_result"
    }
   ],
   "source": [
    "s = sum([i-1 for i, j in d])\n",
    "\n",
    "r = f'(1-g)^({s})*(1-p)^({[j for i, j in d].count(\"g\")+s})*p^{[j for i, j in d].count(\"p\")}*g^{[j for i, j in d].count(\"g\")}'\n",
    "    \n",
    "r"
   ]
  },
  {
   "cell_type": "code",
   "execution_count": 46,
   "metadata": {},
   "outputs": [
    {
     "data": {
      "text/plain": [
       "0.44571428571428573"
      ]
     },
     "execution_count": 46,
     "metadata": {},
     "output_type": "execute_result"
    }
   ],
   "source": [
    "78/175 #p"
   ]
  },
  {
   "cell_type": "code",
   "execution_count": 43,
   "metadata": {},
   "outputs": [
    {
     "data": {
      "text/plain": [
       "0.2268041237113402"
      ]
     },
     "execution_count": 43,
     "metadata": {},
     "output_type": "execute_result"
    }
   ],
   "source": [
    "22/97 #g"
   ]
  },
  {
   "cell_type": "code",
   "execution_count": 48,
   "metadata": {},
   "outputs": [],
   "source": [
    "from scipy.stats import expon"
   ]
  },
  {
   "cell_type": "code",
   "execution_count": 61,
   "metadata": {},
   "outputs": [],
   "source": [
    "exp = expon(scale=1/5)"
   ]
  },
  {
   "cell_type": "code",
   "execution_count": 66,
   "metadata": {},
   "outputs": [],
   "source": [
    "li_e = [exp.rvs(1000) for i in range(5000)]"
   ]
  },
  {
   "cell_type": "code",
   "execution_count": 67,
   "metadata": {},
   "outputs": [
    {
     "data": {
      "text/plain": [
       "array([6.36730645e-03, 1.53396649e-02, 1.30450383e-01, 2.26759894e-01,\n",
       "       3.05191986e-01, 4.26908206e-01, 2.39492131e-01, 2.62711582e-02,\n",
       "       1.67930824e-01, 7.74277652e-02, 6.93889696e-02, 1.27587778e-01,\n",
       "       2.17331095e-01, 8.10700251e-02, 3.04538274e-02, 2.50993687e-01,\n",
       "       1.19332953e-01, 2.82362936e-02, 2.45675418e-02, 3.49364031e-02,\n",
       "       1.70589736e-01, 8.95419486e-02, 6.92650103e-01, 4.96647625e-01,\n",
       "       1.15275010e-01, 2.86287646e-01, 9.50845363e-02, 2.68533170e-02,\n",
       "       9.46984510e-03, 1.55499807e-01, 3.77290666e-01, 3.02715542e-01,\n",
       "       9.72405016e-02, 1.38253772e-02, 7.60378312e-02, 5.66591894e-02,\n",
       "       3.06345044e-01, 3.83160312e-01, 2.74058303e-02, 4.89475284e-02,\n",
       "       8.25563171e-02, 2.21760458e-02, 3.35534517e-03, 7.10939508e-02,\n",
       "       4.94479395e-02, 3.14505713e-02, 2.97951137e-01, 2.95494139e-02,\n",
       "       8.39938720e-03, 7.18732164e-01, 8.36924952e-01, 5.67856916e-01,\n",
       "       6.28048339e-02, 7.00643690e-02, 7.75514004e-02, 2.73813514e-01,\n",
       "       8.31986120e-01, 6.19785963e-02, 2.61285667e-01, 3.20500761e-01,\n",
       "       3.34791991e-02, 3.48063225e-01, 4.60747854e-02, 1.39736388e-01,\n",
       "       1.87779656e-01, 4.09388458e-01, 6.21088998e-02, 2.21788819e-01,\n",
       "       1.77425259e-01, 1.33015924e-01, 1.13708462e-01, 6.13036333e-02,\n",
       "       4.81960457e-01, 7.00223235e-02, 2.01398128e-02, 1.12771042e-02,\n",
       "       8.49168890e-02, 1.95823025e-01, 6.33617294e-02, 1.15057512e-02,\n",
       "       1.94612155e-01, 1.85769632e-01, 3.94247230e-02, 1.33171705e-01,\n",
       "       2.29197642e-01, 4.31135281e-01, 1.66011560e-01, 8.67834248e-02,\n",
       "       2.99826322e-01, 7.81795948e-02, 4.93015521e-02, 8.60927007e-01,\n",
       "       9.41873858e-02, 1.62331976e-02, 4.35316777e-02, 6.65693741e-03,\n",
       "       2.37682193e-01, 1.46245626e-02, 8.62325649e-02, 1.89540596e-03,\n",
       "       3.51819881e-02, 1.63569114e-01, 1.98415520e-01, 9.20250637e-02,\n",
       "       3.00957968e-02, 4.15411702e-01, 5.31896219e-02, 3.31029955e-01,\n",
       "       3.57568042e-02, 4.08003431e-02, 1.61110747e-01, 2.91141984e-01,\n",
       "       4.26002089e-02, 1.10525785e-01, 9.95520710e-02, 3.08363544e-01,\n",
       "       3.61591216e-02, 2.49786492e-01, 2.47120937e-01, 8.05199338e-02,\n",
       "       3.56734215e-02, 9.52975797e-01, 1.74414044e-01, 6.09666213e-02,\n",
       "       3.09784619e-01, 1.65303779e-01, 5.92687894e-02, 5.35110330e-01,\n",
       "       3.40858198e-01, 5.97388241e-02, 7.38740678e-03, 2.14783053e-01,\n",
       "       4.58711546e-02, 4.75808707e-01, 4.36567107e-02, 1.08720965e-01,\n",
       "       4.75403821e-03, 5.06238082e-01, 1.38695822e-01, 1.04735410e-01,\n",
       "       8.52454230e-02, 1.77735742e-01, 2.67979304e-02, 1.81296423e-01,\n",
       "       1.12359548e-01, 1.70361687e-02, 1.53913392e-01, 8.43738564e-02,\n",
       "       4.57678281e-01, 3.54756892e-01, 2.34976706e-02, 2.56893383e-02,\n",
       "       3.14864319e-03, 7.61585916e-02, 2.10549662e-01, 3.48769426e-02,\n",
       "       1.11955962e+00, 2.26308960e-02, 1.09092570e-01, 3.79460095e-02,\n",
       "       3.42945024e-01, 2.23786568e-01, 5.27464770e-02, 8.23783482e-03,\n",
       "       3.11942164e-01, 4.55591374e-01, 1.25025823e-02, 2.83185534e-02,\n",
       "       5.79084756e-02, 5.02285147e-02, 5.15927325e-01, 2.74218476e-01,\n",
       "       3.85515408e-01, 1.31876099e-01, 3.67865631e-02, 1.71334162e-01,\n",
       "       2.76444920e-01, 5.22574407e-01, 9.05759471e-01, 5.49317932e-02,\n",
       "       1.19977153e-01, 1.15368355e-01, 7.12198617e-01, 3.14286213e-01,\n",
       "       3.25936923e-01, 2.31176543e-01, 6.73802977e-02, 3.05517472e-01,\n",
       "       9.43376645e-01, 4.12874678e-01, 3.46447275e-01, 5.92925953e-02,\n",
       "       4.53637929e-02, 3.21213536e-01, 2.48970639e-01, 9.54653454e-02,\n",
       "       2.62263582e-01, 5.53333962e-02, 1.51528647e-01, 1.04809200e-02,\n",
       "       2.30213902e-01, 4.03702433e-01, 4.23415486e-01, 1.03222589e-01,\n",
       "       1.56360596e-02, 1.42920494e-01, 5.44949682e-01, 1.20933682e-02,\n",
       "       3.55324548e-02, 8.90834636e-02, 3.15759989e-01, 7.03651292e-02,\n",
       "       3.14515079e-03, 1.42322998e-01, 2.07063722e-01, 4.45187611e-02,\n",
       "       3.77739288e-02, 3.23879033e-01, 3.45109881e-01, 7.31093003e-02,\n",
       "       6.31557993e-03, 4.00224640e-02, 6.20048228e-02, 1.64054439e-01,\n",
       "       8.54091966e-02, 1.55011991e-01, 2.47747465e-01, 2.10129689e-01,\n",
       "       6.59277785e-01, 5.99404748e-01, 1.74022762e-01, 4.47968959e-01,\n",
       "       7.72152554e-01, 1.43591092e-01, 1.49385615e-02, 1.58060183e-01,\n",
       "       3.14637917e-01, 4.13654103e-02, 6.37663187e-02, 3.79309621e-02,\n",
       "       2.12628039e-02, 1.78053990e-02, 5.23678471e-02, 1.64115865e-01,\n",
       "       3.38958541e-02, 1.29266716e-01, 9.46380952e-02, 4.17779473e-03,\n",
       "       4.50611020e-02, 3.57904125e-01, 1.13661162e-01, 1.43975505e-01,\n",
       "       7.05691071e-01, 8.39906736e-02, 6.50669370e-02, 1.92381674e-01,\n",
       "       2.48295405e-01, 2.88001668e-01, 4.89767500e-02, 5.26469653e-01,\n",
       "       1.17204727e+00, 2.97908690e-01, 1.87426927e-01, 4.23240025e-01,\n",
       "       2.61223094e-01, 2.32040199e-01, 3.01244343e-02, 9.66211550e-02,\n",
       "       1.44714693e-01, 1.25940313e-02, 7.20944888e-01, 3.87198236e-01,\n",
       "       1.86810134e-01, 3.84844616e-02, 2.56366311e-01, 7.67566892e-02,\n",
       "       1.64466770e-03, 4.33613190e-02, 5.13335173e-01, 5.88650990e-01,\n",
       "       6.87455193e-02, 1.23792148e-01, 6.02277807e-02, 3.48305783e-01,\n",
       "       4.79929468e-01, 6.78088319e-02, 6.13532784e-02, 2.48680989e-01,\n",
       "       1.26565465e-01, 3.76929107e-01, 2.70739588e-01, 1.44012375e-01,\n",
       "       1.03656621e+00, 1.43502429e-01, 1.12126972e-01, 4.16730128e-02,\n",
       "       2.73866271e-01, 1.97851595e-01, 1.33554221e-03, 1.42832128e-01,\n",
       "       3.06449532e-01, 1.96426594e-02, 9.56077824e-02, 9.99550071e-02,\n",
       "       2.58659359e-02, 1.15435746e-01, 2.31302214e-02, 2.86138267e-01,\n",
       "       6.53671004e-01, 1.22297270e-01, 3.18441134e-01, 1.19854443e-01,\n",
       "       1.88414222e-01, 4.90045820e-01, 9.20040132e-02, 4.11163352e-01,\n",
       "       2.46444585e-01, 6.02297140e-01, 1.99978918e-01, 3.03153844e-01,\n",
       "       5.22299388e-01, 3.77603407e-01, 4.25156187e-02, 2.30963344e-01,\n",
       "       1.80031654e-02, 1.51558576e-02, 8.01862556e-02, 1.60729447e-01,\n",
       "       2.89237139e-01, 9.19224435e-02, 1.83756852e-01, 4.66172406e-01,\n",
       "       8.26446775e-03, 1.63412939e-01, 1.70102120e-01, 6.44782707e-02,\n",
       "       1.51409119e-02, 1.66117082e-01, 4.66366059e-02, 9.50751384e-02,\n",
       "       3.90099939e-01, 2.50481038e-01, 5.26842700e-02, 4.22269336e-01,\n",
       "       3.52398809e-01, 1.77563507e-01, 1.47499504e-01, 5.09300607e-01,\n",
       "       5.84545930e-02, 2.45340911e-01, 4.16908820e-01, 2.61160660e-01,\n",
       "       1.19548683e-01, 1.31183364e-01, 6.66861980e-02, 3.50208180e-02,\n",
       "       1.85231675e-02, 1.50757745e-01, 3.38376545e-01, 3.60684198e-01,\n",
       "       2.19864242e-01, 3.25734636e-01, 1.73436966e-01, 9.31248626e-02,\n",
       "       2.81485205e-01, 4.76347009e-01, 3.54730731e-02, 1.78175452e-02,\n",
       "       3.14513430e-02, 1.51700100e-01, 5.12034875e-01, 3.14056664e-02,\n",
       "       5.02911343e-01, 6.00038894e-02, 5.53060397e-02, 1.99422787e-02,\n",
       "       1.57118289e-01, 1.26214209e-01, 3.98808966e-02, 8.83427220e-02,\n",
       "       5.97783379e-02, 9.39836662e-03, 9.50565036e-03, 7.76175340e-03,\n",
       "       4.01603358e-01, 2.34615872e-02, 1.74939772e-01, 3.56142272e-01,\n",
       "       1.03634124e-02, 6.64586525e-02, 1.84818444e-01, 7.36312538e-02,\n",
       "       6.24298411e-01, 2.90473053e-02, 2.58596827e-02, 4.77629158e-01,\n",
       "       2.82610615e-02, 2.61779540e-01, 1.70313937e-01, 2.02799384e-01,\n",
       "       3.02437426e-02, 2.04161190e-01, 1.29361842e-01, 1.68198751e-02,\n",
       "       2.20772225e-02, 2.10727999e-01, 1.01343760e-01, 8.63231250e-02,\n",
       "       9.72101965e-02, 2.43843440e-02, 1.47732978e-02, 1.27242200e-01,\n",
       "       1.45556032e-01, 7.49872854e-01, 1.03833408e-02, 7.36063132e-03,\n",
       "       2.95834051e-01, 1.53429987e-01, 1.80462785e-02, 2.19257662e-01,\n",
       "       1.50059532e-01, 6.26081655e-01, 2.18936938e-01, 3.04449894e-01,\n",
       "       2.08636907e-01, 8.36577447e-02, 3.10572155e-01, 1.49193768e-01,\n",
       "       6.23503524e-01, 1.08815013e-01, 1.66091473e-01, 2.22339732e-01,\n",
       "       1.99617873e-02, 2.76280305e-02, 2.75237607e-01, 1.78735948e-02,\n",
       "       1.04231838e-01, 2.82882397e-01, 4.35231321e-01, 3.02753667e-01,\n",
       "       2.29241489e-01, 3.27136852e-02, 1.38292350e-01, 4.56742086e-01,\n",
       "       2.58098853e-01, 1.58277149e-01, 4.47965923e-02, 4.52385878e-01,\n",
       "       2.68935689e-01, 1.70890336e-01, 1.01604902e-01, 4.73301579e-02,\n",
       "       2.48374011e-02, 5.96088123e-02, 1.72197336e-01, 1.84249225e-01,\n",
       "       3.76726472e-01, 8.92655284e-04, 1.88011281e-02, 2.06884362e-01,\n",
       "       2.08469355e-01, 1.66163674e-02, 4.56977907e-01, 2.09458514e-01,\n",
       "       3.32694136e-01, 6.27142170e-02, 3.43011798e-02, 2.20727178e-01,\n",
       "       4.12284866e-01, 4.79433958e-01, 4.30533746e-02, 4.03669083e-01,\n",
       "       5.24144303e-01, 2.91829035e-02, 1.64207400e-01, 2.76060144e-01,\n",
       "       1.76017614e-02, 7.04199136e-02, 6.64034005e-02, 1.06198384e+00,\n",
       "       1.63441077e-01, 6.02440428e-01, 2.68958788e-02, 4.21806366e-04,\n",
       "       4.11604638e-02, 4.92616038e-01, 1.08781964e-03, 4.65051372e-01,\n",
       "       3.68752590e-03, 6.17474952e-01, 3.72259175e-02, 8.72434417e-01,\n",
       "       9.91422893e-02, 6.76552356e-02, 3.21477647e-01, 3.15499218e-02,\n",
       "       4.10386638e-02, 3.34142493e-01, 3.46757602e-01, 3.98282532e-02,\n",
       "       1.74290304e-01, 4.20626832e-01, 7.96010770e-02, 4.45209640e-02,\n",
       "       9.22650763e-02, 6.47270483e-02, 4.49073811e-02, 2.51995954e-02,\n",
       "       3.35852547e-02, 2.03739831e-01, 1.37274511e-02, 6.90284145e-02,\n",
       "       7.35003801e-01, 1.56671063e-01, 6.00241734e-02, 1.79021401e-01,\n",
       "       2.30936882e-01, 7.00829558e-02, 6.62137058e-02, 4.07097487e-01,\n",
       "       1.84125694e-01, 2.98692601e-01, 2.05477117e-02, 1.96498980e-01,\n",
       "       2.84614961e-02, 1.73469078e-01, 1.00218147e-01, 2.19895947e-02,\n",
       "       1.04837832e-02, 4.60529765e-01, 1.06222811e-01, 1.12569213e-01,\n",
       "       3.11517589e-01, 7.89709096e-02, 1.54149384e-01, 5.33319728e-02,\n",
       "       1.96293436e-01, 3.79478960e-02, 1.00673947e-01, 9.90385217e-01,\n",
       "       1.03631944e-01, 4.11554544e-01, 1.13627828e-01, 6.29291204e-02,\n",
       "       5.11139487e-02, 2.65875411e-01, 4.02558128e-02, 7.71800706e-02,\n",
       "       5.58361972e-02, 2.80541702e-02, 1.31487630e-01, 2.01454634e-01,\n",
       "       3.91144824e-02, 7.44771294e-03, 3.61089304e-01, 4.74659249e-01,\n",
       "       8.05481871e-02, 1.46084398e-01, 1.17512218e-01, 6.90552843e-02,\n",
       "       1.00341851e-01, 1.12533854e-01, 5.38555029e-02, 2.14782251e-01,\n",
       "       9.47123259e-03, 1.56652349e-02, 1.19399456e-01, 3.49429134e-02,\n",
       "       4.34733028e-02, 3.40562420e-01, 6.14550229e-03, 2.06664730e-01,\n",
       "       2.59862024e-01, 1.33776986e-02, 2.94620174e-02, 5.30403271e-02,\n",
       "       6.45420922e-02, 1.57423952e-01, 6.96441961e-02, 6.35449305e-02,\n",
       "       6.79924963e-02, 2.57699503e-01, 7.70707488e-01, 7.77784305e-01,\n",
       "       3.98134575e-02, 3.13569231e-01, 2.43867370e-01, 3.57407822e-02,\n",
       "       5.84658745e-01, 9.13829311e-02, 1.94639498e-01, 5.08580379e-01,\n",
       "       1.45282428e-02, 3.12151200e-01, 2.37380388e-01, 1.94955750e-01,\n",
       "       3.24726160e-01, 1.01729448e-03, 2.99917648e-02, 1.04906008e+00,\n",
       "       7.15099264e-02, 1.40870071e-01, 8.78965424e-03, 3.46741954e-02,\n",
       "       3.32738341e-01, 2.11006615e-01, 3.74204016e-02, 5.02340221e-01,\n",
       "       3.64942318e-01, 4.91747911e-02, 3.13201617e-01, 1.01644483e-01,\n",
       "       1.62328708e-01, 2.68885281e-02, 5.69942911e-01, 1.74618473e-01,\n",
       "       1.21915773e-01, 5.06668992e-01, 3.11448220e-02, 1.92948327e-01,\n",
       "       1.06024389e-01, 5.26734618e-01, 2.33233316e-02, 9.05090637e-02,\n",
       "       7.27678344e-02, 6.89563425e-02, 4.65132276e-01, 8.29327227e-02,\n",
       "       3.47494898e-01, 2.09419812e-02, 1.15847200e-01, 9.51722671e-01,\n",
       "       7.18058957e-01, 4.50192563e-01, 2.85052143e-01, 7.71860043e-02,\n",
       "       2.97797306e-01, 2.47041693e-01, 1.50185253e-03, 1.41392402e-01,\n",
       "       1.71600932e-01, 5.63300492e-01, 2.13129433e-01, 2.56355500e-01,\n",
       "       1.24097774e-01, 1.76646143e-01, 2.81435961e-01, 1.56564908e-01,\n",
       "       2.82290581e-01, 1.35195646e-01, 1.10410566e-01, 1.61122078e-01,\n",
       "       7.53804796e-02, 3.34295992e-02, 1.33433898e-01, 4.32953228e-01,\n",
       "       2.67860443e-01, 1.00219197e-01, 2.60983868e-01, 1.21625692e-01,\n",
       "       4.05658909e-02, 5.84774673e-01, 5.40840215e-02, 3.90450581e-02,\n",
       "       1.42409957e-01, 2.40517111e-01, 1.24157609e-01, 1.16510008e-01,\n",
       "       1.93607955e-01, 6.36038142e-02, 1.20163299e-01, 1.83437916e-02,\n",
       "       1.69143152e-01, 9.78406141e-02, 1.03190682e-01, 8.20203531e-01,\n",
       "       7.16985385e-01, 7.01738949e-02, 1.88628552e-01, 1.76846409e-01,\n",
       "       3.74546513e-01, 7.50888667e-01, 3.32473724e-01, 3.92689832e-02,\n",
       "       1.00394373e-01, 3.10629317e-01, 3.13019635e-01, 4.35420557e-01,\n",
       "       3.22164369e-01, 4.27907074e-01, 6.17300433e-02, 1.56350508e-01,\n",
       "       1.51620690e-01, 1.61863264e-01, 7.88546968e-02, 3.91620106e-01,\n",
       "       1.99944640e-01, 1.85883150e-01, 8.43754734e-02, 2.46140240e-02,\n",
       "       7.75685979e-03, 3.38111250e-03, 1.14193690e-02, 1.65692217e-01,\n",
       "       2.14664488e-01, 1.14969780e-01, 9.21595983e-02, 4.39528355e-02,\n",
       "       6.89861732e-02, 1.00315042e-01, 2.55403245e-01, 3.36941647e-01,\n",
       "       3.04737225e-01, 2.53628731e-01, 1.90745113e-02, 8.50298011e-04,\n",
       "       3.49668428e-01, 2.44184863e-02, 2.88582580e-02, 6.71423106e-02,\n",
       "       1.73345267e-01, 3.78621816e-01, 7.35432805e-02, 8.50048475e-03,\n",
       "       8.85736006e-02, 3.27838868e-01, 1.44802350e-01, 2.23903310e-01,\n",
       "       3.66084331e-01, 4.77125626e-02, 8.29006000e-03, 7.84559706e-01,\n",
       "       1.60151176e-01, 1.21827950e+00, 1.66653431e-01, 9.05271162e-02,\n",
       "       6.51001564e-02, 3.56453457e-01, 6.73636540e-02, 3.17310938e-01,\n",
       "       3.60388269e-02, 5.56810699e-01, 2.57827039e-02, 1.42338061e-01,\n",
       "       5.86327754e-02, 7.74256145e-01, 2.11811958e-01, 2.19991213e-01,\n",
       "       1.45819591e-01, 8.74787016e-02, 8.06909581e-02, 3.08052467e-01,\n",
       "       3.89119080e-01, 3.14950234e-01, 1.07568850e-01, 2.17692341e-01,\n",
       "       5.32568597e-01, 3.21931602e-01, 1.90723658e-01, 2.89497318e-01,\n",
       "       1.79194858e-02, 2.91817974e-01, 7.43132998e-02, 5.91130762e-01,\n",
       "       6.69895048e-02, 1.72553632e-01, 2.63547711e-01, 5.12923538e-01,\n",
       "       3.33436925e-01, 1.36870909e-01, 1.78620361e-02, 1.66413657e-02,\n",
       "       1.90335093e-01, 4.58097756e-01, 5.24471759e-02, 5.92844021e-01,\n",
       "       1.08009722e+00, 2.02578668e-02, 6.66561156e-02, 1.31735512e-01,\n",
       "       1.72681739e-01, 8.22429017e-01, 9.46990661e-02, 5.33988474e-01,\n",
       "       4.07724249e-01, 7.30405327e-02, 5.75999515e-01, 8.25669843e-02,\n",
       "       3.97096034e-02, 7.53266301e-02, 3.20763557e-02, 5.40237005e-01,\n",
       "       3.14598883e-01, 5.31363140e-02, 7.49596940e-02, 1.77403453e-01,\n",
       "       8.96326371e-02, 2.23714941e-01, 1.16573293e-02, 1.28700023e-02,\n",
       "       2.36769791e-02, 4.80833289e-01, 2.45752285e-02, 2.96193265e-01,\n",
       "       9.11856938e-03, 2.42067828e-01, 5.71387575e-02, 1.33068533e+00,\n",
       "       1.26787351e-01, 7.55760663e-02, 9.74368913e-02, 3.48041921e-02,\n",
       "       1.49525697e-02, 3.58954065e-01, 1.86576246e-01, 6.61695181e-02,\n",
       "       1.66756230e-02, 1.22743750e-02, 1.86767431e-01, 2.81099526e-02,\n",
       "       2.54554292e-01, 2.06168567e-02, 2.32810666e-01, 7.65766218e-02,\n",
       "       7.38763141e-02, 1.92899289e-01, 7.50929471e-02, 1.56089127e-01,\n",
       "       1.41872117e-01, 2.31383947e-01, 7.37315873e-01, 1.12770760e-01,\n",
       "       2.75379778e-01, 2.19770762e-01, 6.00784039e-02, 2.68279191e-01,\n",
       "       1.67675542e-01, 2.66850523e-01, 3.17795362e-01, 3.29522041e-01,\n",
       "       9.18939566e-02, 7.39580982e-02, 6.05273223e-02, 1.44367811e-02,\n",
       "       9.98768099e-02, 5.62239673e-02, 1.35454627e-01, 4.70705849e-02,\n",
       "       5.85617039e-01, 1.08552563e-01, 4.65451667e-02, 6.60112597e-01,\n",
       "       2.58874508e-02, 2.18275718e-01, 6.45434997e-02, 2.89782981e-02,\n",
       "       1.03870759e-02, 3.87761122e-02, 3.61245267e-01, 3.57135769e-01,\n",
       "       2.47147703e-02, 2.72422436e-01, 2.64274867e-02, 1.24103484e-02,\n",
       "       1.06995109e-01, 1.98165189e-01, 3.04799436e-01, 1.91741220e-01,\n",
       "       3.05139881e-02, 4.04733524e-01, 6.75035564e-02, 2.24907498e-01,\n",
       "       1.97322825e-01, 2.47371884e-01, 1.61959493e-01, 1.55443810e-01,\n",
       "       3.04901630e-02, 1.07195659e-01, 1.08581110e-01, 6.47304927e-01,\n",
       "       1.59955233e-02, 5.54107532e-01, 3.96923123e-03, 1.02951873e-01,\n",
       "       4.03413875e-01, 4.23961042e-02, 6.93727239e-02, 1.84867891e-01,\n",
       "       1.46238580e-01, 2.27004400e-01, 5.41373944e-02, 1.29661494e-03,\n",
       "       3.60723790e-01, 3.31351508e-01, 8.96295649e-02, 3.99740959e-01,\n",
       "       5.85105802e-02, 5.03541076e-01, 8.50971758e-02, 1.28188973e-01,\n",
       "       4.25289179e-01, 1.19217269e-01, 3.72273475e-01, 2.29806762e-02,\n",
       "       3.03236824e-01, 9.53159105e-02, 5.09749794e-01, 1.64141838e-01,\n",
       "       1.78220357e-01, 1.26174002e-01, 2.80180787e-01, 3.25877558e-01,\n",
       "       1.32581664e-01, 1.19200070e-01, 2.49640775e-02, 1.20981202e-01,\n",
       "       8.74530927e-02, 1.77336548e-01, 5.31765991e-02, 1.80816679e-01,\n",
       "       3.86685071e-01, 1.36637834e-01, 6.29539072e-01, 2.87009478e-01,\n",
       "       1.62969443e-01, 8.99759656e-01, 6.21314827e-01, 5.45057872e-01,\n",
       "       1.68687934e-01, 6.39433504e-02, 1.36526931e-01, 8.78561634e-02,\n",
       "       2.22770660e-01, 2.36257865e-01, 1.68841578e-01, 7.86161587e-02,\n",
       "       1.13117299e-01, 7.91140407e-01, 3.68271855e-01, 1.72178341e-04,\n",
       "       2.98818699e-02, 6.86464048e-01, 4.11435661e-01, 7.61535950e-01,\n",
       "       9.32885444e-03, 2.37278857e-01, 6.63530803e-03, 2.13112423e-04,\n",
       "       7.72796149e-02, 4.22377934e-02, 1.64752639e-01, 1.76878903e-01,\n",
       "       2.36033466e-01, 2.89125342e-01, 6.16531710e-02, 7.30836300e-03,\n",
       "       1.05810841e-01, 1.09295844e-01, 9.77731822e-02, 2.24068646e-01,\n",
       "       1.35421486e-01, 1.54659614e-01, 7.35892632e-02, 4.72593268e-01,\n",
       "       1.39141613e-02, 1.25914702e-01, 6.85694215e-02, 6.20700418e-01,\n",
       "       3.14800139e-01, 1.07357582e-01, 2.77222109e-01, 6.80774624e-02,\n",
       "       1.67664165e-01, 3.42924378e-02, 1.99653988e-01, 5.40627239e-02,\n",
       "       3.05143699e-02, 1.27371175e-02, 4.03121058e-04, 1.16662127e-02,\n",
       "       1.25286467e-01, 2.13820690e-01, 3.61296990e-03, 5.37580276e-02,\n",
       "       5.75291414e-01, 2.87354615e-01, 2.26945727e-01, 5.10158454e-01,\n",
       "       5.54050281e-02, 6.71467601e-01, 1.40449228e-01, 2.68971804e-01,\n",
       "       2.86959850e-02, 8.80642908e-02, 7.75529639e-01, 2.16583442e-01,\n",
       "       7.30814153e-01, 1.34308953e-01, 8.09878868e-03, 1.50692093e-01])"
      ]
     },
     "execution_count": 67,
     "metadata": {},
     "output_type": "execute_result"
    }
   ],
   "source": [
    "li_e[0]"
   ]
  },
  {
   "cell_type": "code",
   "execution_count": 68,
   "metadata": {},
   "outputs": [],
   "source": [
    "li_lam = [1/np.average(i) for i in li_e]"
   ]
  },
  {
   "cell_type": "code",
   "execution_count": 69,
   "metadata": {},
   "outputs": [
    {
     "data": {
      "image/png": "[encoded data removed]",
      "text/plain": [
       "<Figure size 432x288 with 1 Axes>"
      ]
     },
     "metadata": {
      "needs_background": "light"
     },
     "output_type": "display_data"
    },
    {
     "data": {
      "image/png": "[encoded data removed]",
      "text/plain": [
       "<Figure size 432x288 with 1 Axes>"
      ]
     },
     "metadata": {
      "needs_background": "light"
     },
     "output_type": "display_data"
    }
   ],
   "source": [
    "plt.hist(li_lam, int(1.72*len(a)**(1/3)))\n",
    "plt.show()\n",
    "plt.hist(li_lam, int(1+3.2*np.log(len(a))))\n",
    "plt.show()"
   ]
  },
  {
   "cell_type": "code",
   "execution_count": 70,
   "metadata": {},
   "outputs": [
    {
     "data": {
      "text/plain": [
       "2.5999999999999996"
      ]
     },
     "execution_count": 70,
     "metadata": {},
     "output_type": "execute_result"
    }
   ],
   "source": [
    "0.3*3+0.6*2+0.1*5"
   ]
  },
  {
   "cell_type": "code",
   "execution_count": 71,
   "metadata": {},
   "outputs": [
    {
     "data": {
      "text/plain": [
       "3.541"
      ]
     },
     "execution_count": 71,
     "metadata": {},
     "output_type": "execute_result"
    }
   ],
   "source": [
    "0.3*(1+(2.6-3)**2)+ 0.6*(4+(2-2.6)**2)+0.1*(0.01+(2.6-5)**2)"
   ]
  },
  {
   "cell_type": "code",
   "execution_count": 76,
   "metadata": {},
   "outputs": [],
   "source": [
    "data1 = [282, 226, 188, 327, 344, 304, 414, 224, 335, 270]"
   ]
  },
  {
   "cell_type": "code",
   "execution_count": 77,
   "metadata": {},
   "outputs": [],
   "source": [
    "data2 = [417,  851,  742, 1217, 1160,  993,  864,  852, 1286,  988]"
   ]
  },
  {
   "cell_type": "markdown",
   "metadata": {},
   "source": [
    "Среднее со стратифицированием"
   ]
  },
  {
   "cell_type": "code",
   "execution_count": 79,
   "metadata": {},
   "outputs": [],
   "source": [
    "x_av = np.mean(data1)*0.4+np.mean(data2)*0.6"
   ]
  },
  {
   "cell_type": "markdown",
   "metadata": {},
   "source": [
    "Дисперсия со стратифицированием"
   ]
  },
  {
   "cell_type": "code",
   "execution_count": 81,
   "metadata": {},
   "outputs": [
    {
     "data": {
      "text/plain": [
       "136721.6624"
      ]
     },
     "execution_count": 81,
     "metadata": {},
     "output_type": "execute_result"
    }
   ],
   "source": [
    "variance(data1)*0.4+variance(data2)*0.6+0.4*(np.mean(data1)-x_av)**2 + 0.6*(np.mean(data2)-x_av)**2"
   ]
  },
  {
   "cell_type": "markdown",
   "metadata": {},
   "source": [
    "Семплирование неймана (объем страт, если дисперсия известна)"
   ]
  },
  {
   "cell_type": "code",
   "execution_count": 87,
   "metadata": {},
   "outputs": [],
   "source": [
    "def strats_len(total_am, list_of_strata_probs, list_of_strata_variance):\n",
    "    r = []\n",
    "    diveder = np.sum(np.array(list_of_strata_probs)*np.array(list_of_strata_variance)**(1/2))\n",
    "    for i, w_i in enumerate(list_of_strata_probs):\n",
    "        r.append(total_am*w_i*list_of_strata_variance[i]**(1/2)/diveder)\n",
    "    return np.round(r)"
   ]
  },
  {
   "cell_type": "code",
   "execution_count": 88,
   "metadata": {},
   "outputs": [
    {
     "data": {
      "text/plain": [
       "array([21., 79.])"
      ]
     },
     "execution_count": 88,
     "metadata": {},
     "output_type": "execute_result"
    }
   ],
   "source": [
    "strats_len(100, [0.25, 0.75], [4, 6.25])"
   ]
  },
  {
   "cell_type": "code",
   "execution_count": 89,
   "metadata": {},
   "outputs": [],
   "source": [
    "from scipy.stats import f # распределение фишера"
   ]
  },
  {
   "cell_type": "code",
   "execution_count": 90,
   "metadata": {},
   "outputs": [],
   "source": [
    "f_local = f(5, 15) # распределение с параматерами"
   ]
  },
  {
   "cell_type": "code",
   "execution_count": 91,
   "metadata": {},
   "outputs": [
    {
     "data": {
      "text/plain": [
       "2.273022447867572"
      ]
     },
     "execution_count": 91,
     "metadata": {},
     "output_type": "execute_result"
    }
   ],
   "source": [
    "f_local.ppf(0.9) #cdf - вероятность по значению, ppf - значение по вероятности (квантиль)"
   ]
  },
  {
   "cell_type": "code",
   "execution_count": null,
   "metadata": {},
   "outputs": [],
   "source": []
  }
 ],
 "metadata": {
  "kernelspec": {
   "display_name": "Python 3",
   "language": "python",
   "name": "python3"
  },
  "language_info": {
   "codemirror_mode": {
    "name": "ipython",
    "version": 3
   },
   "file_extension": ".py",
   "mimetype": "text/x-python",
   "name": "python",
   "nbconvert_exporter": "python",
   "pygments_lexer": "ipython3",
   "version": "3.7.3"
  }
 },
 "nbformat": 4,
 "nbformat_minor": 2
}
