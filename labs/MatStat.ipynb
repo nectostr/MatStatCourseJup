{
 "cells": [
  {
   "cell_type": "code",
   "execution_count": 1,
   "metadata": {},
   "outputs": [],
   "source": [
    "import numpy as np"
   ]
  },
  {
   "cell_type": "code",
   "execution_count": 2,
   "metadata": {},
   "outputs": [],
   "source": [
    "def variance(a):\n",
    "    d = 0\n",
    "    av = np.average(a)\n",
    "    for i in set(a):\n",
    "        d += len([j for j in a if j == i])/len(a) * (i - av)**2\n",
    "    return d\n"
   ]
  },
  {
   "cell_type": "code",
   "execution_count": 3,
   "metadata": {},
   "outputs": [],
   "source": [
    "def median(d):\n",
    "    d = sorted(d)\n",
    "    return np.average(d[len(d)//2-1:len(d)//2+1])*(1-len(d)%2)+d[len(d)//2]*(len(d)%2)"
   ]
  },
  {
   "cell_type": "code",
   "execution_count": 4,
   "metadata": {},
   "outputs": [],
   "source": [
    "def excess(d):\n",
    "    av = np.average(d)\n",
    "    return np.sum((d-av)**4)/len(d)/variance(d)**2-3"
   ]
  },
  {
   "cell_type": "code",
   "execution_count": 5,
   "metadata": {},
   "outputs": [],
   "source": [
    "def asymmetry(d):\n",
    "    av = np.average(d)\n",
    "    return np.sum((d-av)**3)/len(d)/variance(d)**(3/2)"
   ]
  },
  {
   "cell_type": "code",
   "execution_count": 6,
   "metadata": {},
   "outputs": [
    {
     "ename": "NameError",
     "evalue": "name 'data' is not defined",
     "output_type": "error",
     "traceback": [
      "\u001b[1;31m---------------------------------------------------------------------------\u001b[0m",
      "\u001b[1;31mNameError\u001b[0m                                 Traceback (most recent call last)",
      "\u001b[1;32m<ipython-input-6-a27aba8e8bc0>\u001b[0m in \u001b[0;36m<module>\u001b[1;34m\u001b[0m\n\u001b[1;32m----> 1\u001b[1;33m \u001b[0md\u001b[0m \u001b[1;33m=\u001b[0m \u001b[0mdata\u001b[0m\u001b[1;33m\u001b[0m\u001b[1;33m\u001b[0m\u001b[0m\n\u001b[0m\u001b[0;32m      2\u001b[0m \u001b[0mnp\u001b[0m\u001b[1;33m.\u001b[0m\u001b[0mmedian\u001b[0m\u001b[1;33m(\u001b[0m\u001b[0md\u001b[0m\u001b[1;33m)\u001b[0m\u001b[1;33m,\u001b[0m \u001b[0mmedian\u001b[0m\u001b[1;33m(\u001b[0m\u001b[0md\u001b[0m\u001b[1;33m)\u001b[0m\u001b[1;33m\u001b[0m\u001b[1;33m\u001b[0m\u001b[0m\n",
      "\u001b[1;31mNameError\u001b[0m: name 'data' is not defined"
     ]
    }
   ],
   "source": [
    "d = data\n",
    "np.median(d), median(d)"
   ]
  },
  {
   "cell_type": "code",
   "execution_count": 20,
   "metadata": {},
   "outputs": [],
   "source": [
    "def qartile(p, d):\n",
    "    return sorted(d)[int(np.floor(len(d)*p))]\n",
    "# qartile(0.75, data), np.round(np.percentile(data, 75)) ????????????????"
   ]
  },
  {
   "cell_type": "code",
   "execution_count": 21,
   "metadata": {},
   "outputs": [],
   "source": [
    "def uniform(a, b, size):\n",
    "    return np.random.randint(a, b, size)\n",
    "def normal(a, sigm, size):\n",
    "    #probs = [np.e**(-(x-a)**2/(2*sigm**2))/(sigm*(2*np.pi)**(1/2))]\n",
    "    return np.random.normal(a, b, size=size)"
   ]
  },
  {
   "cell_type": "code",
   "execution_count": 22,
   "metadata": {},
   "outputs": [],
   "source": [
    "def correl(d1, d2):\n",
    "    av_d1 = np.average(d1)\n",
    "    av_d2 = np.average(d2)\n",
    "    return np.sum(d1*d2-av_d1*av_d2)/len(d1)/(np.var(d1)*np.var(d2))**(1/2)\n",
    "    "
   ]
  },
  {
   "cell_type": "code",
   "execution_count": 23,
   "metadata": {},
   "outputs": [
    {
     "data": {
      "image/png": "[encoded data removed]",
      "text/plain": [
       "<Figure size 432x288 with 1 Axes>"
      ]
     },
     "metadata": {
      "needs_background": "light"
     },
     "output_type": "display_data"
    }
   ],
   "source": [
    "#%%\n",
    "import pandas as pd\n",
    "import matplotlib.pyplot as plt\n",
    "%matplotlib inline\n",
    "import seaborn as sns\n",
    "\n",
    "\n",
    "plt.boxplot(list(np.random.randint(5, 100, 100))+[150])\n",
    "plt.show()"
   ]
  },
  {
   "cell_type": "code",
   "execution_count": 24,
   "metadata": {},
   "outputs": [],
   "source": [
    "a = pd.read_csv(r\"../13_6\", sep=\",\", header=None, names=['drop', 'year', 'month', '6th', '13th', 'market'])"
   ]
  },
  {
   "cell_type": "code",
   "execution_count": 25,
   "metadata": {},
   "outputs": [],
   "source": [
    "a.drop(columns='drop', inplace=True)"
   ]
  },
  {
   "cell_type": "code",
   "execution_count": 26,
   "metadata": {},
   "outputs": [
    {
     "data": {
      "text/plain": [
       "(46.48888888888889, 4.963871474817532, 1.4723605614659805)"
      ]
     },
     "execution_count": 26,
     "metadata": {},
     "output_type": "execute_result"
    }
   ],
   "source": [
    "d = np.array(a['13th'])-np.array(a['6th'])\n",
    "np.average(d), excess(d), asymmetry(d)"
   ]
  },
  {
   "cell_type": "code",
   "execution_count": null,
   "metadata": {},
   "outputs": [],
   "source": []
  },
  {
   "cell_type": "code",
   "execution_count": 27,
   "metadata": {},
   "outputs": [
    {
     "data": {
      "text/plain": [
       "<matplotlib.axes._subplots.AxesSubplot at 0x22ace1f8048>"
      ]
     },
     "execution_count": 27,
     "metadata": {},
     "output_type": "execute_result"
    },
    {
     "data": {
      "image/png": "[encoded data removed]",
      "text/plain": [
       "<Figure size 432x288 with 1 Axes>"
      ]
     },
     "metadata": {
      "needs_background": "light"
     },
     "output_type": "display_data"
    }
   ],
   "source": [
    "sns.boxplot(orient='v', data=a[['13th', '6th']])"
   ]
  },
  {
   "cell_type": "code",
   "execution_count": 28,
   "metadata": {},
   "outputs": [
    {
     "data": {
      "text/plain": [
       "<matplotlib.axes._subplots.AxesSubplot at 0x22acc870400>"
      ]
     },
     "execution_count": 28,
     "metadata": {},
     "output_type": "execute_result"
    },
    {
     "data": {
      "image/png": "[encoded data removed]",
      "text/plain": [
       "<Figure size 432x288 with 1 Axes>"
      ]
     },
     "metadata": {
      "needs_background": "light"
     },
     "output_type": "display_data"
    }
   ],
   "source": [
    "sns.boxplot(orient='v', data=np.array(a['13th'])-np.array(a['6th']))"
   ]
  },
  {
   "cell_type": "code",
   "execution_count": 29,
   "metadata": {},
   "outputs": [
    {
     "data": {
      "image/png": "[encoded data removed]",
      "text/plain": [
       "<Figure size 432x288 with 1 Axes>"
      ]
     },
     "metadata": {
      "needs_background": "light"
     },
     "output_type": "display_data"
    },
    {
     "data": {
      "image/png": "[encoded data removed]",
      "text/plain": [
       "<Figure size 432x288 with 1 Axes>"
      ]
     },
     "metadata": {
      "needs_background": "light"
     },
     "output_type": "display_data"
    },
    {
     "data": {
      "text/plain": [
       "(array([ 3.,  5., 15., 10.,  6.,  5.,  0.,  0.,  0.,  1.]),\n",
       " array([-302. , -194.4,  -86.8,   20.8,  128.4,  236. ,  343.6,  451.2,\n",
       "         558.8,  666.4,  774. ]),\n",
       " <a list of 10 Patch objects>)"
      ]
     },
     "execution_count": 29,
     "metadata": {},
     "output_type": "execute_result"
    },
    {
     "data": {
      "image/png": "[encoded data removed]",
      "text/plain": [
       "<Figure size 432x288 with 1 Axes>"
      ]
     },
     "metadata": {
      "needs_background": "light"
     },
     "output_type": "display_data"
    }
   ],
   "source": [
    "plt.hist(a['13th'])\n",
    "plt.show()\n",
    "plt.hist(a['6th'])\n",
    "plt.show()\n",
    "plt.hist(np.array(a['13th'])-np.array(a['6th']))"
   ]
  },
  {
   "cell_type": "code",
   "execution_count": 30,
   "metadata": {},
   "outputs": [],
   "source": [
    "a = pd.read_csv(r\"../colleges2.txt\", sep=\",\",  dtype={'School':str, 'School_Type':str, 'SAT':int, 'Acceptance':int, '$/Student':int, 'Top10%':int, '%PhD':int,'Grad%':int})"
   ]
  },
  {
   "cell_type": "code",
   "execution_count": 31,
   "metadata": {},
   "outputs": [],
   "source": [
    "a.drop(columns='School', inplace=True)"
   ]
  },
  {
   "cell_type": "code",
   "execution_count": 32,
   "metadata": {},
   "outputs": [
    {
     "data": {
      "text/plain": [
       "Index(['School_Type', 'SAT', 'Acceptance', '$/Student', 'Top10%', '%PhD',\n",
       "       'Grad%'],\n",
       "      dtype='object')"
      ]
     },
     "execution_count": 32,
     "metadata": {},
     "output_type": "execute_result"
    }
   ],
   "source": [
    "a.head()\n",
    "a.columns"
   ]
  },
  {
   "cell_type": "code",
   "execution_count": 33,
   "metadata": {},
   "outputs": [
    {
     "name": "stdout",
     "output_type": "stream",
     "text": [
      "<class 'str'>\n",
      "<class 'numpy.int32'>\n",
      "<class 'numpy.int32'>\n",
      "<class 'numpy.int32'>\n",
      "<class 'numpy.int32'>\n",
      "<class 'numpy.int32'>\n",
      "<class 'numpy.int32'>\n"
     ]
    }
   ],
   "source": [
    "for i in a.columns:\n",
    "    print(type(a[i][0]))"
   ]
  },
  {
   "cell_type": "code",
   "execution_count": 34,
   "metadata": {},
   "outputs": [
    {
     "data": {
      "text/html": [
       "<div>\n",
       "<style scoped>\n",
       "    .dataframe tbody tr th:only-of-type {\n",
       "        vertical-align: middle;\n",
       "    }\n",
       "\n",
       "    .dataframe tbody tr th {\n",
       "        vertical-align: top;\n",
       "    }\n",
       "\n",
       "    .dataframe thead th {\n",
       "        text-align: right;\n",
       "    }\n",
       "</style>\n",
       "<table border=\"1\" class=\"dataframe\">\n",
       "  <thead>\n",
       "    <tr style=\"text-align: right;\">\n",
       "      <th></th>\n",
       "      <th>School_Type</th>\n",
       "      <th>SAT</th>\n",
       "      <th>Acceptance</th>\n",
       "      <th>$/Student</th>\n",
       "      <th>Top10%</th>\n",
       "      <th>%PhD</th>\n",
       "      <th>Grad%</th>\n",
       "    </tr>\n",
       "  </thead>\n",
       "  <tbody>\n",
       "    <tr>\n",
       "      <th>0</th>\n",
       "      <td>LibArts</td>\n",
       "      <td>1315</td>\n",
       "      <td>22</td>\n",
       "      <td>26636</td>\n",
       "      <td>85</td>\n",
       "      <td>81</td>\n",
       "      <td>93</td>\n",
       "    </tr>\n",
       "    <tr>\n",
       "      <th>1</th>\n",
       "      <td>LibArts</td>\n",
       "      <td>1310</td>\n",
       "      <td>24</td>\n",
       "      <td>27487</td>\n",
       "      <td>78</td>\n",
       "      <td>93</td>\n",
       "      <td>88</td>\n",
       "    </tr>\n",
       "    <tr>\n",
       "      <th>2</th>\n",
       "      <td>LibArts</td>\n",
       "      <td>1336</td>\n",
       "      <td>28</td>\n",
       "      <td>23772</td>\n",
       "      <td>86</td>\n",
       "      <td>90</td>\n",
       "      <td>93</td>\n",
       "    </tr>\n",
       "    <tr>\n",
       "      <th>3</th>\n",
       "      <td>LibArts</td>\n",
       "      <td>1300</td>\n",
       "      <td>24</td>\n",
       "      <td>25703</td>\n",
       "      <td>78</td>\n",
       "      <td>95</td>\n",
       "      <td>90</td>\n",
       "    </tr>\n",
       "    <tr>\n",
       "      <th>4</th>\n",
       "      <td>LibArts</td>\n",
       "      <td>1250</td>\n",
       "      <td>49</td>\n",
       "      <td>27879</td>\n",
       "      <td>76</td>\n",
       "      <td>91</td>\n",
       "      <td>86</td>\n",
       "    </tr>\n",
       "    <tr>\n",
       "      <th>5</th>\n",
       "      <td>LibArts</td>\n",
       "      <td>1320</td>\n",
       "      <td>33</td>\n",
       "      <td>26668</td>\n",
       "      <td>79</td>\n",
       "      <td>98</td>\n",
       "      <td>80</td>\n",
       "    </tr>\n",
       "    <tr>\n",
       "      <th>6</th>\n",
       "      <td>LibArts</td>\n",
       "      <td>1290</td>\n",
       "      <td>35</td>\n",
       "      <td>19948</td>\n",
       "      <td>73</td>\n",
       "      <td>87</td>\n",
       "      <td>91</td>\n",
       "    </tr>\n",
       "    <tr>\n",
       "      <th>7</th>\n",
       "      <td>LibArts</td>\n",
       "      <td>1255</td>\n",
       "      <td>25</td>\n",
       "      <td>24718</td>\n",
       "      <td>65</td>\n",
       "      <td>89</td>\n",
       "      <td>92</td>\n",
       "    </tr>\n",
       "    <tr>\n",
       "      <th>8</th>\n",
       "      <td>LibArts</td>\n",
       "      <td>1195</td>\n",
       "      <td>57</td>\n",
       "      <td>25271</td>\n",
       "      <td>65</td>\n",
       "      <td>90</td>\n",
       "      <td>87</td>\n",
       "    </tr>\n",
       "    <tr>\n",
       "      <th>9</th>\n",
       "      <td>LibArts</td>\n",
       "      <td>1230</td>\n",
       "      <td>36</td>\n",
       "      <td>17721</td>\n",
       "      <td>77</td>\n",
       "      <td>94</td>\n",
       "      <td>89</td>\n",
       "    </tr>\n",
       "    <tr>\n",
       "      <th>10</th>\n",
       "      <td>LibArts</td>\n",
       "      <td>1287</td>\n",
       "      <td>43</td>\n",
       "      <td>20179</td>\n",
       "      <td>53</td>\n",
       "      <td>90</td>\n",
       "      <td>84</td>\n",
       "    </tr>\n",
       "    <tr>\n",
       "      <th>11</th>\n",
       "      <td>LibArts</td>\n",
       "      <td>1300</td>\n",
       "      <td>40</td>\n",
       "      <td>19504</td>\n",
       "      <td>75</td>\n",
       "      <td>82</td>\n",
       "      <td>80</td>\n",
       "    </tr>\n",
       "    <tr>\n",
       "      <th>12</th>\n",
       "      <td>LibArts</td>\n",
       "      <td>1260</td>\n",
       "      <td>36</td>\n",
       "      <td>20377</td>\n",
       "      <td>68</td>\n",
       "      <td>94</td>\n",
       "      <td>74</td>\n",
       "    </tr>\n",
       "    <tr>\n",
       "      <th>13</th>\n",
       "      <td>LibArts</td>\n",
       "      <td>1247</td>\n",
       "      <td>54</td>\n",
       "      <td>23591</td>\n",
       "      <td>64</td>\n",
       "      <td>98</td>\n",
       "      <td>77</td>\n",
       "    </tr>\n",
       "    <tr>\n",
       "      <th>14</th>\n",
       "      <td>LibArts</td>\n",
       "      <td>1234</td>\n",
       "      <td>29</td>\n",
       "      <td>17998</td>\n",
       "      <td>61</td>\n",
       "      <td>89</td>\n",
       "      <td>78</td>\n",
       "    </tr>\n",
       "    <tr>\n",
       "      <th>15</th>\n",
       "      <td>LibArts</td>\n",
       "      <td>1244</td>\n",
       "      <td>67</td>\n",
       "      <td>22301</td>\n",
       "      <td>65</td>\n",
       "      <td>79</td>\n",
       "      <td>73</td>\n",
       "    </tr>\n",
       "    <tr>\n",
       "      <th>16</th>\n",
       "      <td>LibArts</td>\n",
       "      <td>1200</td>\n",
       "      <td>61</td>\n",
       "      <td>23358</td>\n",
       "      <td>47</td>\n",
       "      <td>83</td>\n",
       "      <td>83</td>\n",
       "    </tr>\n",
       "    <tr>\n",
       "      <th>17</th>\n",
       "      <td>LibArts</td>\n",
       "      <td>1200</td>\n",
       "      <td>46</td>\n",
       "      <td>18872</td>\n",
       "      <td>52</td>\n",
       "      <td>75</td>\n",
       "      <td>84</td>\n",
       "    </tr>\n",
       "    <tr>\n",
       "      <th>18</th>\n",
       "      <td>LibArts</td>\n",
       "      <td>1215</td>\n",
       "      <td>38</td>\n",
       "      <td>20722</td>\n",
       "      <td>51</td>\n",
       "      <td>86</td>\n",
       "      <td>85</td>\n",
       "    </tr>\n",
       "    <tr>\n",
       "      <th>19</th>\n",
       "      <td>LibArts</td>\n",
       "      <td>1240</td>\n",
       "      <td>36</td>\n",
       "      <td>17554</td>\n",
       "      <td>58</td>\n",
       "      <td>81</td>\n",
       "      <td>88</td>\n",
       "    </tr>\n",
       "    <tr>\n",
       "      <th>20</th>\n",
       "      <td>LibArts</td>\n",
       "      <td>1285</td>\n",
       "      <td>35</td>\n",
       "      <td>19418</td>\n",
       "      <td>71</td>\n",
       "      <td>91</td>\n",
       "      <td>87</td>\n",
       "    </tr>\n",
       "    <tr>\n",
       "      <th>21</th>\n",
       "      <td>LibArts</td>\n",
       "      <td>1258</td>\n",
       "      <td>38</td>\n",
       "      <td>17520</td>\n",
       "      <td>61</td>\n",
       "      <td>78</td>\n",
       "      <td>85</td>\n",
       "    </tr>\n",
       "    <tr>\n",
       "      <th>22</th>\n",
       "      <td>LibArts</td>\n",
       "      <td>1255</td>\n",
       "      <td>56</td>\n",
       "      <td>18847</td>\n",
       "      <td>70</td>\n",
       "      <td>81</td>\n",
       "      <td>84</td>\n",
       "    </tr>\n",
       "    <tr>\n",
       "      <th>23</th>\n",
       "      <td>LibArts</td>\n",
       "      <td>1170</td>\n",
       "      <td>49</td>\n",
       "      <td>20192</td>\n",
       "      <td>54</td>\n",
       "      <td>93</td>\n",
       "      <td>72</td>\n",
       "    </tr>\n",
       "    <tr>\n",
       "      <th>24</th>\n",
       "      <td>LibArts</td>\n",
       "      <td>1220</td>\n",
       "      <td>53</td>\n",
       "      <td>17653</td>\n",
       "      <td>69</td>\n",
       "      <td>98</td>\n",
       "      <td>80</td>\n",
       "    </tr>\n",
       "    <tr>\n",
       "      <th>25</th>\n",
       "      <td>Univ</td>\n",
       "      <td>1370</td>\n",
       "      <td>18</td>\n",
       "      <td>46918</td>\n",
       "      <td>90</td>\n",
       "      <td>99</td>\n",
       "      <td>90</td>\n",
       "    </tr>\n",
       "    <tr>\n",
       "      <th>26</th>\n",
       "      <td>Univ</td>\n",
       "      <td>1370</td>\n",
       "      <td>18</td>\n",
       "      <td>61921</td>\n",
       "      <td>92</td>\n",
       "      <td>96</td>\n",
       "      <td>88</td>\n",
       "    </tr>\n",
       "    <tr>\n",
       "      <th>27</th>\n",
       "      <td>Univ</td>\n",
       "      <td>1350</td>\n",
       "      <td>19</td>\n",
       "      <td>52468</td>\n",
       "      <td>90</td>\n",
       "      <td>97</td>\n",
       "      <td>93</td>\n",
       "    </tr>\n",
       "    <tr>\n",
       "      <th>28</th>\n",
       "      <td>Univ</td>\n",
       "      <td>1340</td>\n",
       "      <td>17</td>\n",
       "      <td>48123</td>\n",
       "      <td>89</td>\n",
       "      <td>99</td>\n",
       "      <td>93</td>\n",
       "    </tr>\n",
       "    <tr>\n",
       "      <th>29</th>\n",
       "      <td>Univ</td>\n",
       "      <td>1400</td>\n",
       "      <td>31</td>\n",
       "      <td>102262</td>\n",
       "      <td>98</td>\n",
       "      <td>98</td>\n",
       "      <td>75</td>\n",
       "    </tr>\n",
       "    <tr>\n",
       "      <th>30</th>\n",
       "      <td>Univ</td>\n",
       "      <td>1357</td>\n",
       "      <td>30</td>\n",
       "      <td>56766</td>\n",
       "      <td>95</td>\n",
       "      <td>98</td>\n",
       "      <td>86</td>\n",
       "    </tr>\n",
       "    <tr>\n",
       "      <th>31</th>\n",
       "      <td>Univ</td>\n",
       "      <td>1310</td>\n",
       "      <td>25</td>\n",
       "      <td>39504</td>\n",
       "      <td>91</td>\n",
       "      <td>95</td>\n",
       "      <td>91</td>\n",
       "    </tr>\n",
       "    <tr>\n",
       "      <th>32</th>\n",
       "      <td>Univ</td>\n",
       "      <td>1306</td>\n",
       "      <td>25</td>\n",
       "      <td>35804</td>\n",
       "      <td>86</td>\n",
       "      <td>100</td>\n",
       "      <td>95</td>\n",
       "    </tr>\n",
       "    <tr>\n",
       "      <th>33</th>\n",
       "      <td>Univ</td>\n",
       "      <td>1280</td>\n",
       "      <td>30</td>\n",
       "      <td>37137</td>\n",
       "      <td>85</td>\n",
       "      <td>90</td>\n",
       "      <td>83</td>\n",
       "    </tr>\n",
       "    <tr>\n",
       "      <th>34</th>\n",
       "      <td>Univ</td>\n",
       "      <td>1268</td>\n",
       "      <td>29</td>\n",
       "      <td>45879</td>\n",
       "      <td>78</td>\n",
       "      <td>93</td>\n",
       "      <td>90</td>\n",
       "    </tr>\n",
       "    <tr>\n",
       "      <th>35</th>\n",
       "      <td>Univ</td>\n",
       "      <td>1300</td>\n",
       "      <td>45</td>\n",
       "      <td>38937</td>\n",
       "      <td>74</td>\n",
       "      <td>100</td>\n",
       "      <td>73</td>\n",
       "    </tr>\n",
       "    <tr>\n",
       "      <th>36</th>\n",
       "      <td>Univ</td>\n",
       "      <td>1281</td>\n",
       "      <td>24</td>\n",
       "      <td>24201</td>\n",
       "      <td>80</td>\n",
       "      <td>98</td>\n",
       "      <td>90</td>\n",
       "    </tr>\n",
       "    <tr>\n",
       "      <th>37</th>\n",
       "      <td>Univ</td>\n",
       "      <td>1280</td>\n",
       "      <td>41</td>\n",
       "      <td>30882</td>\n",
       "      <td>87</td>\n",
       "      <td>99</td>\n",
       "      <td>86</td>\n",
       "    </tr>\n",
       "    <tr>\n",
       "      <th>38</th>\n",
       "      <td>Univ</td>\n",
       "      <td>1176</td>\n",
       "      <td>37</td>\n",
       "      <td>23665</td>\n",
       "      <td>95</td>\n",
       "      <td>93</td>\n",
       "      <td>68</td>\n",
       "    </tr>\n",
       "    <tr>\n",
       "      <th>39</th>\n",
       "      <td>Univ</td>\n",
       "      <td>1290</td>\n",
       "      <td>48</td>\n",
       "      <td>45460</td>\n",
       "      <td>69</td>\n",
       "      <td>58</td>\n",
       "      <td>86</td>\n",
       "    </tr>\n",
       "    <tr>\n",
       "      <th>40</th>\n",
       "      <td>Univ</td>\n",
       "      <td>1327</td>\n",
       "      <td>24</td>\n",
       "      <td>26730</td>\n",
       "      <td>85</td>\n",
       "      <td>95</td>\n",
       "      <td>88</td>\n",
       "    </tr>\n",
       "    <tr>\n",
       "      <th>41</th>\n",
       "      <td>Univ</td>\n",
       "      <td>1142</td>\n",
       "      <td>43</td>\n",
       "      <td>26859</td>\n",
       "      <td>96</td>\n",
       "      <td>100</td>\n",
       "      <td>61</td>\n",
       "    </tr>\n",
       "    <tr>\n",
       "      <th>42</th>\n",
       "      <td>Univ</td>\n",
       "      <td>1218</td>\n",
       "      <td>37</td>\n",
       "      <td>19365</td>\n",
       "      <td>77</td>\n",
       "      <td>91</td>\n",
       "      <td>88</td>\n",
       "    </tr>\n",
       "    <tr>\n",
       "      <th>43</th>\n",
       "      <td>Univ</td>\n",
       "      <td>1278</td>\n",
       "      <td>24</td>\n",
       "      <td>23115</td>\n",
       "      <td>79</td>\n",
       "      <td>89</td>\n",
       "      <td>89</td>\n",
       "    </tr>\n",
       "    <tr>\n",
       "      <th>44</th>\n",
       "      <td>Univ</td>\n",
       "      <td>1109</td>\n",
       "      <td>32</td>\n",
       "      <td>19684</td>\n",
       "      <td>82</td>\n",
       "      <td>84</td>\n",
       "      <td>73</td>\n",
       "    </tr>\n",
       "    <tr>\n",
       "      <th>45</th>\n",
       "      <td>Univ</td>\n",
       "      <td>1195</td>\n",
       "      <td>60</td>\n",
       "      <td>21853</td>\n",
       "      <td>71</td>\n",
       "      <td>93</td>\n",
       "      <td>77</td>\n",
       "    </tr>\n",
       "    <tr>\n",
       "      <th>46</th>\n",
       "      <td>Univ</td>\n",
       "      <td>1225</td>\n",
       "      <td>64</td>\n",
       "      <td>33607</td>\n",
       "      <td>52</td>\n",
       "      <td>84</td>\n",
       "      <td>77</td>\n",
       "    </tr>\n",
       "    <tr>\n",
       "      <th>47</th>\n",
       "      <td>Univ</td>\n",
       "      <td>1230</td>\n",
       "      <td>47</td>\n",
       "      <td>28851</td>\n",
       "      <td>77</td>\n",
       "      <td>79</td>\n",
       "      <td>82</td>\n",
       "    </tr>\n",
       "    <tr>\n",
       "      <th>48</th>\n",
       "      <td>Univ</td>\n",
       "      <td>1225</td>\n",
       "      <td>54</td>\n",
       "      <td>39883</td>\n",
       "      <td>71</td>\n",
       "      <td>98</td>\n",
       "      <td>76</td>\n",
       "    </tr>\n",
       "    <tr>\n",
       "      <th>49</th>\n",
       "      <td>Univ</td>\n",
       "      <td>1155</td>\n",
       "      <td>56</td>\n",
       "      <td>38597</td>\n",
       "      <td>52</td>\n",
       "      <td>96</td>\n",
       "      <td>73</td>\n",
       "    </tr>\n",
       "  </tbody>\n",
       "</table>\n",
       "</div>"
      ],
      "text/plain": [
       "   School_Type   SAT  Acceptance  $/Student  Top10%  %PhD  Grad%\n",
       "0      LibArts  1315          22      26636      85    81     93\n",
       "1      LibArts  1310          24      27487      78    93     88\n",
       "2      LibArts  1336          28      23772      86    90     93\n",
       "3      LibArts  1300          24      25703      78    95     90\n",
       "4      LibArts  1250          49      27879      76    91     86\n",
       "5      LibArts  1320          33      26668      79    98     80\n",
       "6      LibArts  1290          35      19948      73    87     91\n",
       "7      LibArts  1255          25      24718      65    89     92\n",
       "8      LibArts  1195          57      25271      65    90     87\n",
       "9      LibArts  1230          36      17721      77    94     89\n",
       "10     LibArts  1287          43      20179      53    90     84\n",
       "11     LibArts  1300          40      19504      75    82     80\n",
       "12     LibArts  1260          36      20377      68    94     74\n",
       "13     LibArts  1247          54      23591      64    98     77\n",
       "14     LibArts  1234          29      17998      61    89     78\n",
       "15     LibArts  1244          67      22301      65    79     73\n",
       "16     LibArts  1200          61      23358      47    83     83\n",
       "17     LibArts  1200          46      18872      52    75     84\n",
       "18     LibArts  1215          38      20722      51    86     85\n",
       "19     LibArts  1240          36      17554      58    81     88\n",
       "20     LibArts  1285          35      19418      71    91     87\n",
       "21     LibArts  1258          38      17520      61    78     85\n",
       "22     LibArts  1255          56      18847      70    81     84\n",
       "23     LibArts  1170          49      20192      54    93     72\n",
       "24     LibArts  1220          53      17653      69    98     80\n",
       "25        Univ  1370          18      46918      90    99     90\n",
       "26        Univ  1370          18      61921      92    96     88\n",
       "27        Univ  1350          19      52468      90    97     93\n",
       "28        Univ  1340          17      48123      89    99     93\n",
       "29        Univ  1400          31     102262      98    98     75\n",
       "30        Univ  1357          30      56766      95    98     86\n",
       "31        Univ  1310          25      39504      91    95     91\n",
       "32        Univ  1306          25      35804      86   100     95\n",
       "33        Univ  1280          30      37137      85    90     83\n",
       "34        Univ  1268          29      45879      78    93     90\n",
       "35        Univ  1300          45      38937      74   100     73\n",
       "36        Univ  1281          24      24201      80    98     90\n",
       "37        Univ  1280          41      30882      87    99     86\n",
       "38        Univ  1176          37      23665      95    93     68\n",
       "39        Univ  1290          48      45460      69    58     86\n",
       "40        Univ  1327          24      26730      85    95     88\n",
       "41        Univ  1142          43      26859      96   100     61\n",
       "42        Univ  1218          37      19365      77    91     88\n",
       "43        Univ  1278          24      23115      79    89     89\n",
       "44        Univ  1109          32      19684      82    84     73\n",
       "45        Univ  1195          60      21853      71    93     77\n",
       "46        Univ  1225          64      33607      52    84     77\n",
       "47        Univ  1230          47      28851      77    79     82\n",
       "48        Univ  1225          54      39883      71    98     76\n",
       "49        Univ  1155          56      38597      52    96     73"
      ]
     },
     "execution_count": 34,
     "metadata": {},
     "output_type": "execute_result"
    }
   ],
   "source": [
    "a"
   ]
  },
  {
   "cell_type": "code",
   "execution_count": 35,
   "metadata": {},
   "outputs": [
    {
     "data": {
      "image/png": "[encoded data removed]",
      "text/plain": [
       "<Figure size 1224x792 with 6 Axes>"
      ]
     },
     "metadata": {
      "needs_background": "light"
     },
     "output_type": "display_data"
    }
   ],
   "source": [
    "plt.figure(figsize=(17,11))\n",
    "for i, j in enumerate(['SAT', 'Acceptance', '$/Student', 'Top10%', '%PhD', 'Grad%']):\n",
    "    plt.subplot(2,3,i+1)\n",
    "    sns.boxplot(x='School_Type', y=j, orient='v', data=a)"
   ]
  },
  {
   "cell_type": "code",
   "execution_count": 36,
   "metadata": {},
   "outputs": [
    {
     "data": {
      "image/png": "[encoded data removed]",
      "text/plain": [
       "<Figure size 1440x1440 with 12 Axes>"
      ]
     },
     "metadata": {
      "needs_background": "light"
     },
     "output_type": "display_data"
    }
   ],
   "source": [
    "plt.figure(figsize=(20,20))\n",
    "j = 1\n",
    "for i in ['SAT', 'Acceptance', '$/Student', 'Top10%', '%PhD', 'Grad%']:\n",
    "    plt.subplot(6,2,j)\n",
    "    plt.hist(a[a['School_Type']=='LibArts'][i], int(1.72*len(a)**(1/3)))\n",
    "    plt.title(i+' LibArts')\n",
    "    plt.subplot(6,2,j+1)\n",
    "    plt.hist(a[a['School_Type']=='Univ'][i], int(1.72*len(a)**(1/3)))\n",
    "    plt.title(i+' Univs')\n",
    "    j += 2"
   ]
  },
  {
   "cell_type": "code",
   "execution_count": 37,
   "metadata": {},
   "outputs": [
    {
     "data": {
      "text/plain": [
       "1256.64"
      ]
     },
     "execution_count": 37,
     "metadata": {},
     "output_type": "execute_result"
    }
   ],
   "source": [
    "np.average(a[a['School_Type']=='LibArts'][\"SAT\"])"
   ]
  },
  {
   "cell_type": "code",
   "execution_count": 38,
   "metadata": {},
   "outputs": [
    {
     "data": {
      "text/plain": [
       "(45, 45.0)"
      ]
     },
     "execution_count": 38,
     "metadata": {},
     "output_type": "execute_result"
    }
   ],
   "source": [
    "qartile(0.75, a[a['School_Type']=='Univ'][\"Acceptance\"]), np.percentile(a[a['School_Type']=='Univ'][\"Acceptance\"], 75)"
   ]
  },
  {
   "cell_type": "code",
   "execution_count": 39,
   "metadata": {},
   "outputs": [
    {
     "data": {
      "text/html": [
       "<div>\n",
       "<style scoped>\n",
       "    .dataframe tbody tr th:only-of-type {\n",
       "        vertical-align: middle;\n",
       "    }\n",
       "\n",
       "    .dataframe tbody tr th {\n",
       "        vertical-align: top;\n",
       "    }\n",
       "\n",
       "    .dataframe thead th {\n",
       "        text-align: right;\n",
       "    }\n",
       "</style>\n",
       "<table border=\"1\" class=\"dataframe\">\n",
       "  <thead>\n",
       "    <tr style=\"text-align: right;\">\n",
       "      <th></th>\n",
       "      <th>School_Type</th>\n",
       "      <th>SAT</th>\n",
       "      <th>Acceptance</th>\n",
       "      <th>$/Student</th>\n",
       "      <th>Top10%</th>\n",
       "      <th>%PhD</th>\n",
       "      <th>Grad%</th>\n",
       "    </tr>\n",
       "  </thead>\n",
       "  <tbody>\n",
       "    <tr>\n",
       "      <th>29</th>\n",
       "      <td>Univ</td>\n",
       "      <td>1400</td>\n",
       "      <td>31</td>\n",
       "      <td>102262</td>\n",
       "      <td>98</td>\n",
       "      <td>98</td>\n",
       "      <td>75</td>\n",
       "    </tr>\n",
       "  </tbody>\n",
       "</table>\n",
       "</div>"
      ],
      "text/plain": [
       "   School_Type   SAT  Acceptance  $/Student  Top10%  %PhD  Grad%\n",
       "29        Univ  1400          31     102262      98    98     75"
      ]
     },
     "execution_count": 39,
     "metadata": {},
     "output_type": "execute_result"
    }
   ],
   "source": [
    "m = np.max(a[a['School_Type']=='Univ']['$/Student'])\n",
    "a[a['$/Student'] == m]"
   ]
  },
  {
   "cell_type": "code",
   "execution_count": null,
   "metadata": {},
   "outputs": [],
   "source": []
  },
  {
   "cell_type": "code",
   "execution_count": 40,
   "metadata": {},
   "outputs": [],
   "source": [
    "d = [17.4, 19.9, 19.9, 19.0, 20.7, 18.2, 18.6, 20.3, 21.7, 20.8, 16.7, 20.3, 22.5, 18.3, 21.1, 16.3, 22.0, 19.5, 18.1, 21.1, 20.0, 21.6, 21.5, 21.1, 23.3, 23.0, 17.8, 19.5, 21.6, 22.9]"
   ]
  },
  {
   "cell_type": "code",
   "execution_count": 41,
   "metadata": {},
   "outputs": [
    {
     "data": {
      "text/plain": [
       "(3.413788888888889, 3.413788888888889)"
      ]
     },
     "execution_count": 41,
     "metadata": {},
     "output_type": "execute_result"
    }
   ],
   "source": [
    "np.var(d), variance(d)"
   ]
  },
  {
   "cell_type": "code",
   "execution_count": 42,
   "metadata": {},
   "outputs": [
    {
     "data": {
      "text/plain": [
       "-11.298698025887505"
      ]
     },
     "execution_count": 42,
     "metadata": {},
     "output_type": "execute_result"
    }
   ],
   "source": [
    "-15+4*np.log(3)-(np.log(2)+4*np.log(1))"
   ]
  },
  {
   "cell_type": "code",
   "execution_count": 43,
   "metadata": {},
   "outputs": [],
   "source": [
    "d = [-11.63, -6.4, -10.07, -3.14, -12.26, -12.4, -15.15, -18.35, -15.68, -9.26, -7.03, -18.9, -3.36, -12.61, -3.43, -10.6, -9.51, -5.43, -9.35, -7.14]"
   ]
  },
  {
   "cell_type": "code",
   "execution_count": 44,
   "metadata": {},
   "outputs": [
    {
     "data": {
      "text/plain": [
       "-3.14"
      ]
     },
     "execution_count": 44,
     "metadata": {},
     "output_type": "execute_result"
    }
   ],
   "source": [
    "np.max(d)"
   ]
  },
  {
   "cell_type": "code",
   "execution_count": 45,
   "metadata": {},
   "outputs": [
    {
     "data": {
      "text/plain": [
       "-18.9"
      ]
     },
     "execution_count": 45,
     "metadata": {},
     "output_type": "execute_result"
    }
   ],
   "source": [
    "np.min(d)"
   ]
  },
  {
   "cell_type": "code",
   "execution_count": 46,
   "metadata": {},
   "outputs": [
    {
     "data": {
      "text/plain": [
       "0.3333333333333333"
      ]
     },
     "execution_count": 46,
     "metadata": {},
     "output_type": "execute_result"
    }
   ],
   "source": [
    "1/3"
   ]
  },
  {
   "cell_type": "code",
   "execution_count": null,
   "metadata": {},
   "outputs": [],
   "source": []
  },
  {
   "cell_type": "code",
   "execution_count": 47,
   "metadata": {},
   "outputs": [],
   "source": [
    "with open(\"../sample_2_4.txt\", \"rt\") as f:\n",
    "    d = f.readlines()"
   ]
  },
  {
   "cell_type": "code",
   "execution_count": 48,
   "metadata": {},
   "outputs": [],
   "source": [
    "d = [(int(i[0]),'p' if i[2]=='F' else 'g') for i in d]"
   ]
  },
  {
   "cell_type": "code",
   "execution_count": 49,
   "metadata": {},
   "outputs": [
    {
     "data": {
      "text/plain": [
       "[(4, 'p'),\n",
       " (1, 'p'),\n",
       " (1, 'p'),\n",
       " (1, 'g'),\n",
       " (3, 'p'),\n",
       " (1, 'p'),\n",
       " (2, 'g'),\n",
       " (4, 'p'),\n",
       " (2, 'p'),\n",
       " (2, 'g'),\n",
       " (1, 'p'),\n",
       " (2, 'g'),\n",
       " (1, 'p'),\n",
       " (3, 'p'),\n",
       " (5, 'g'),\n",
       " (1, 'p'),\n",
       " (2, 'p'),\n",
       " (1, 'g'),\n",
       " (1, 'p'),\n",
       " (3, 'p'),\n",
       " (2, 'g'),\n",
       " (2, 'p'),\n",
       " (1, 'g'),\n",
       " (4, 'p'),\n",
       " (1, 'g'),\n",
       " (1, 'p'),\n",
       " (1, 'p'),\n",
       " (3, 'p'),\n",
       " (1, 'g'),\n",
       " (1, 'p'),\n",
       " (2, 'g'),\n",
       " (3, 'p'),\n",
       " (1, 'p'),\n",
       " (4, 'p'),\n",
       " (1, 'p'),\n",
       " (1, 'p'),\n",
       " (1, 'p'),\n",
       " (1, 'p'),\n",
       " (2, 'p'),\n",
       " (1, 'p'),\n",
       " (2, 'p'),\n",
       " (2, 'p'),\n",
       " (1, 'p'),\n",
       " (1, 'p'),\n",
       " (1, 'p'),\n",
       " (2, 'p'),\n",
       " (2, 'p'),\n",
       " (1, 'g'),\n",
       " (4, 'g'),\n",
       " (2, 'g'),\n",
       " (2, 'g'),\n",
       " (2, 'p'),\n",
       " (1, 'p'),\n",
       " (1, 'p'),\n",
       " (3, 'p'),\n",
       " (2, 'p'),\n",
       " (2, 'p'),\n",
       " (1, 'g'),\n",
       " (2, 'p'),\n",
       " (1, 'p'),\n",
       " (2, 'p'),\n",
       " (3, 'p'),\n",
       " (1, 'p'),\n",
       " (1, 'p'),\n",
       " (2, 'g'),\n",
       " (2, 'p'),\n",
       " (1, 'p'),\n",
       " (1, 'g'),\n",
       " (1, 'p'),\n",
       " (1, 'p'),\n",
       " (2, 'p'),\n",
       " (2, 'p'),\n",
       " (1, 'p'),\n",
       " (1, 'p'),\n",
       " (3, 'g'),\n",
       " (1, 'p'),\n",
       " (1, 'g'),\n",
       " (1, 'p'),\n",
       " (1, 'p'),\n",
       " (3, 'p'),\n",
       " (1, 'p'),\n",
       " (1, 'p'),\n",
       " (1, 'p'),\n",
       " (1, 'p'),\n",
       " (3, 'p'),\n",
       " (1, 'p'),\n",
       " (1, 'p'),\n",
       " (2, 'p'),\n",
       " (3, 'p'),\n",
       " (1, 'g'),\n",
       " (1, 'p'),\n",
       " (1, 'p'),\n",
       " (2, 'p'),\n",
       " (5, 'p'),\n",
       " (2, 'g'),\n",
       " (1, 'p'),\n",
       " (3, 'p'),\n",
       " (1, 'p'),\n",
       " (1, 'p'),\n",
       " (2, 'p')]"
      ]
     },
     "execution_count": 49,
     "metadata": {},
     "output_type": "execute_result"
    }
   ],
   "source": [
    "d"
   ]
  },
  {
   "cell_type": "code",
   "execution_count": 50,
   "metadata": {},
   "outputs": [
    {
     "data": {
      "text/plain": [
       "'(1-g)^(75)*(1-p)^(97)*p^78*g^22'"
      ]
     },
     "execution_count": 50,
     "metadata": {},
     "output_type": "execute_result"
    }
   ],
   "source": [
    "s = sum([i-1 for i, j in d])\n",
    "\n",
    "r = f'(1-g)^({s})*(1-p)^({[j for i, j in d].count(\"g\")+s})*p^{[j for i, j in d].count(\"p\")}*g^{[j for i, j in d].count(\"g\")}'\n",
    "    \n",
    "r"
   ]
  },
  {
   "cell_type": "code",
   "execution_count": 51,
   "metadata": {},
   "outputs": [
    {
     "data": {
      "text/plain": [
       "0.44571428571428573"
      ]
     },
     "execution_count": 51,
     "metadata": {},
     "output_type": "execute_result"
    }
   ],
   "source": [
    "78/175 #p"
   ]
  },
  {
   "cell_type": "code",
   "execution_count": 52,
   "metadata": {},
   "outputs": [
    {
     "data": {
      "text/plain": [
       "0.2268041237113402"
      ]
     },
     "execution_count": 52,
     "metadata": {},
     "output_type": "execute_result"
    }
   ],
   "source": [
    "22/97 #g"
   ]
  },
  {
   "cell_type": "code",
   "execution_count": 53,
   "metadata": {},
   "outputs": [],
   "source": [
    "from scipy.stats import expon"
   ]
  },
  {
   "cell_type": "code",
   "execution_count": 54,
   "metadata": {},
   "outputs": [],
   "source": [
    "exp = expon(scale=1/5)"
   ]
  },
  {
   "cell_type": "code",
   "execution_count": 55,
   "metadata": {},
   "outputs": [],
   "source": [
    "li_e = [exp.rvs(1000) for i in range(5000)]"
   ]
  },
  {
   "cell_type": "code",
   "execution_count": 56,
   "metadata": {},
   "outputs": [
    {
     "data": {
      "text/plain": [
       "array([2.75435613e-01, 4.42972064e-02, 9.01064776e-02, 5.46106756e-02,\n",
       "       3.61029807e-01, 8.43800894e-02, 3.22818590e-02, 3.58362451e-01,\n",
       "       1.50703010e-01, 4.67097424e-01, 2.50697702e-02, 2.27196579e-01,\n",
       "       2.47287362e-01, 3.58609407e-02, 8.90850315e-02, 4.07018817e-01,\n",
       "       1.66604622e-01, 6.03427839e-02, 1.26973574e-01, 7.63865733e-01,\n",
       "       9.14409019e-02, 1.76684548e-01, 2.00443641e-01, 1.45956562e-01,\n",
       "       3.39043362e-01, 2.80276766e-01, 4.73685464e-01, 4.44462647e-03,\n",
       "       3.47615481e-02, 1.76068467e-01, 5.09293471e-02, 2.05574644e-02,\n",
       "       6.99774785e-02, 9.13622967e-02, 1.15433977e-01, 6.07061031e-02,\n",
       "       3.82922729e-01, 1.30150356e-01, 4.18466306e-01, 1.72643809e-01,\n",
       "       2.98007989e-02, 2.61252045e-01, 7.37537560e-02, 2.37528892e-02,\n",
       "       2.94610000e-01, 3.27013024e-01, 2.78694441e-01, 4.55819235e-01,\n",
       "       1.35182895e-01, 4.04430658e-02, 3.03871806e-01, 3.58132968e-02,\n",
       "       5.30390624e-01, 2.87004838e-01, 7.68076225e-01, 3.66077430e-01,\n",
       "       1.81141514e-01, 1.60920810e-01, 9.34380461e-02, 2.99282709e-01,\n",
       "       6.09759947e-02, 4.46309874e-02, 4.04590665e-01, 3.43870862e-01,\n",
       "       4.91477998e-01, 2.87114097e-02, 1.72820306e-01, 1.15772902e-01,\n",
       "       2.49475135e-01, 8.68398114e-02, 5.33316842e-02, 6.36243670e-01,\n",
       "       5.64218774e-02, 2.47849499e-01, 2.38972601e-01, 4.01344419e-01,\n",
       "       1.69977482e-01, 4.68526586e-02, 2.06185283e-01, 3.14587009e-01,\n",
       "       7.14827294e-03, 1.20895919e-01, 9.38874218e-02, 3.65414446e-02,\n",
       "       4.21798739e-03, 3.95179349e-01, 9.44552626e-02, 6.93583360e-01,\n",
       "       1.03919376e-01, 3.91591846e-01, 1.76074833e-01, 4.26816072e-01,\n",
       "       2.83256956e-01, 3.40459784e-01, 2.35182787e-01, 6.13538113e-03,\n",
       "       1.37920674e-01, 2.82722168e-02, 1.02183746e-01, 1.13265589e-01,\n",
       "       2.60463619e-02, 5.85897658e-01, 2.94899332e-01, 1.31079485e-02,\n",
       "       5.14117026e-02, 1.15083745e-01, 2.21958280e-01, 1.08206216e-01,\n",
       "       6.39671291e-01, 8.79815576e-04, 5.03297321e-02, 5.06145831e-01,\n",
       "       2.44103827e-02, 4.90415302e-01, 1.83515608e-01, 5.39090376e-01,\n",
       "       4.36863835e-01, 3.21982727e-01, 4.74788728e-02, 1.45880084e-01,\n",
       "       6.85530419e-02, 2.09971235e-01, 1.14142742e-01, 6.07187789e-02,\n",
       "       8.37615970e-02, 4.36538018e-02, 1.28424182e-01, 4.45554910e-02,\n",
       "       1.89247146e-01, 4.87977601e-02, 9.39404652e-02, 5.05295483e-01,\n",
       "       3.30776867e-01, 4.27189952e-01, 4.90866908e-02, 3.17751996e-01,\n",
       "       4.15227849e-02, 5.21006251e-03, 2.32114307e-01, 2.86025141e-03,\n",
       "       4.15439264e-02, 2.41017735e-01, 1.13679177e-01, 2.11419574e-01,\n",
       "       6.28879902e-02, 4.78936127e-02, 3.31778988e-01, 3.17234755e-01,\n",
       "       1.80142024e-01, 4.08590265e-01, 4.94645510e-01, 3.59949380e-02,\n",
       "       1.72457213e-01, 1.51427534e-01, 1.99708374e-03, 1.16333415e-01,\n",
       "       2.16898349e-01, 5.68030798e-01, 1.55516579e-01, 2.03242571e-01,\n",
       "       6.48496856e-02, 2.43079880e-02, 3.09143434e-02, 1.39014758e-01,\n",
       "       2.67531042e-01, 3.14359107e-01, 2.70030978e-01, 2.41198668e-01,\n",
       "       3.10748640e-01, 1.17537042e-01, 9.00341932e-02, 1.32939620e-01,\n",
       "       1.82277969e-01, 2.77990128e-01, 8.36796634e-02, 2.23653905e-01,\n",
       "       2.75540267e-01, 2.92544389e-01, 1.68996679e-02, 6.01106833e-02,\n",
       "       3.09774725e-01, 6.47234791e-03, 6.95938390e-02, 8.18441143e-03,\n",
       "       7.28769196e-02, 2.71809350e-01, 1.59204177e-02, 4.45213933e-02,\n",
       "       1.93947127e-01, 1.50554562e-01, 4.12821893e-02, 5.16870061e-02,\n",
       "       7.99440879e-02, 3.20357503e-02, 2.13730390e-01, 6.91577106e-02,\n",
       "       1.11402738e-01, 6.33500811e-01, 2.70611721e-01, 5.26741156e-01,\n",
       "       1.93369128e-02, 1.39151252e-01, 6.03184512e-01, 1.05060786e-01,\n",
       "       6.15337826e-02, 8.42212094e-02, 2.14784992e-01, 5.73852377e-02,\n",
       "       8.20378483e-02, 1.00944174e-02, 1.46929264e-02, 1.19109566e+00,\n",
       "       1.01849780e-01, 8.19353547e-02, 6.03315314e-02, 4.57737171e-02,\n",
       "       3.08668432e-01, 3.14288495e-01, 2.07847239e-01, 1.22318027e-01,\n",
       "       5.55403901e-02, 8.77047050e-01, 2.90417348e-01, 4.40297357e-01,\n",
       "       2.06489429e-01, 1.52437008e-01, 3.25301035e-01, 9.84812962e-02,\n",
       "       5.30878586e-01, 6.71239779e-02, 3.31130681e-02, 3.07764548e-01,\n",
       "       1.95029789e-01, 8.01099882e-01, 7.88010540e-01, 1.33443425e-01,\n",
       "       6.11693355e-02, 3.47668387e-03, 6.45261541e-02, 5.73028027e-01,\n",
       "       3.21394356e-03, 1.91731851e-01, 1.33075757e-01, 1.83878559e-01,\n",
       "       4.62686275e-02, 3.07228256e-01, 3.12961998e-01, 1.06607605e-01,\n",
       "       1.42285954e-01, 1.24371524e-01, 2.98040603e-01, 2.39313765e-01,\n",
       "       2.21951680e-01, 1.44509162e-01, 2.38568808e-01, 2.66504974e-01,\n",
       "       3.95948438e-01, 4.88153813e-02, 4.61644124e-01, 1.89805347e-01,\n",
       "       5.38522627e-01, 8.53925827e-02, 2.05076673e-01, 5.78489971e-03,\n",
       "       1.27137405e-01, 1.92490689e-01, 9.89693041e-03, 1.89744117e-01,\n",
       "       5.69583394e-02, 6.99356887e-02, 4.71608445e-01, 1.69200050e-01,\n",
       "       8.35561772e-01, 4.97708462e-02, 1.60902712e-02, 1.68699749e-01,\n",
       "       2.52714365e-01, 8.39031122e-02, 7.10472693e-02, 3.16152824e-02,\n",
       "       4.10174943e-02, 1.61448885e-01, 2.28046087e-01, 4.67426634e-01,\n",
       "       1.65036325e-01, 3.46490058e-01, 2.00468419e-02, 1.16834771e-01,\n",
       "       5.79754599e-02, 5.33863557e-02, 3.21354387e-01, 2.19559201e-01,\n",
       "       1.73611197e-01, 1.69179942e-01, 3.82616286e-01, 3.95491367e-01,\n",
       "       2.31536116e-02, 8.57276364e-02, 1.06716658e-01, 3.36527401e-01,\n",
       "       5.64974137e-02, 2.45497952e-01, 1.40386264e-01, 3.36860718e-02,\n",
       "       9.68093310e-02, 2.08615526e-01, 3.99354744e-01, 9.40662811e-02,\n",
       "       7.65231424e-02, 1.65796972e-02, 9.69332132e-02, 3.65385669e-01,\n",
       "       1.66246692e-01, 1.38197150e-01, 1.51651056e-01, 6.75627384e-02,\n",
       "       3.76698556e-01, 2.18794691e-03, 1.14557641e-01, 1.19137369e-02,\n",
       "       1.85213952e-01, 2.57769384e-01, 5.67281125e-03, 2.44464961e-02,\n",
       "       1.10808413e-01, 6.84743458e-02, 3.04681641e-01, 5.28507831e-03,\n",
       "       1.56592728e-01, 2.90827368e-01, 4.32489281e-02, 1.99263939e-01,\n",
       "       2.46381422e-02, 1.88944313e-01, 2.63688717e-01, 1.05497080e-01,\n",
       "       5.88370912e-02, 4.10478597e-01, 2.76778071e-01, 7.18428185e-02,\n",
       "       4.55474788e-02, 1.60282293e-01, 9.34371556e-03, 1.90474778e-01,\n",
       "       6.00588253e-01, 2.59812271e-02, 3.10033154e-01, 1.26194215e-01,\n",
       "       1.96372194e-01, 1.42309070e-01, 1.28942203e-01, 2.73388908e-01,\n",
       "       1.57616500e-01, 5.11355252e-02, 2.24947017e-01, 2.26065426e-01,\n",
       "       5.26372796e-01, 1.06399553e+00, 8.17702480e-02, 9.63942819e-01,\n",
       "       7.53246683e-01, 1.06569378e+00, 4.26184724e-01, 2.12805001e-01,\n",
       "       1.26946295e-01, 2.23915804e-02, 8.43392466e-02, 3.06660355e-02,\n",
       "       9.61625285e-02, 3.34085580e-01, 1.41789596e-02, 4.50690392e-03,\n",
       "       2.95970565e-02, 5.06469952e-02, 1.62935241e-01, 8.32297985e-02,\n",
       "       6.40834339e-02, 7.99990477e-02, 7.42151068e-01, 2.68986969e-01,\n",
       "       7.55644437e-03, 1.68576953e-01, 1.80461977e-01, 4.71693159e-01,\n",
       "       7.35158138e-02, 1.20373309e-01, 4.58225176e-02, 2.41459705e-01,\n",
       "       2.44795313e-01, 5.16840072e-01, 1.60469532e-01, 5.55483124e-01,\n",
       "       3.69800596e-01, 3.21590123e-02, 4.40114118e-02, 1.32958531e-01,\n",
       "       3.83768365e-02, 1.27054868e-01, 8.01350865e-02, 3.26396059e-01,\n",
       "       1.95080325e-01, 9.75646444e-02, 1.71678078e-01, 1.07437250e-03,\n",
       "       7.51935813e-02, 3.68773063e-02, 3.48111115e-01, 4.07813244e-02,\n",
       "       1.27343156e-01, 1.73212625e-01, 2.65859313e-01, 4.28655868e-02,\n",
       "       7.67975713e-02, 1.46680201e-01, 3.07851501e-01, 1.57121905e-01,\n",
       "       1.62015474e-01, 4.72164392e-02, 2.78286361e-01, 6.73129274e-01,\n",
       "       8.21660867e-01, 2.50341989e-02, 2.31249372e-01, 2.28116851e-01,\n",
       "       3.13140725e-02, 3.34597929e-02, 1.40249232e-01, 1.32672565e-01,\n",
       "       3.47291643e-01, 5.80269671e-01, 1.92134922e-02, 7.10911506e-02,\n",
       "       8.66690749e-03, 1.26703425e-01, 4.51909549e-01, 3.37788094e-01,\n",
       "       3.63849030e-02, 5.52373490e-02, 1.74690914e-03, 5.35026534e-02,\n",
       "       1.37685112e-01, 1.87936056e-01, 1.17778219e-01, 5.28668880e-02,\n",
       "       1.55537633e-01, 1.09981022e-02, 1.63637926e-02, 2.33627782e-01,\n",
       "       1.43748273e-01, 3.04966861e-02, 1.79253755e-01, 5.05988632e-02,\n",
       "       6.51393772e-03, 9.18932342e-01, 3.83359827e-01, 7.60430446e-02,\n",
       "       7.64336126e-03, 6.65296061e-01, 8.44314097e-03, 3.22740343e-01,\n",
       "       1.50236426e-02, 5.10158450e-02, 3.02806012e-02, 2.80876835e-01,\n",
       "       3.06074002e-02, 2.63486570e-01, 2.16694009e-01, 8.43896100e-02,\n",
       "       2.24760370e-02, 1.06849459e-01, 5.90943212e-02, 2.23100577e-02,\n",
       "       1.01639189e-02, 2.99280263e-01, 9.76930579e-02, 7.16878059e-02,\n",
       "       2.82321577e-02, 7.28341006e-02, 1.35297403e-01, 1.25169737e-01,\n",
       "       3.23428352e-01, 7.69134241e-01, 9.68776031e-02, 1.05882289e-02,\n",
       "       4.01393424e-01, 1.28515044e-01, 1.74256719e-01, 6.46479053e-04,\n",
       "       3.53954361e-02, 2.18722014e-01, 7.48600937e-02, 5.98443040e-02,\n",
       "       2.38323784e-01, 9.88787767e-03, 2.30387039e-01, 2.95056598e-01,\n",
       "       4.59694725e-01, 1.67957846e-01, 3.11545276e-01, 3.04060196e-01,\n",
       "       3.25688111e-01, 1.21003766e-01, 3.43659445e-02, 2.02739476e-01,\n",
       "       7.65314369e-02, 4.38760630e-01, 5.78930301e-01, 1.53909812e-01,\n",
       "       1.74391847e-01, 1.03402787e-01, 1.56046346e-02, 6.95218091e-02,\n",
       "       1.42444145e-01, 1.89330963e-01, 6.71476393e-02, 6.66440713e-02,\n",
       "       1.65557143e-02, 4.99114666e-02, 1.44067699e-01, 4.81716732e-01,\n",
       "       1.93975245e-01, 1.38325933e-01, 1.76391967e-02, 1.02503052e-01,\n",
       "       3.19355993e-01, 8.89559419e-02, 7.41731136e-01, 6.67975770e-02,\n",
       "       1.70274841e-01, 6.35210473e-03, 4.78116383e-01, 5.65746640e-02,\n",
       "       2.12582995e-01, 4.21471911e-02, 7.07689227e-02, 1.93364170e-01,\n",
       "       2.62002382e-03, 1.77088449e-01, 8.25562212e-02, 1.96901576e-02,\n",
       "       6.16899377e-01, 1.17544437e-01, 6.05626204e-02, 9.99509455e-03,\n",
       "       2.66273028e-01, 1.68739720e-01, 1.48198570e-01, 8.77122881e-02,\n",
       "       1.34468129e+00, 9.40487613e-02, 1.66638929e-01, 1.85466377e-02,\n",
       "       9.91636680e-03, 1.30680579e-01, 1.55177213e-01, 5.21316627e-01,\n",
       "       1.86442714e-02, 9.20546256e-02, 9.04198044e-01, 2.62091454e-01,\n",
       "       4.07070468e-04, 4.27313770e-01, 2.86746761e-02, 9.37040171e-02,\n",
       "       3.52794994e-01, 7.63969058e-04, 6.46744407e-03, 5.51285267e-03,\n",
       "       2.49897923e-01, 1.20223949e-01, 4.61074591e-01, 2.95315655e-01,\n",
       "       1.53262129e-01, 4.82323164e-02, 8.37446736e-02, 1.62131564e-01,\n",
       "       6.71062289e-01, 2.21486955e-01, 9.55028830e-02, 5.10440907e-02,\n",
       "       7.48170310e-02, 2.36615035e-03, 5.56626317e-02, 2.02256110e-01,\n",
       "       1.03946373e-01, 1.87731647e-01, 9.63680501e-02, 1.45932111e-01,\n",
       "       2.89549618e-01, 1.75715462e-01, 8.17612026e-01, 4.92246488e-01,\n",
       "       2.15525596e-01, 1.53392733e-02, 4.51070957e-03, 1.23087444e-02,\n",
       "       5.47496409e-02, 3.13460163e-02, 3.77542883e-02, 1.97141764e-01,\n",
       "       2.55742678e-01, 7.30312546e-02, 1.86640052e-01, 1.62104536e-01,\n",
       "       1.69994906e-02, 1.62916581e-01, 3.80735255e-01, 4.52325714e-01,\n",
       "       5.06684333e-02, 1.20282273e+00, 3.19133940e-01, 3.00605222e-01,\n",
       "       2.28157940e-01, 1.61291111e-01, 4.67762379e-02, 3.81163480e-01,\n",
       "       4.83864350e-02, 9.22231480e-02, 4.68535660e-02, 1.96894356e-01,\n",
       "       3.76393824e-02, 9.24896643e-03, 1.16967510e-01, 1.62694931e-01,\n",
       "       5.14430100e-02, 7.69798164e-02, 1.60712550e-01, 1.68317848e-02,\n",
       "       2.24489578e-01, 8.11658686e-02, 4.48683467e-02, 3.09876130e-01,\n",
       "       1.22262666e-01, 5.50103230e-01, 1.53224561e-01, 1.17432661e-01,\n",
       "       2.03335778e-01, 6.04745874e-02, 3.32226776e-02, 2.63240965e-01,\n",
       "       1.74846021e-02, 2.34113140e-02, 2.28551992e-01, 6.35732796e-02,\n",
       "       7.10126697e-03, 1.61764766e-02, 1.25476016e-01, 6.61236938e-01,\n",
       "       8.65674039e-02, 2.72676340e-01, 1.96575748e-02, 3.90966032e-02,\n",
       "       5.34205367e-02, 2.48439868e-01, 1.58596122e-01, 5.60572427e-02,\n",
       "       3.69447199e-01, 6.43914153e-01, 1.28126408e-01, 1.85372680e-02,\n",
       "       1.93522933e-01, 1.85839078e-02, 2.84613954e-02, 1.59706596e-01,\n",
       "       1.02373376e-01, 7.83158787e-02, 1.20008787e-01, 5.93452011e-01,\n",
       "       1.92237110e-01, 2.18372758e-01, 5.24258349e-02, 7.34555776e-02,\n",
       "       7.70415480e-02, 1.14081418e-01, 4.07014270e-01, 1.44242770e-01,\n",
       "       4.25464229e-01, 2.15061797e-01, 1.49060350e-01, 8.25122796e-03,\n",
       "       1.79347582e-01, 6.81740503e-01, 1.50614577e-01, 2.52762241e-01,\n",
       "       1.97088453e-01, 9.79531488e-03, 3.33992790e-01, 1.60996542e-01,\n",
       "       6.56723860e-02, 1.86310209e-01, 1.32326991e-01, 4.49913933e-01,\n",
       "       3.47388753e-01, 2.44120860e-01, 1.58192676e-02, 8.30025882e-02,\n",
       "       5.03865156e-02, 4.37364123e-01, 2.31531235e-01, 2.61565317e-01,\n",
       "       1.65987478e-01, 1.58564201e-01, 7.73843277e-02, 2.70110321e-01,\n",
       "       1.61354495e-01, 1.27605501e-01, 4.06396666e-02, 1.59754120e-01,\n",
       "       5.91797597e-01, 6.53322208e-02, 2.14823658e-01, 1.60112379e-01,\n",
       "       7.14909678e-02, 1.32576094e-01, 2.11670572e-01, 4.15910276e-02,\n",
       "       2.99213227e-01, 2.39776067e-01, 1.44255351e-02, 1.10696997e-01,\n",
       "       5.79195778e-01, 1.94369892e-01, 8.90196456e-02, 1.10566698e-01,\n",
       "       1.81119474e-01, 1.71798089e-01, 4.82074461e-01, 1.32780259e-01,\n",
       "       2.97866463e-01, 4.53002639e-01, 3.31085406e-01, 8.81564052e-02,\n",
       "       4.16297744e-02, 3.72224411e-01, 6.95937749e-02, 4.03125355e-01,\n",
       "       2.37799979e-01, 1.78632857e-01, 5.36611846e-03, 7.59597411e-01,\n",
       "       1.18354794e-01, 6.49692690e-02, 1.45915877e-01, 1.58153897e-01,\n",
       "       1.39458302e-01, 8.60783047e-02, 3.66993587e-01, 4.98520137e-02,\n",
       "       5.42842339e-02, 9.58363917e-03, 6.15335047e-01, 5.06348686e-02,\n",
       "       3.16830350e-01, 2.09911742e-01, 2.53843639e-02, 1.61441785e-01,\n",
       "       1.52530503e-01, 3.95592529e-01, 1.75176408e-01, 6.85007736e-02,\n",
       "       3.82050061e-01, 4.19192217e-01, 2.32086346e-01, 1.09390723e-01,\n",
       "       1.05306071e+00, 1.24151950e-01, 6.90503616e-02, 2.26039830e-01,\n",
       "       1.15786441e-02, 1.31465622e-01, 1.84164365e-01, 2.28847352e-02,\n",
       "       5.46502467e-02, 1.67161221e-02, 1.55886011e-01, 3.73471075e-01,\n",
       "       4.35154671e-02, 3.70561395e-02, 1.62554982e-01, 1.35882854e-01,\n",
       "       3.09137648e-02, 1.25248361e+00, 5.17661239e-02, 1.01037258e-01,\n",
       "       3.55564960e-01, 3.46330480e-01, 1.03787650e-01, 2.63087820e-01,\n",
       "       2.50031344e-01, 4.69001930e-02, 2.41398282e-01, 2.90077649e-03,\n",
       "       1.20382622e-01, 5.66369102e-02, 6.08265383e-01, 4.43221118e-01,\n",
       "       1.25831533e-01, 4.12170057e-01, 3.86332583e-01, 4.82761799e-01,\n",
       "       3.32508653e-02, 3.69499543e-02, 6.08656492e-02, 3.84446587e-01,\n",
       "       1.67527305e-01, 2.20043333e-01, 4.18859518e-02, 3.37172461e-01,\n",
       "       3.26255161e-01, 2.42320256e-01, 1.16807655e-01, 7.30553107e-02,\n",
       "       9.98910436e-02, 4.64129344e-01, 8.44709282e-02, 3.92843218e-02,\n",
       "       6.54919086e-01, 3.33594159e-02, 2.78639797e-01, 2.78220735e-02,\n",
       "       1.55882611e-02, 3.89780425e-02, 2.42328921e-01, 1.01211895e-02,\n",
       "       4.22615928e-02, 6.47604266e-02, 4.05732940e-01, 1.94785933e-02,\n",
       "       4.82596419e-02, 5.12763155e-02, 3.01765640e-01, 3.05523589e-01,\n",
       "       7.15696944e-02, 6.41362778e-03, 5.96942700e-01, 3.77435883e-01,\n",
       "       5.54367163e-01, 5.66053990e-02, 1.69356340e-01, 1.27228518e-01,\n",
       "       3.67776453e-01, 7.11788001e-02, 7.05154637e-02, 7.43831851e-01,\n",
       "       4.03302777e-03, 2.97250828e-01, 3.16755057e-01, 4.56658316e-01,\n",
       "       1.97479952e-01, 2.02755718e-01, 2.54789967e-02, 8.98137211e-02,\n",
       "       3.61530113e-02, 3.46085674e-01, 1.29039701e-01, 6.97715835e-02,\n",
       "       7.29837682e-02, 1.34350211e-02, 4.79269033e-01, 2.14558147e-01,\n",
       "       1.43362155e-01, 1.01560646e+00, 6.05616000e-02, 9.34943536e-02,\n",
       "       9.84970510e-02, 6.11910491e-02, 1.27171850e-01, 3.46593969e-01,\n",
       "       7.07813913e-02, 2.56132613e-01, 4.66674949e-02, 4.49688632e-01,\n",
       "       2.33568274e-01, 4.32568007e-01, 7.06886539e-02, 6.52038879e-02,\n",
       "       3.26862477e-02, 3.06073698e-01, 5.35453122e-02, 9.45599667e-02,\n",
       "       1.23431701e-01, 2.31905031e-01, 1.38562960e-01, 4.38989635e-01,\n",
       "       4.86583856e-02, 1.29740618e-01, 1.36240832e-01, 1.30440634e-01,\n",
       "       2.55156640e-01, 9.30827784e-02, 4.59099650e-01, 5.51422294e-01,\n",
       "       2.12084106e-01, 1.08774003e-01, 1.16982381e-02, 8.75839296e-02,\n",
       "       3.91007724e-01, 2.71247055e-01, 1.14653603e-01, 3.25028060e-01,\n",
       "       1.40369050e-01, 2.78675583e-01, 1.51588896e-01, 4.62530746e-01,\n",
       "       2.78646791e-01, 4.14360069e-01, 2.92658058e-01, 1.71352168e-01,\n",
       "       2.14673936e-01, 2.27488098e-01, 1.01443391e+00, 6.58671043e-01,\n",
       "       6.34442660e-02, 8.61444436e-01, 1.73345388e-02, 2.77841903e-01,\n",
       "       5.31090560e-01, 3.24869830e-01, 4.32336003e-02, 5.93026633e-01,\n",
       "       1.26539109e-01, 4.23898331e-02, 2.78332898e-01, 2.12005143e-01,\n",
       "       6.91673667e-01, 2.03775813e-02, 2.30412920e-01, 3.65275114e-02,\n",
       "       6.33636324e-02, 4.31700582e-01, 3.37142194e-03, 3.35438945e-01,\n",
       "       3.06519955e-01, 9.85445450e-01, 1.50357296e-01, 4.82016885e-01,\n",
       "       3.08063817e-02, 3.22684632e-01, 9.28382787e-01, 2.96261648e-01,\n",
       "       4.77558582e-01, 3.53768421e-01, 5.05545838e-01, 6.76119344e-01,\n",
       "       1.04804793e-01, 3.00452742e-02, 5.47969152e-02, 3.25362516e-02,\n",
       "       3.69788413e-01, 1.67641556e-01, 2.54636513e-01, 1.48695668e-01,\n",
       "       1.46243876e-01, 1.20437614e-01, 1.76311153e-01, 3.73555752e-01,\n",
       "       3.33532315e-01, 6.72981976e-02, 2.79885910e-03, 3.15530654e-01,\n",
       "       9.71625352e-02, 5.78674298e-02, 5.65343651e-02, 5.74434525e-02,\n",
       "       4.00143003e-01, 9.69645950e-01, 2.24739120e-01, 6.52008172e-03,\n",
       "       1.19363164e-01, 6.57723802e-02, 3.47201838e-01, 1.84685021e-02,\n",
       "       8.65426288e-02, 3.24795698e-02, 1.93901540e-01, 8.29141867e-02,\n",
       "       5.11189448e-01, 3.86567748e-01, 9.31974377e-02, 6.63982121e-01,\n",
       "       8.63978184e-02, 5.55535127e-01, 5.44985536e-01, 9.82157289e-02,\n",
       "       2.13635430e-01, 2.10960426e-01, 6.63927666e-01, 2.03049471e-01,\n",
       "       2.81243939e-01, 1.63558434e-02, 6.20499727e-01, 1.66771512e-01,\n",
       "       1.58647020e-01, 8.29810269e-02, 2.97603615e-02, 2.72233417e-01,\n",
       "       1.59872190e-01, 4.64454810e-02, 6.08938028e-02, 2.54330803e-01])"
      ]
     },
     "execution_count": 56,
     "metadata": {},
     "output_type": "execute_result"
    }
   ],
   "source": [
    "li_e[0]"
   ]
  },
  {
   "cell_type": "code",
   "execution_count": 57,
   "metadata": {},
   "outputs": [],
   "source": [
    "li_lam = [1/np.average(i) for i in li_e]"
   ]
  },
  {
   "cell_type": "code",
   "execution_count": 58,
   "metadata": {},
   "outputs": [
    {
     "data": {
      "image/png": "[encoded data removed]",
      "text/plain": [
       "<Figure size 432x288 with 1 Axes>"
      ]
     },
     "metadata": {
      "needs_background": "light"
     },
     "output_type": "display_data"
    },
    {
     "data": {
      "image/png": "[encoded data removed]",
      "text/plain": [
       "<Figure size 432x288 with 1 Axes>"
      ]
     },
     "metadata": {
      "needs_background": "light"
     },
     "output_type": "display_data"
    }
   ],
   "source": [
    "plt.hist(li_lam, int(1.72*len(a)**(1/3)))\n",
    "plt.show()\n",
    "plt.hist(li_lam, int(1+3.2*np.log(len(a))))\n",
    "plt.show()"
   ]
  },
  {
   "cell_type": "code",
   "execution_count": 59,
   "metadata": {},
   "outputs": [
    {
     "data": {
      "text/plain": [
       "2.5999999999999996"
      ]
     },
     "execution_count": 59,
     "metadata": {},
     "output_type": "execute_result"
    }
   ],
   "source": [
    "0.3*3+0.6*2+0.1*5"
   ]
  },
  {
   "cell_type": "code",
   "execution_count": 60,
   "metadata": {},
   "outputs": [
    {
     "data": {
      "text/plain": [
       "3.541"
      ]
     },
     "execution_count": 60,
     "metadata": {},
     "output_type": "execute_result"
    }
   ],
   "source": [
    "0.3*(1+(2.6-3)**2)+ 0.6*(4+(2-2.6)**2)+0.1*(0.01+(2.6-5)**2)"
   ]
  },
  {
   "cell_type": "code",
   "execution_count": 61,
   "metadata": {},
   "outputs": [],
   "source": [
    "data1 = [282, 226, 188, 327, 344, 304, 414, 224, 335, 270]"
   ]
  },
  {
   "cell_type": "code",
   "execution_count": 62,
   "metadata": {},
   "outputs": [],
   "source": [
    "data2 = [417,  851,  742, 1217, 1160,  993,  864,  852, 1286,  988]"
   ]
  },
  {
   "cell_type": "markdown",
   "metadata": {},
   "source": [
    "Среднее со стратифицированием"
   ]
  },
  {
   "cell_type": "code",
   "execution_count": 63,
   "metadata": {},
   "outputs": [],
   "source": [
    "x_av = np.mean(data1)*0.4+np.mean(data2)*0.6"
   ]
  },
  {
   "cell_type": "markdown",
   "metadata": {},
   "source": [
    "Дисперсия со стратифицированием"
   ]
  },
  {
   "cell_type": "code",
   "execution_count": 64,
   "metadata": {},
   "outputs": [
    {
     "data": {
      "text/plain": [
       "136721.6624"
      ]
     },
     "execution_count": 64,
     "metadata": {},
     "output_type": "execute_result"
    }
   ],
   "source": [
    "variance(data1)*0.4+variance(data2)*0.6+0.4*(np.mean(data1)-x_av)**2 + 0.6*(np.mean(data2)-x_av)**2"
   ]
  },
  {
   "cell_type": "markdown",
   "metadata": {},
   "source": [
    "Семплирование неймана (объем страт, если дисперсия известна)"
   ]
  },
  {
   "cell_type": "code",
   "execution_count": 65,
   "metadata": {},
   "outputs": [],
   "source": [
    "def strats_len(total_am, list_of_strata_probs, list_of_strata_variance):\n",
    "    r = []\n",
    "    diveder = np.sum(np.array(list_of_strata_probs)*np.array(list_of_strata_variance)**(1/2))\n",
    "    for i, w_i in enumerate(list_of_strata_probs):\n",
    "        r.append(total_am*w_i*list_of_strata_variance[i]**(1/2)/diveder)\n",
    "    return np.round(r)"
   ]
  },
  {
   "cell_type": "code",
   "execution_count": 66,
   "metadata": {},
   "outputs": [
    {
     "data": {
      "text/plain": [
       "array([21., 79.])"
      ]
     },
     "execution_count": 66,
     "metadata": {},
     "output_type": "execute_result"
    }
   ],
   "source": [
    "strats_len(100, [0.25, 0.75], [4, 6.25])"
   ]
  },
  {
   "cell_type": "code",
   "execution_count": 67,
   "metadata": {},
   "outputs": [],
   "source": [
    "from scipy.stats import f # распределение фишера"
   ]
  },
  {
   "cell_type": "code",
   "execution_count": 68,
   "metadata": {},
   "outputs": [],
   "source": [
    "f_local = f(5, 15) # распределение с параматерами"
   ]
  },
  {
   "cell_type": "code",
   "execution_count": 69,
   "metadata": {},
   "outputs": [
    {
     "data": {
      "text/plain": [
       "2.273022447867572"
      ]
     },
     "execution_count": 69,
     "metadata": {},
     "output_type": "execute_result"
    }
   ],
   "source": [
    "f_local.ppf(0.9) #cdf - вероятность по значению, ppf - значение по вероятности (квантиль)"
   ]
  },
  {
   "cell_type": "code",
   "execution_count": 70,
   "metadata": {},
   "outputs": [],
   "source": [
    "from scipy.stats import norm, t, chi2 #нормальное, стьюдента"
   ]
  },
  {
   "cell_type": "code",
   "execution_count": 71,
   "metadata": {},
   "outputs": [],
   "source": [
    "f_n = norm(0,1)"
   ]
  },
  {
   "cell_type": "code",
   "execution_count": 72,
   "metadata": {},
   "outputs": [
    {
     "data": {
      "text/plain": [
       "2.3263478740408408"
      ]
     },
     "execution_count": 72,
     "metadata": {},
     "output_type": "execute_result"
    }
   ],
   "source": [
    "f_n.ppf(0.99)"
   ]
  },
  {
   "cell_type": "code",
   "execution_count": 73,
   "metadata": {},
   "outputs": [],
   "source": [
    "def confidence_interval(x_av, u_alf_2, sigm, n):\n",
    "    return x_av+u_alf_2*sigm/n**(1/2), x_av-u_alf_2*sigm/n**(1/2) \n",
    "\n"
   ]
  },
  {
   "cell_type": "code",
   "execution_count": 74,
   "metadata": {},
   "outputs": [
    {
     "data": {
      "text/plain": [
       "(247.35514637304854, 250.64485362695146)"
      ]
     },
     "execution_count": 74,
     "metadata": {},
     "output_type": "execute_result"
    }
   ],
   "source": [
    "confidence_interval(249, f_n.ppf(0.05), 10, 100)"
   ]
  },
  {
   "cell_type": "code",
   "execution_count": 75,
   "metadata": {},
   "outputs": [],
   "source": [
    "def confidence_interval_a(x_av, s, n, alpha):\n",
    "    st = t(n-1)\n",
    "    t_1alp2 = st.ppf(1-alpha/2)\n",
    "    return x_av-s/n**(1/2)*t_1alp2, x_av+s/n**(1/2)*t_1alp2\n",
    "    "
   ]
  },
  {
   "cell_type": "code",
   "execution_count": 76,
   "metadata": {},
   "outputs": [],
   "source": [
    "def confidence_interval_var(s, n, alpha):\n",
    "    ch = chi2(n-1)\n",
    "    t_1_alp2 = ch.ppf(1-alpha/2)\n",
    "    t_1alp2 = ch.ppf(alpha/2)\n",
    "    return (n-1)*s**2/t_1_alp2, (n-1)*s**2/t_1alp2\n",
    "    "
   ]
  },
  {
   "cell_type": "code",
   "execution_count": 77,
   "metadata": {},
   "outputs": [
    {
     "data": {
      "text/plain": [
       "(9.713851374971187, 10.886148625028815)"
      ]
     },
     "execution_count": 77,
     "metadata": {},
     "output_type": "execute_result"
    }
   ],
   "source": [
    "confidence_interval_a(10.3, 1.21**(1/2), 16, 0.05)"
   ]
  },
  {
   "cell_type": "code",
   "execution_count": 78,
   "metadata": {},
   "outputs": [],
   "source": [
    "d_e = [-0.77, -0.68, -0.74, -0.83, 0.13, -0.52, 0.05, 0.34, 0.34, 0.98, -0.28, -0.79, 0.47, -0.13, 0.54, -0.75, -0.75, -0.96, 0.03, 1.05\n",
    "]"
   ]
  },
  {
   "cell_type": "code",
   "execution_count": 79,
   "metadata": {},
   "outputs": [
    {
     "name": "stdout",
     "output_type": "stream",
     "text": [
      "20\n",
      "0.05\n",
      "0.407755\n",
      "0.23866531514948705 0.850306462808451\n",
      "0.6116411476589639\n"
     ]
    }
   ],
   "source": [
    "\n",
    "n = len(d_e)\n",
    "print(n)\n",
    "alpha = 0.05\n",
    "print(alpha)\n",
    "s = np.sum(np.array(d_e)**2)/n\n",
    "print(s)\n",
    "ch = chi2(n)\n",
    "t_1_alp2 = ch.ppf(1-alpha/2)\n",
    "t_1alp2 = ch.ppf(alpha/2)\n",
    "print((n)*s/t_1_alp2, (n)*s/t_1alp2)\n",
    "print(-(n)*s/t_1_alp2 + (n)*s/t_1alp2)\n"
   ]
  },
  {
   "cell_type": "code",
   "execution_count": 80,
   "metadata": {},
   "outputs": [
    {
     "name": "stdout",
     "output_type": "stream",
     "text": [
      "35.67299744696812\n",
      "4.483368687079171\n"
     ]
    }
   ],
   "source": [
    "nor = norm(10, 5)\n",
    "d_e = nor.rvs(100) #попросить распределение\n",
    "ad, bd = confidence_interval_a(np.mean(d_e), (n*variance(d_e)/(n-1))**(1/2), n, alpha)\n",
    "aa, ba =  confidence_interval_var((n*variance(d_e)/(n-1))**(1/2), n, alpha)\n",
    "print(ba-aa)\n",
    "print(bd-ad)"
   ]
  },
  {
   "cell_type": "code",
   "execution_count": 81,
   "metadata": {},
   "outputs": [],
   "source": [
    "d_e = [0, 0, 0, 0, 0, 0, 0, 0, 0, 0, 0, 0, 0, 0, 0, 0, 1, 0, 1, 1, 0, 0, 0, 0, 0, 0, 0, 0, 0, 0, 0, 0, 0, 0, 0, 0, 0, 0, 0, 0, 0, 0, 0, 0, 0, 0, 0, 0, 0, 0, 1, 0, 0, 0, 1, 0, 0, 0, 0, 0, 0, 0, 0, 0, 0, 0, 0, 0, 0, 0, 0, 0, 0, 0, 0, 0, 0, 0, 0, 0, 0, 0, 0, 0, 0, 0, 0, 0, 0, 0, 0, 0, 0, 0, 0, 0, 0, 0, 0, 0]"
   ]
  },
  {
   "cell_type": "code",
   "execution_count": 82,
   "metadata": {},
   "outputs": [],
   "source": [
    "d_e = [0, 0, 0, 0, 0, 1, 0, 0, 0, 0, 0, 0, 0, 0, 0, 0, 0, 0, 0, 0, 1, 0, 0, 0, 1, 0, 1, 0, 0, 1, 0, 0, 1, 0, 0, 0, 0, 1, 0, 0, 0, 0, 1, 1, 0, 0, 0, 1, 0, 0, 0, 1, 0, 0, 0, 0, 0, 0, 0, 0, 0, 0, 0, 0, 0, 0, 1, 0, 1, 0, 0, 0, 0, 0, 0, 0, 0, 0, 0, 0, 0, 0, 1, 0, 1, 0, 1, 1, 0, 1, 0, 0, 0, 0, 0, 0, 1, 0, 1, 0, 1, 0, 1, 0, 0, 0, 0, 0, 0, 0, 1, 0, 0, 1, 1, 0, 1, 0, 0, 1, 0, 0, 0, 0, 0, 0, 0, 0, 1, 0, 0, 0, 1, 0, 0, 0, 0, 0, 0, 0, 0, 0, 0, 0, 0, 0, 0, 0, 0, 1, 0, 1, 0, 0, 0, 0, 0, 0, 0, 0, 0, 0, 0, 0, 0, 0, 0, 1, 0, 1, 0, 0, 0, 0, 1, 0, 0, 0, 0, 0, 0, 0, 1, 0, 0, 0, 1, 0, 1, 0, 0, 1, 0, 0, 0, 0, 0, 0, 0, 1, 0, 0, 0, 0, 0, 0, 0, 0, 0, 0, 0, 1, 1, 0, 1, 1, 1, 0, 0, 0, 0, 0, 1, 0, 0, 0, 0, 0, 0, 0, 0, 0, 0, 0, 0, 0, 1, 0, 0, 0, 1, 0, 0, 0, 0, 0, 1, 0, 0, 0, 0, 0, 0, 0, 0, 0, 0, 0, 0, 0, 0, 0, 0, 0, 0, 0, 0, 0, 0, 0, 0, 0, 0, 0, 1, 0, 0, 0, 0, 0, 0, 0, 1, 0, 0, 0, 0, 0, 0, 0, 0, 0, 1, 1, 0, 0, 1, 0, 0, 1, 0, 1, 0, 0, 0, 0, 1, 1, 0, 1, 0, 0, 0, 0, 1, 0, 1, 0, 0, 0, 0, 0, 0, 0, 0, 0, 1, 0, 0, 1, 0, 1, 0, 0, 0, 0, 0, 0, 0, 0, 0, 0, 0, 0, 0, 0, 0, 0, 0, 0, 0, 1, 0, 0, 0, 0, 0, 0, 0, 0, 1, 1, 0, 0, 0, 1, 1, 0, 0, 0, 1, 0, 0, 0, 0, 0, 0, 1, 0, 0, 0, 0, 0, 1, 0, 0, 0, 1, 0, 1, 0, 0, 0, 0, 1, 0, 1, 0, 0, 0, 0, 0, 0, 1, 0, 0, 0, 0, 1, 0, 0, 1, 0, 0, 0, 0, 0, 0, 0, 0, 0, 0, 0, 0, 0, 0, 0, 0, 1, 0, 0, 0, 0, 0, 0, 0, 0, 0, 0, 0, 0, 0, 0, 0, 0, 0, 0, 0, 0, 0, 0, 1, 0, 1, 0, 1, 0, 0, 0, 0, 1, 0, 0, 0, 1, 1, 0, 0, 0, 0, 0, 0, 0, 1, 0, 0, 0, 0, 0, 0, 0, 0, 0, 0, 0, 0, 0, 0, 0, 0, 0, 1, 0, 1, 1, 0, 0, 0, 1, 0\n",
    "      ]"
   ]
  },
  {
   "cell_type": "code",
   "execution_count": 83,
   "metadata": {},
   "outputs": [],
   "source": [
    "def ass_confidence_interval(val, alpha, n, sigm):\n",
    "    nor = norm(0,1)\n",
    "    u = nor.ppf(1-alpha/2)\n",
    "    return val - u * sigm/n**(1/2), val + u * sigm/n**(1/2)\n",
    "\n"
   ]
  },
  {
   "cell_type": "code",
   "execution_count": 84,
   "metadata": {},
   "outputs": [],
   "source": [
    "s1, s2 = ass_confidence_interval(sum(d_e)/len(d_e), 0.05, len(d_e), variance(d_e)**(1/2))"
   ]
  },
  {
   "cell_type": "code",
   "execution_count": 85,
   "metadata": {},
   "outputs": [
    {
     "data": {
      "text/plain": [
       "(0.14632510365466722, 0.21367489634533277, 0.18)"
      ]
     },
     "execution_count": 85,
     "metadata": {},
     "output_type": "execute_result"
    }
   ],
   "source": [
    "s1, s2, s1+(s2-s1)/2"
   ]
  },
  {
   "cell_type": "code",
   "execution_count": 86,
   "metadata": {},
   "outputs": [
    {
     "name": "stdout",
     "output_type": "stream",
     "text": [
      "2 23.261743073533474\n",
      "3 18.993133685959297\n",
      "4 16.448536269514722\n",
      "5 14.712018091602289\n",
      "6 13.430173625324464\n",
      "7 12.433924685760584\n",
      "8 11.630871536766737\n",
      "9 10.965690846343149\n",
      "10 10.402967757511147\n",
      "11 9.918840573914991\n",
      "12 9.496566842979648\n",
      "13 9.124006296317615\n",
      "14 8.792112462064122\n",
      "15 8.493987605509226\n",
      "16 8.224268134757361\n",
      "17 7.978712050119092\n",
      "18 7.753914357844492\n",
      "19 7.547106038734544\n",
      "20 7.3560090458011445\n",
      "21 7.178729764407407\n",
      "22 7.013679431323558\n",
      "23 6.8595138046688096\n",
      "24 6.715086812662232\n",
      "25 6.579414507805889\n",
      "26 6.4516467237149415\n",
      "27 6.331044561986432\n",
      "28 6.216962342880292\n",
      "29 6.10883301017008\n"
     ]
    }
   ],
   "source": [
    "alpha = 0.1\n",
    "for n in (i for i in range(2,30)):\n",
    "    st = norm(0,1)\n",
    "#     if n == (20/15*st.ppf(1-alpha/2))**2:\n",
    "#         print(n)\n",
    "    print(n, 20/n**(1/2)*st.ppf(1-alpha/2))\n",
    "#     print(n, (20/15*st.ppf(1-alpha/2))**2)"
   ]
  },
  {
   "cell_type": "markdown",
   "metadata": {},
   "source": [
    "доверительный интеравл при n испытаниях бернулли с m успехами"
   ]
  },
  {
   "cell_type": "code",
   "execution_count": 87,
   "metadata": {},
   "outputs": [
    {
     "name": "stdout",
     "output_type": "stream",
     "text": [
      "0.39039817664728943 0.4096018233527106\n"
     ]
    }
   ],
   "source": [
    "m = 4000\n",
    "n = 10000\n",
    "alpha = 0.05\n",
    "st = norm(0,1)\n",
    "print(m/n - st.ppf(1-alpha/2)*(m/n*(1-m/n))**(1/2)/(n)**(1/2), m/n + st.ppf(1-alpha/2)*(m/n*(1-m/n))**(1/2)/(n)**(1/2))"
   ]
  },
  {
   "cell_type": "code",
   "execution_count": 88,
   "metadata": {},
   "outputs": [],
   "source": [
    "x_av = 14.4\n",
    "a = 13.2\n",
    "sigm = 2.915 \n",
    "n = 40"
   ]
  },
  {
   "cell_type": "code",
   "execution_count": 89,
   "metadata": {},
   "outputs": [],
   "source": [
    "z_v = (x_av - a)/((sigm * ((n) / (n-1))**(1/2))/n**(1/2))"
   ]
  },
  {
   "cell_type": "code",
   "execution_count": 90,
   "metadata": {},
   "outputs": [
    {
     "data": {
      "text/plain": [
       "2.5708396562875078"
      ]
     },
     "execution_count": 90,
     "metadata": {},
     "output_type": "execute_result"
    }
   ],
   "source": [
    "z_v"
   ]
  },
  {
   "cell_type": "code",
   "execution_count": 91,
   "metadata": {},
   "outputs": [],
   "source": [
    "sigm = 2\n",
    "alp = 0.05\n",
    "bet = 0.1\n",
    "u1_a = norm(0,1).ppf(1-alp)\n",
    "ub = norm(0,1).ppf(bet)\n",
    "a0 = 5\n",
    "a1 = 5.5"
   ]
  },
  {
   "cell_type": "code",
   "execution_count": 92,
   "metadata": {},
   "outputs": [],
   "source": [
    "n = sigm**2 * (u1_a-ub)**2 / (a1-a0)**2"
   ]
  },
  {
   "cell_type": "code",
   "execution_count": 93,
   "metadata": {},
   "outputs": [
    {
     "data": {
      "text/plain": [
       "137.02155761068758"
      ]
     },
     "execution_count": 93,
     "metadata": {},
     "output_type": "execute_result"
    }
   ],
   "source": [
    "n"
   ]
  },
  {
   "cell_type": "code",
   "execution_count": 94,
   "metadata": {},
   "outputs": [],
   "source": [
    "d = [986, 1005, 991, 994, 983, 1002, 996, 998,1002, 983]"
   ]
  },
  {
   "cell_type": "code",
   "execution_count": 95,
   "metadata": {},
   "outputs": [],
   "source": [
    "n = len(d)"
   ]
  },
  {
   "cell_type": "code",
   "execution_count": 96,
   "metadata": {},
   "outputs": [],
   "source": [
    "a = 1000\n",
    "alp = 0.05"
   ]
  },
  {
   "cell_type": "code",
   "execution_count": 97,
   "metadata": {},
   "outputs": [],
   "source": [
    "s = variance(d)**(1/2) #(sum([i**2 for i in d])/n)**(1/2)"
   ]
  },
  {
   "cell_type": "code",
   "execution_count": null,
   "metadata": {},
   "outputs": [],
   "source": []
  },
  {
   "cell_type": "code",
   "execution_count": 98,
   "metadata": {},
   "outputs": [],
   "source": [
    "x_v = (np.mean(d) - a)/((s * ((n) / (n-1))**(1/2))/n**(1/2))"
   ]
  },
  {
   "cell_type": "code",
   "execution_count": 99,
   "metadata": {},
   "outputs": [
    {
     "data": {
      "text/plain": [
       "-2.3554076516559617"
      ]
     },
     "execution_count": 99,
     "metadata": {},
     "output_type": "execute_result"
    }
   ],
   "source": [
    "x_v"
   ]
  },
  {
   "cell_type": "code",
   "execution_count": 100,
   "metadata": {},
   "outputs": [
    {
     "data": {
      "text/plain": [
       "0.042923125026275044"
      ]
     },
     "execution_count": 100,
     "metadata": {},
     "output_type": "execute_result"
    }
   ],
   "source": [
    "p_val = 2*min(t(n-1).cdf(x_v),1-t(n-1).cdf(x_v))\n",
    "p_val"
   ]
  },
  {
   "cell_type": "markdown",
   "metadata": {},
   "source": [
    "### For variance, when a, sigm is unknown"
   ]
  },
  {
   "cell_type": "code",
   "execution_count": 101,
   "metadata": {},
   "outputs": [],
   "source": [
    "from scipy.stats import norm, t, chi2"
   ]
  },
  {
   "cell_type": "code",
   "execution_count": 102,
   "metadata": {},
   "outputs": [
    {
     "data": {
      "text/plain": [
       "11.650910032126951"
      ]
     },
     "execution_count": 102,
     "metadata": {},
     "output_type": "execute_result"
    }
   ],
   "source": [
    "n = 20\n",
    "alp = 0.1\n",
    "kvantil = chi2(n-1).ppf(alp)\n",
    "kvantil"
   ]
  },
  {
   "cell_type": "code",
   "execution_count": 103,
   "metadata": {},
   "outputs": [
    {
     "data": {
      "text/plain": [
       "0.05488742448818906"
      ]
     },
     "execution_count": 103,
     "metadata": {},
     "output_type": "execute_result"
    }
   ],
   "source": [
    "n = 25\n",
    "alp = 0.05\n",
    "s = 13.5**(1/2)\n",
    "sigm0 = 9**(1/2)\n",
    "z_v = (n-1) * s**2/sigm0**2\n",
    "p_val = 1 - chi2(n-1).cdf(z_v)\n",
    "p_val"
   ]
  },
  {
   "cell_type": "code",
   "execution_count": 104,
   "metadata": {},
   "outputs": [
    {
     "data": {
      "text/plain": [
       "8.260398332546398"
      ]
     },
     "execution_count": 104,
     "metadata": {},
     "output_type": "execute_result"
    }
   ],
   "source": [
    "n = 20\n",
    "alp = 0.01\n",
    "kvantil = chi2(n).ppf(alp)\n",
    "kvantil"
   ]
  },
  {
   "cell_type": "markdown",
   "metadata": {},
   "source": [
    "### Бернулли успех-не успех"
   ]
  },
  {
   "cell_type": "code",
   "execution_count": 105,
   "metadata": {},
   "outputs": [
    {
     "data": {
      "text/plain": [
       "129.94760905530632"
      ]
     },
     "execution_count": 105,
     "metadata": {},
     "output_type": "execute_result"
    }
   ],
   "source": [
    "n = 225\n",
    "p0 = 0.5\n",
    "alp = 0.01\n",
    "u1_a = norm(0,1).ppf(1-alp)\n",
    "v_k = n*p0+(n*p0*(1-p0))**(1/2)*u1_a\n",
    "v_k"
   ]
  },
  {
   "cell_type": "code",
   "execution_count": 106,
   "metadata": {},
   "outputs": [
    {
     "data": {
      "text/plain": [
       "0.08032128514056225"
      ]
     },
     "execution_count": 106,
     "metadata": {},
     "output_type": "execute_result"
    }
   ],
   "source": [
    "60/747"
   ]
  },
  {
   "cell_type": "code",
   "execution_count": 107,
   "metadata": {},
   "outputs": [
    {
     "data": {
      "text/plain": [
       "162.4442916150189"
      ]
     },
     "execution_count": 107,
     "metadata": {},
     "output_type": "execute_result"
    }
   ],
   "source": [
    "n = 747\n",
    "\n",
    "p0 = 0.25\n",
    "alp = 0.02\n",
    "u1_a = norm(0,1).ppf(alp)\n",
    "v_k = n*p0+(n*p0*(1-p0))**(1/2)*u1_a\n",
    "v_k"
   ]
  },
  {
   "cell_type": "code",
   "execution_count": 108,
   "metadata": {},
   "outputs": [
    {
     "data": {
      "text/plain": [
       "186.75"
      ]
     },
     "execution_count": 108,
     "metadata": {},
     "output_type": "execute_result"
    }
   ],
   "source": [
    "747*0.25"
   ]
  },
  {
   "cell_type": "markdown",
   "metadata": {},
   "source": [
    "### step 4"
   ]
  },
  {
   "cell_type": "code",
   "execution_count": 109,
   "metadata": {},
   "outputs": [],
   "source": [
    "d = [1380, 1344, 1356, 1291, 1308, 1271, 1371, 1430, 1381, 1457, 1492, 1240, 1256, 1466, 1214, 1448, 1510, 1395, 1507, 1264, 1293, 1251, 1380, 1386, 1411, 1434, 1302, 1529, 1352, 1494, 1348, 1464, 1286, 1345, 1491, 1259, 1541, 1214, 1310, 1286]"
   ]
  },
  {
   "cell_type": "code",
   "execution_count": 110,
   "metadata": {},
   "outputs": [
    {
     "data": {
      "text/plain": [
       "9.854520598850497"
      ]
     },
     "execution_count": 110,
     "metadata": {},
     "output_type": "execute_result"
    }
   ],
   "source": [
    "n = len(d)\n",
    "s = variance(d)**(1/2)\n",
    "a = 1222\n",
    "x_v = (np.mean(d) - a)/((s * ((n) / (n-1))**(1/2))/n**(1/2))\n",
    "x_v"
   ]
  },
  {
   "cell_type": "code",
   "execution_count": 111,
   "metadata": {},
   "outputs": [
    {
     "data": {
      "text/plain": [
       "40"
      ]
     },
     "execution_count": 111,
     "metadata": {},
     "output_type": "execute_result"
    }
   ],
   "source": [
    "n"
   ]
  },
  {
   "cell_type": "code",
   "execution_count": 112,
   "metadata": {},
   "outputs": [
    {
     "data": {
      "text/plain": [
       "0.9999999999980655"
      ]
     },
     "execution_count": 112,
     "metadata": {},
     "output_type": "execute_result"
    }
   ],
   "source": [
    "# p_val = 2*min(t(n-1).cdf(x_v),1-t(n-1).cdf(x_v))\n",
    "p_val = t(n-1).cdf(x_v)\n",
    "p_val"
   ]
  },
  {
   "cell_type": "markdown",
   "metadata": {},
   "source": [
    "### 5.1"
   ]
  },
  {
   "cell_type": "code",
   "execution_count": 113,
   "metadata": {},
   "outputs": [
    {
     "data": {
      "text/plain": [
       "3.851386575457424"
      ]
     },
     "execution_count": 113,
     "metadata": {},
     "output_type": "execute_result"
    }
   ],
   "source": [
    "s2_a = 5.9\n",
    "s2_b = 23.3\n",
    "z_v = s2_b/s2_a * (n-1)/(m-1) * m/n # поправили выброчное значение на несмещенное выборочное\n",
    "z_v"
   ]
  },
  {
   "cell_type": "code",
   "execution_count": 114,
   "metadata": {},
   "outputs": [
    {
     "data": {
      "text/plain": [
       "(0.16350773135811494, 7.210635915223316)"
      ]
     },
     "execution_count": 114,
     "metadata": {},
     "output_type": "execute_result"
    }
   ],
   "source": [
    "alpha = 0.01\n",
    "n = 9\n",
    "m = 11\n",
    "left = f(m-1,n-1).ppf(alpha/2)\n",
    "right = f(m-1,n-1).ppf(1-alpha/2)\n",
    "left, right"
   ]
  },
  {
   "cell_type": "code",
   "execution_count": 115,
   "metadata": {},
   "outputs": [
    {
     "data": {
      "text/plain": [
       "0.19775769933957382"
      ]
     },
     "execution_count": 115,
     "metadata": {},
     "output_type": "execute_result"
    }
   ],
   "source": [
    "f(m-1,n-1).ppf(alpha)"
   ]
  },
  {
   "cell_type": "markdown",
   "metadata": {},
   "source": [
    "#### 5.9"
   ]
  },
  {
   "cell_type": "code",
   "execution_count": 116,
   "metadata": {},
   "outputs": [
    {
     "data": {
      "text/plain": [
       "0.18444537108003667"
      ]
     },
     "execution_count": 116,
     "metadata": {},
     "output_type": "execute_result"
    }
   ],
   "source": [
    "alpha = 0.02\n",
    "m = 16\n",
    "n = 9\n",
    "x_av = 12.57\n",
    "y_av = 11.87\n",
    "Dx = 0.91\n",
    "Dy = 1.51\n",
    "s2x = Dx * m / (m-1)\n",
    "s2y = Dy * n / (n-1)\n",
    "\n",
    "\n",
    "k = int((s2x/m+s2y/n)**2/((s2x/m)**2/(m-1)+(s2y/n)**2/(n-1)))\n",
    "# print(k)\n",
    "z_v = (x_av-y_av)/(s2x/m+s2y/n)**(1/2)\n",
    "t(k).cdf(0.3)\n",
    "2*min(t(k).cdf(z_v),1-t(k).cdf(z_v))"
   ]
  },
  {
   "cell_type": "markdown",
   "metadata": {},
   "source": [
    "#### 5.13"
   ]
  },
  {
   "cell_type": "code",
   "execution_count": 117,
   "metadata": {},
   "outputs": [
    {
     "data": {
      "text/plain": [
       "1.3137029080232316"
      ]
     },
     "execution_count": 117,
     "metadata": {},
     "output_type": "execute_result"
    }
   ],
   "source": [
    "n = 28\n",
    "t(n-1).ppf(0.9)"
   ]
  },
  {
   "cell_type": "code",
   "execution_count": 118,
   "metadata": {},
   "outputs": [],
   "source": [
    "import pandas as pd\n",
    "import numpy as np\n",
    "from scipy.stats import t #распределение Стюдента"
   ]
  },
  {
   "cell_type": "code",
   "execution_count": 119,
   "metadata": {},
   "outputs": [
    {
     "data": {
      "text/plain": [
       "(0.003337218451032742, 1)"
      ]
     },
     "execution_count": 119,
     "metadata": {},
     "output_type": "execute_result"
    }
   ],
   "source": [
    "alpha = 0.05\n",
    "\n",
    "d = pd.read_csv(r\"..\\cholesterol.txt\", sep=\"\\t\")\n",
    "n = len(d)\n",
    "x = np.array(d[\"Day2\"].values)\n",
    "y = np.array(d[\"Day4\"].values)\n",
    "x_av = np.mean(x)\n",
    "y_av = np.mean(y)\n",
    "q_av = x_av - y_av\n",
    "s2q = np.sum((x-y-q_av)**2)/(n-1)\n",
    "\n",
    "z_v = q_av/((s2q/n)**(1/2))\n",
    "p_val = 2*min(t(n-1).cdf(z_v), 1- t(n-1).cdf(z_v))\n",
    "p_val, 0 if p_val > alpha else 1"
   ]
  },
  {
   "cell_type": "markdown",
   "metadata": {},
   "source": [
    "### 5.2.1"
   ]
  },
  {
   "cell_type": "code",
   "execution_count": 120,
   "metadata": {},
   "outputs": [
    {
     "name": "stdout",
     "output_type": "stream",
     "text": [
      "W = 71\n"
     ]
    }
   ],
   "source": [
    "placebo = [156, 171, 133, 102, 129, 150, 120, 110, 112, 130]\n",
    "truth = [73, 81, 103, 88, 131, 106, 107, 111, 122, 108]\n",
    "\n",
    "# находим вариационный ряд\n",
    "y = [(i, 'p') for i in placebo] + [(i, 't') for i in truth]\n",
    "y = sorted(y, key=lambda x: x[0])\n",
    "y = [(x[0], x[1], i + 1) for i, x in enumerate(y)]\n",
    "\n",
    "# считаем статистику\n",
    "W = sum(x[2] for x in y if x[1] == 't')\n",
    "print(f\"W = {W}\")"
   ]
  },
  {
   "cell_type": "code",
   "execution_count": 121,
   "metadata": {},
   "outputs": [
    {
     "data": {
      "text/plain": [
       "[1, 2, 3, 5, 6, 7, 8, 10, 13, 16]"
      ]
     },
     "execution_count": 121,
     "metadata": {},
     "output_type": "execute_result"
    }
   ],
   "source": [
    "[x[2] for x in y if x[1] == 't']"
   ]
  },
  {
   "cell_type": "code",
   "execution_count": 122,
   "metadata": {},
   "outputs": [],
   "source": [
    "from scipy.stats import wilcoxon as w"
   ]
  },
  {
   "cell_type": "code",
   "execution_count": 123,
   "metadata": {},
   "outputs": [
    {
     "data": {
      "text/plain": [
       "WilcoxonResult(statistic=6.0, pvalue=0.02841686417486375)"
      ]
     },
     "execution_count": 123,
     "metadata": {},
     "output_type": "execute_result"
    }
   ],
   "source": [
    "w(placebo, truth)"
   ]
  },
  {
   "cell_type": "code",
   "execution_count": 124,
   "metadata": {},
   "outputs": [],
   "source": [
    "from scipy.stats import wilcoxon as w"
   ]
  },
  {
   "cell_type": "code",
   "execution_count": 125,
   "metadata": {},
   "outputs": [],
   "source": [
    "m = len(truth)\n",
    "n = len(placebo)\n",
    "l = [m*(m+1)/2 , m*n+(m+1)*m/2]"
   ]
  },
  {
   "cell_type": "code",
   "execution_count": 126,
   "metadata": {},
   "outputs": [
    {
     "data": {
      "text/plain": [
       "[55.0, 155.0]"
      ]
     },
     "execution_count": 126,
     "metadata": {},
     "output_type": "execute_result"
    }
   ],
   "source": [
    "l"
   ]
  },
  {
   "cell_type": "code",
   "execution_count": 127,
   "metadata": {},
   "outputs": [
    {
     "data": {
      "text/plain": [
       "105.0"
      ]
     },
     "execution_count": 127,
     "metadata": {},
     "output_type": "execute_result"
    }
   ],
   "source": [
    "(l[0] + l[1])/2"
   ]
  },
  {
   "cell_type": "code",
   "execution_count": 128,
   "metadata": {},
   "outputs": [
    {
     "data": {
      "text/plain": [
       "199"
      ]
     },
     "execution_count": 128,
     "metadata": {},
     "output_type": "execute_result"
    }
   ],
   "source": [
    "105 + (105-11)"
   ]
  },
  {
   "cell_type": "markdown",
   "metadata": {},
   "source": [
    "### 5.1.11"
   ]
  },
  {
   "cell_type": "code",
   "execution_count": 129,
   "metadata": {},
   "outputs": [],
   "source": [
    "a = [ 69,80,92,81,70,79,78,66,57,77 ]\n",
    " \n",
    "b = [ 60,84,87,79,73,71,72,67,59,70 ]"
   ]
  },
  {
   "cell_type": "code",
   "execution_count": 130,
   "metadata": {},
   "outputs": [],
   "source": [
    "z = [((a[i] - b[i])/abs(a[i] - b[i]),abs(a[i] - b[i]))  for i in range(len(a))]"
   ]
  },
  {
   "cell_type": "code",
   "execution_count": 131,
   "metadata": {},
   "outputs": [
    {
     "data": {
      "text/plain": [
       "[(1.0, 9),\n",
       " (-1.0, 4),\n",
       " (1.0, 5),\n",
       " (1.0, 2),\n",
       " (-1.0, 3),\n",
       " (1.0, 8),\n",
       " (1.0, 6),\n",
       " (-1.0, 1),\n",
       " (-1.0, 2),\n",
       " (1.0, 7)]"
      ]
     },
     "execution_count": 131,
     "metadata": {},
     "output_type": "execute_result"
    }
   ],
   "source": [
    "z"
   ]
  },
  {
   "cell_type": "code",
   "execution_count": 132,
   "metadata": {},
   "outputs": [
    {
     "data": {
      "text/plain": [
       "[1, 1, 1, 1]"
      ]
     },
     "execution_count": 132,
     "metadata": {},
     "output_type": "execute_result"
    }
   ],
   "source": [
    "sts = [1 for i,v in enumerate(sorted(z, key=lambda x: x[1])) if v[0] < 0]\n",
    "sts"
   ]
  },
  {
   "cell_type": "code",
   "execution_count": 133,
   "metadata": {},
   "outputs": [
    {
     "data": {
      "text/plain": [
       "4"
      ]
     },
     "execution_count": 133,
     "metadata": {},
     "output_type": "execute_result"
    }
   ],
   "source": [
    "sum(sts)"
   ]
  },
  {
   "cell_type": "code",
   "execution_count": 134,
   "metadata": {},
   "outputs": [
    {
     "data": {
      "text/plain": [
       "[1, 3, 4, 5]"
      ]
     },
     "execution_count": 134,
     "metadata": {},
     "output_type": "execute_result"
    }
   ],
   "source": [
    "sts = [i+1 for i,v in enumerate(sorted(z, key=lambda x: x[1])) if v[0] < 0]\n",
    "sts"
   ]
  },
  {
   "cell_type": "code",
   "execution_count": 135,
   "metadata": {},
   "outputs": [
    {
     "data": {
      "text/plain": [
       "13"
      ]
     },
     "execution_count": 135,
     "metadata": {},
     "output_type": "execute_result"
    }
   ],
   "source": [
    "sum(sts)"
   ]
  },
  {
   "cell_type": "code",
   "execution_count": 136,
   "metadata": {},
   "outputs": [
    {
     "data": {
      "text/plain": [
       "[(-1.0, 1),\n",
       " (1.0, 2),\n",
       " (-1.0, 2),\n",
       " (-1.0, 3),\n",
       " (-1.0, 4),\n",
       " (1.0, 5),\n",
       " (1.0, 6),\n",
       " (1.0, 7),\n",
       " (1.0, 8),\n",
       " (1.0, 9)]"
      ]
     },
     "execution_count": 136,
     "metadata": {},
     "output_type": "execute_result"
    }
   ],
   "source": [
    "sorted(z, key=lambda x: x[1])"
   ]
  },
  {
   "cell_type": "code",
   "execution_count": 137,
   "metadata": {},
   "outputs": [
    {
     "data": {
      "text/plain": [
       "[((-1.0, 1), 1, True),\n",
       " ((1.0, 2), 2, False),\n",
       " ((-1.0, 2), 3, True),\n",
       " ((-1.0, 3), 4, True),\n",
       " ((-1.0, 4), 5, True),\n",
       " ((1.0, 5), 6, False),\n",
       " ((1.0, 6), 7, False),\n",
       " ((1.0, 7), 8, False),\n",
       " ((1.0, 8), 9, False),\n",
       " ((1.0, 9), 10, False)]"
      ]
     },
     "execution_count": 137,
     "metadata": {},
     "output_type": "execute_result"
    }
   ],
   "source": [
    "[(v, i+1, v[0]<0) for i,v in enumerate(sorted(z, key=lambda x: x[1]))]"
   ]
  },
  {
   "cell_type": "code",
   "execution_count": 138,
   "metadata": {},
   "outputs": [
    {
     "data": {
      "text/plain": [
       "12.5"
      ]
     },
     "execution_count": 138,
     "metadata": {},
     "output_type": "execute_result"
    }
   ],
   "source": [
    "1+2.5+4+5 #тк при одинаковых значениях\n",
    "# иной наркоманский подсчет через среднее арифмитическое (логично - расположить то их нельзя)"
   ]
  },
  {
   "cell_type": "markdown",
   "metadata": {},
   "source": [
    "### 5.3"
   ]
  },
  {
   "cell_type": "code",
   "execution_count": 139,
   "metadata": {},
   "outputs": [],
   "source": [
    "a = [5.9, 6.0, 7.0, 6.5, 5.5, 7.0, 8.1, 7.5, 6.2, 6.4, 7.1, 6.9]\n",
    "b = [4.0, 5.1, 6.2, 5.3, 4.5, 4.4, 5.3, 5.4, 5.6, 5.2]\n",
    "c = [8.2, 6.8, 8.0, 7.5, 7.2, 7.9, 8.1, 8.5, 7.8, 8.1]"
   ]
  },
  {
   "cell_type": "code",
   "execution_count": 140,
   "metadata": {},
   "outputs": [],
   "source": [
    "def count_variance_x(data):\n",
    "    r = 0\n",
    "    d = 0\n",
    "    for x in data:\n",
    "        d+=len(x)\n",
    "        for i in x:\n",
    "            r += (i - np.mean(x))**2\n",
    "    print(r)\n",
    "    r /= (d-len(data))\n",
    "    #return r"
   ]
  },
  {
   "cell_type": "code",
   "execution_count": 141,
   "metadata": {},
   "outputs": [
    {
     "name": "stdout",
     "output_type": "stream",
     "text": [
      "11.951499999999994\n"
     ]
    }
   ],
   "source": [
    "count_variance_x([a,b,c])"
   ]
  },
  {
   "cell_type": "code",
   "execution_count": 142,
   "metadata": {},
   "outputs": [
    {
     "data": {
      "text/plain": [
       "0.41212068965517223"
      ]
     },
     "execution_count": 142,
     "metadata": {},
     "output_type": "execute_result"
    }
   ],
   "source": [
    "11.951499999999994 / (32-3)"
   ]
  },
  {
   "cell_type": "markdown",
   "metadata": {},
   "source": [
    "### 5.3.7"
   ]
  },
  {
   "cell_type": "code",
   "execution_count": 143,
   "metadata": {},
   "outputs": [],
   "source": [
    "from scipy.stats import f"
   ]
  },
  {
   "cell_type": "code",
   "execution_count": 144,
   "metadata": {},
   "outputs": [
    {
     "data": {
      "text/plain": [
       "2.4954833142354644"
      ]
     },
     "execution_count": 144,
     "metadata": {},
     "output_type": "execute_result"
    }
   ],
   "source": [
    "N = 32\n",
    "k = 3\n",
    "alph = 0.1\n",
    "f(k-1, N-k).ppf(1-alph)"
   ]
  },
  {
   "cell_type": "code",
   "execution_count": 145,
   "metadata": {},
   "outputs": [],
   "source": [
    "def count_Q1(data):\n",
    "    r = 0\n",
    "    for x in data:\n",
    "        for i in x:\n",
    "            r += (i - np.mean(x))**2\n",
    "    return r"
   ]
  },
  {
   "cell_type": "code",
   "execution_count": 146,
   "metadata": {},
   "outputs": [],
   "source": [
    "def count_Q2(data):\n",
    "    d = []\n",
    "    for i in data:\n",
    "        d += i\n",
    "    av = np.mean(d)\n",
    "    r = 0\n",
    "    for x in data:\n",
    "       r+=len(x)*(np.mean(x) - av)**2\n",
    "    return r"
   ]
  },
  {
   "cell_type": "code",
   "execution_count": 147,
   "metadata": {},
   "outputs": [
    {
     "data": {
      "text/plain": [
       "44.99106806676985"
      ]
     },
     "execution_count": 147,
     "metadata": {},
     "output_type": "execute_result"
    }
   ],
   "source": [
    "Q1 = count_Q1([a,b,c])\n",
    "Q2 = count_Q2([a,b,c])\n",
    "F = (Q2/(k-1))/(Q1/(N-k))\n",
    "F"
   ]
  },
  {
   "cell_type": "code",
   "execution_count": 148,
   "metadata": {},
   "outputs": [],
   "source": [
    "Q1 = count_Q1([a,b,c])\n",
    "s2Lk12 = (Q1/(N-k))*(1/len(a)+1/len(b))"
   ]
  },
  {
   "cell_type": "code",
   "execution_count": 149,
   "metadata": {},
   "outputs": [],
   "source": [
    "Lk = np.mean(a) - np.mean(b)"
   ]
  },
  {
   "cell_type": "code",
   "execution_count": 150,
   "metadata": {},
   "outputs": [
    {
     "data": {
      "text/plain": [
       "(0.9609195669039591, 2.1890804330960414)"
      ]
     },
     "execution_count": 150,
     "metadata": {},
     "output_type": "execute_result"
    }
   ],
   "source": [
    "#Shofe interval\n",
    "alph = 0.1\n",
    "S_lk = s2Lk12**(1/2)\n",
    "u = f(k-1, N-k).ppf(1-alph)\n",
    "(Lk-S_lk*((k-1)*u)**(1/2), Lk+S_lk*((k-1)*u)**(1/2))"
   ]
  },
  {
   "cell_type": "markdown",
   "metadata": {},
   "source": [
    "### 5.3.14"
   ]
  },
  {
   "cell_type": "code",
   "execution_count": 151,
   "metadata": {},
   "outputs": [
    {
     "ename": "KeyError",
     "evalue": "'Цвет волос'",
     "output_type": "error",
     "traceback": [
      "\u001b[1;31m---------------------------------------------------------------------------\u001b[0m",
      "\u001b[1;31mKeyError\u001b[0m                                  Traceback (most recent call last)",
      "\u001b[1;32m~\\AppData\\Local\\Continuum\\miniconda3\\envs\\ml\\lib\\site-packages\\pandas\\core\\indexes\\base.py\u001b[0m in \u001b[0;36mget_loc\u001b[1;34m(self, key, method, tolerance)\u001b[0m\n\u001b[0;32m   2656\u001b[0m             \u001b[1;32mtry\u001b[0m\u001b[1;33m:\u001b[0m\u001b[1;33m\u001b[0m\u001b[1;33m\u001b[0m\u001b[0m\n\u001b[1;32m-> 2657\u001b[1;33m                 \u001b[1;32mreturn\u001b[0m \u001b[0mself\u001b[0m\u001b[1;33m.\u001b[0m\u001b[0m_engine\u001b[0m\u001b[1;33m.\u001b[0m\u001b[0mget_loc\u001b[0m\u001b[1;33m(\u001b[0m\u001b[0mkey\u001b[0m\u001b[1;33m)\u001b[0m\u001b[1;33m\u001b[0m\u001b[1;33m\u001b[0m\u001b[0m\n\u001b[0m\u001b[0;32m   2658\u001b[0m             \u001b[1;32mexcept\u001b[0m \u001b[0mKeyError\u001b[0m\u001b[1;33m:\u001b[0m\u001b[1;33m\u001b[0m\u001b[1;33m\u001b[0m\u001b[0m\n",
      "\u001b[1;32mpandas/_libs/index.pyx\u001b[0m in \u001b[0;36mpandas._libs.index.IndexEngine.get_loc\u001b[1;34m()\u001b[0m\n",
      "\u001b[1;32mpandas/_libs/index.pyx\u001b[0m in \u001b[0;36mpandas._libs.index.IndexEngine.get_loc\u001b[1;34m()\u001b[0m\n",
      "\u001b[1;32mpandas/_libs/hashtable_class_helper.pxi\u001b[0m in \u001b[0;36mpandas._libs.hashtable.PyObjectHashTable.get_item\u001b[1;34m()\u001b[0m\n",
      "\u001b[1;32mpandas/_libs/hashtable_class_helper.pxi\u001b[0m in \u001b[0;36mpandas._libs.hashtable.PyObjectHashTable.get_item\u001b[1;34m()\u001b[0m\n",
      "\u001b[1;31mKeyError\u001b[0m: 'Цвет волос'",
      "\nDuring handling of the above exception, another exception occurred:\n",
      "\u001b[1;31mKeyError\u001b[0m                                  Traceback (most recent call last)",
      "\u001b[1;32m<ipython-input-151-eee20fb122b9>\u001b[0m in \u001b[0;36m<module>\u001b[1;34m\u001b[0m\n\u001b[1;32m----> 1\u001b[1;33m \u001b[0ma1\u001b[0m \u001b[1;33m=\u001b[0m \u001b[1;33m(\u001b[0m\u001b[0md\u001b[0m\u001b[1;33m[\u001b[0m\u001b[0md\u001b[0m\u001b[1;33m[\u001b[0m\u001b[1;34m\"Цвет волос\"\u001b[0m\u001b[1;33m]\u001b[0m\u001b[1;33m==\u001b[0m\u001b[1;34m\"Светлый брюнет\"\u001b[0m\u001b[1;33m]\u001b[0m\u001b[1;33m[\u001b[0m\u001b[1;34m\"Болевой барьер\"\u001b[0m\u001b[1;33m]\u001b[0m\u001b[1;33m)\u001b[0m \u001b[1;31m#\u001b[0m\u001b[1;33m\u001b[0m\u001b[1;33m\u001b[0m\u001b[0m\n\u001b[0m\u001b[0;32m      2\u001b[0m \u001b[0ma2\u001b[0m \u001b[1;33m=\u001b[0m \u001b[1;33m(\u001b[0m\u001b[0md\u001b[0m\u001b[1;33m[\u001b[0m\u001b[0md\u001b[0m\u001b[1;33m[\u001b[0m\u001b[1;34m\"Цвет волос\"\u001b[0m\u001b[1;33m]\u001b[0m\u001b[1;33m==\u001b[0m\u001b[1;34m\"Темный брюнет\"\u001b[0m\u001b[1;33m]\u001b[0m\u001b[1;33m[\u001b[0m\u001b[1;34m\"Болевой барьер\"\u001b[0m\u001b[1;33m]\u001b[0m\u001b[1;33m)\u001b[0m \u001b[1;31m#\u001b[0m\u001b[1;33m\u001b[0m\u001b[1;33m\u001b[0m\u001b[0m\n\u001b[0;32m      3\u001b[0m \u001b[0ma3\u001b[0m \u001b[1;33m=\u001b[0m \u001b[1;33m(\u001b[0m\u001b[0md\u001b[0m\u001b[1;33m[\u001b[0m\u001b[0md\u001b[0m\u001b[1;33m[\u001b[0m\u001b[1;34m\"Цвет волос\"\u001b[0m\u001b[1;33m]\u001b[0m\u001b[1;33m==\u001b[0m\u001b[1;34m\"Светлый блондин\"\u001b[0m\u001b[1;33m]\u001b[0m\u001b[1;33m[\u001b[0m\u001b[1;34m\"Болевой барьер\"\u001b[0m\u001b[1;33m]\u001b[0m\u001b[1;33m)\u001b[0m\u001b[1;31m#\u001b[0m\u001b[1;33m\u001b[0m\u001b[1;33m\u001b[0m\u001b[0m\n\u001b[0;32m      4\u001b[0m \u001b[0ma4\u001b[0m \u001b[1;33m=\u001b[0m \u001b[1;33m(\u001b[0m\u001b[0md\u001b[0m\u001b[1;33m[\u001b[0m\u001b[0md\u001b[0m\u001b[1;33m[\u001b[0m\u001b[1;34m\"Цвет волос\"\u001b[0m\u001b[1;33m]\u001b[0m\u001b[1;33m==\u001b[0m\u001b[1;34m\"Темный блондин\"\u001b[0m\u001b[1;33m]\u001b[0m\u001b[1;33m[\u001b[0m\u001b[1;34m\"Болевой барьер\"\u001b[0m\u001b[1;33m]\u001b[0m\u001b[1;33m)\u001b[0m \u001b[1;31m#\u001b[0m\u001b[1;33m\u001b[0m\u001b[1;33m\u001b[0m\u001b[0m\n\u001b[0;32m      5\u001b[0m \u001b[0ma3\u001b[0m \u001b[1;33m=\u001b[0m \u001b[1;33m[\u001b[0m \u001b[1;36m62\u001b[0m\u001b[1;33m,\u001b[0m \u001b[1;36m60\u001b[0m\u001b[1;33m,\u001b[0m \u001b[1;36m71\u001b[0m\u001b[1;33m,\u001b[0m \u001b[1;36m55\u001b[0m\u001b[1;33m,\u001b[0m \u001b[1;36m48\u001b[0m\u001b[1;33m]\u001b[0m\u001b[1;33m\u001b[0m\u001b[1;33m\u001b[0m\u001b[0m\n",
      "\u001b[1;32m~\\AppData\\Local\\Continuum\\miniconda3\\envs\\ml\\lib\\site-packages\\pandas\\core\\frame.py\u001b[0m in \u001b[0;36m__getitem__\u001b[1;34m(self, key)\u001b[0m\n\u001b[0;32m   2925\u001b[0m             \u001b[1;32mif\u001b[0m \u001b[0mself\u001b[0m\u001b[1;33m.\u001b[0m\u001b[0mcolumns\u001b[0m\u001b[1;33m.\u001b[0m\u001b[0mnlevels\u001b[0m \u001b[1;33m>\u001b[0m \u001b[1;36m1\u001b[0m\u001b[1;33m:\u001b[0m\u001b[1;33m\u001b[0m\u001b[1;33m\u001b[0m\u001b[0m\n\u001b[0;32m   2926\u001b[0m                 \u001b[1;32mreturn\u001b[0m \u001b[0mself\u001b[0m\u001b[1;33m.\u001b[0m\u001b[0m_getitem_multilevel\u001b[0m\u001b[1;33m(\u001b[0m\u001b[0mkey\u001b[0m\u001b[1;33m)\u001b[0m\u001b[1;33m\u001b[0m\u001b[1;33m\u001b[0m\u001b[0m\n\u001b[1;32m-> 2927\u001b[1;33m             \u001b[0mindexer\u001b[0m \u001b[1;33m=\u001b[0m \u001b[0mself\u001b[0m\u001b[1;33m.\u001b[0m\u001b[0mcolumns\u001b[0m\u001b[1;33m.\u001b[0m\u001b[0mget_loc\u001b[0m\u001b[1;33m(\u001b[0m\u001b[0mkey\u001b[0m\u001b[1;33m)\u001b[0m\u001b[1;33m\u001b[0m\u001b[1;33m\u001b[0m\u001b[0m\n\u001b[0m\u001b[0;32m   2928\u001b[0m             \u001b[1;32mif\u001b[0m \u001b[0mis_integer\u001b[0m\u001b[1;33m(\u001b[0m\u001b[0mindexer\u001b[0m\u001b[1;33m)\u001b[0m\u001b[1;33m:\u001b[0m\u001b[1;33m\u001b[0m\u001b[1;33m\u001b[0m\u001b[0m\n\u001b[0;32m   2929\u001b[0m                 \u001b[0mindexer\u001b[0m \u001b[1;33m=\u001b[0m \u001b[1;33m[\u001b[0m\u001b[0mindexer\u001b[0m\u001b[1;33m]\u001b[0m\u001b[1;33m\u001b[0m\u001b[1;33m\u001b[0m\u001b[0m\n",
      "\u001b[1;32m~\\AppData\\Local\\Continuum\\miniconda3\\envs\\ml\\lib\\site-packages\\pandas\\core\\indexes\\base.py\u001b[0m in \u001b[0;36mget_loc\u001b[1;34m(self, key, method, tolerance)\u001b[0m\n\u001b[0;32m   2657\u001b[0m                 \u001b[1;32mreturn\u001b[0m \u001b[0mself\u001b[0m\u001b[1;33m.\u001b[0m\u001b[0m_engine\u001b[0m\u001b[1;33m.\u001b[0m\u001b[0mget_loc\u001b[0m\u001b[1;33m(\u001b[0m\u001b[0mkey\u001b[0m\u001b[1;33m)\u001b[0m\u001b[1;33m\u001b[0m\u001b[1;33m\u001b[0m\u001b[0m\n\u001b[0;32m   2658\u001b[0m             \u001b[1;32mexcept\u001b[0m \u001b[0mKeyError\u001b[0m\u001b[1;33m:\u001b[0m\u001b[1;33m\u001b[0m\u001b[1;33m\u001b[0m\u001b[0m\n\u001b[1;32m-> 2659\u001b[1;33m                 \u001b[1;32mreturn\u001b[0m \u001b[0mself\u001b[0m\u001b[1;33m.\u001b[0m\u001b[0m_engine\u001b[0m\u001b[1;33m.\u001b[0m\u001b[0mget_loc\u001b[0m\u001b[1;33m(\u001b[0m\u001b[0mself\u001b[0m\u001b[1;33m.\u001b[0m\u001b[0m_maybe_cast_indexer\u001b[0m\u001b[1;33m(\u001b[0m\u001b[0mkey\u001b[0m\u001b[1;33m)\u001b[0m\u001b[1;33m)\u001b[0m\u001b[1;33m\u001b[0m\u001b[1;33m\u001b[0m\u001b[0m\n\u001b[0m\u001b[0;32m   2660\u001b[0m         \u001b[0mindexer\u001b[0m \u001b[1;33m=\u001b[0m \u001b[0mself\u001b[0m\u001b[1;33m.\u001b[0m\u001b[0mget_indexer\u001b[0m\u001b[1;33m(\u001b[0m\u001b[1;33m[\u001b[0m\u001b[0mkey\u001b[0m\u001b[1;33m]\u001b[0m\u001b[1;33m,\u001b[0m \u001b[0mmethod\u001b[0m\u001b[1;33m=\u001b[0m\u001b[0mmethod\u001b[0m\u001b[1;33m,\u001b[0m \u001b[0mtolerance\u001b[0m\u001b[1;33m=\u001b[0m\u001b[0mtolerance\u001b[0m\u001b[1;33m)\u001b[0m\u001b[1;33m\u001b[0m\u001b[1;33m\u001b[0m\u001b[0m\n\u001b[0;32m   2661\u001b[0m         \u001b[1;32mif\u001b[0m \u001b[0mindexer\u001b[0m\u001b[1;33m.\u001b[0m\u001b[0mndim\u001b[0m \u001b[1;33m>\u001b[0m \u001b[1;36m1\u001b[0m \u001b[1;32mor\u001b[0m \u001b[0mindexer\u001b[0m\u001b[1;33m.\u001b[0m\u001b[0msize\u001b[0m \u001b[1;33m>\u001b[0m \u001b[1;36m1\u001b[0m\u001b[1;33m:\u001b[0m\u001b[1;33m\u001b[0m\u001b[1;33m\u001b[0m\u001b[0m\n",
      "\u001b[1;32mpandas/_libs/index.pyx\u001b[0m in \u001b[0;36mpandas._libs.index.IndexEngine.get_loc\u001b[1;34m()\u001b[0m\n",
      "\u001b[1;32mpandas/_libs/index.pyx\u001b[0m in \u001b[0;36mpandas._libs.index.IndexEngine.get_loc\u001b[1;34m()\u001b[0m\n",
      "\u001b[1;32mpandas/_libs/hashtable_class_helper.pxi\u001b[0m in \u001b[0;36mpandas._libs.hashtable.PyObjectHashTable.get_item\u001b[1;34m()\u001b[0m\n",
      "\u001b[1;32mpandas/_libs/hashtable_class_helper.pxi\u001b[0m in \u001b[0;36mpandas._libs.hashtable.PyObjectHashTable.get_item\u001b[1;34m()\u001b[0m\n",
      "\u001b[1;31mKeyError\u001b[0m: 'Цвет волос'"
     ]
    }
   ],
   "source": [
    "a1 = (d[d[\"Цвет волос\"]==\"Светлый брюнет\"][\"Болевой барьер\"]) #\n",
    "a2 = (d[d[\"Цвет волос\"]==\"Темный брюнет\"][\"Болевой барьер\"]) #\n",
    "a3 = (d[d[\"Цвет волос\"]==\"Светлый блондин\"][\"Болевой барьер\"])#\n",
    "a4 = (d[d[\"Цвет волос\"]==\"Темный блондин\"][\"Болевой барьер\"]) #\n",
    "a3 = [ 62, 60, 71, 55, 48]\n",
    "a4 = [ 63, 57, 52, 41, 43]\n",
    "a1 = [ 42, 50, 44, 37]\n",
    "a2 = [ 32, 39, 51, 30, 35]"
   ]
  },
  {
   "cell_type": "code",
   "execution_count": 152,
   "metadata": {},
   "outputs": [
    {
     "data": {
      "text/plain": [
       "5.5"
      ]
     },
     "execution_count": 152,
     "metadata": {},
     "output_type": "execute_result"
    }
   ],
   "source": [
    "a1"
   ]
  },
  {
   "cell_type": "code",
   "execution_count": null,
   "metadata": {},
   "outputs": [],
   "source": []
  },
  {
   "cell_type": "code",
   "execution_count": 153,
   "metadata": {},
   "outputs": [
    {
     "ename": "TypeError",
     "evalue": "'float' object is not iterable",
     "output_type": "error",
     "traceback": [
      "\u001b[1;31m---------------------------------------------------------------------------\u001b[0m",
      "\u001b[1;31mTypeError\u001b[0m                                 Traceback (most recent call last)",
      "\u001b[1;32m<ipython-input-153-a1dc675ce24f>\u001b[0m in \u001b[0;36m<module>\u001b[1;34m\u001b[0m\n\u001b[1;32m----> 1\u001b[1;33m \u001b[0mdat\u001b[0m \u001b[1;33m=\u001b[0m \u001b[1;33m[\u001b[0m\u001b[1;33m(\u001b[0m\u001b[0mi\u001b[0m\u001b[1;33m,\u001b[0m \u001b[1;36m1\u001b[0m\u001b[1;33m)\u001b[0m \u001b[1;32mfor\u001b[0m \u001b[0mi\u001b[0m \u001b[1;32min\u001b[0m \u001b[0ma1\u001b[0m\u001b[1;33m]\u001b[0m \u001b[1;33m+\u001b[0m \u001b[1;33m[\u001b[0m\u001b[1;33m(\u001b[0m\u001b[0mi\u001b[0m\u001b[1;33m,\u001b[0m \u001b[1;36m2\u001b[0m\u001b[1;33m)\u001b[0m \u001b[1;32mfor\u001b[0m \u001b[0mi\u001b[0m \u001b[1;32min\u001b[0m \u001b[0ma2\u001b[0m\u001b[1;33m]\u001b[0m \u001b[1;33m+\u001b[0m \u001b[1;33m[\u001b[0m\u001b[1;33m(\u001b[0m\u001b[0mi\u001b[0m\u001b[1;33m,\u001b[0m \u001b[1;36m3\u001b[0m\u001b[1;33m)\u001b[0m \u001b[1;32mfor\u001b[0m \u001b[0mi\u001b[0m \u001b[1;32min\u001b[0m \u001b[0ma3\u001b[0m\u001b[1;33m]\u001b[0m \u001b[1;33m+\u001b[0m \u001b[1;33m[\u001b[0m\u001b[1;33m(\u001b[0m\u001b[0mi\u001b[0m\u001b[1;33m,\u001b[0m \u001b[1;36m4\u001b[0m\u001b[1;33m)\u001b[0m \u001b[1;32mfor\u001b[0m \u001b[0mi\u001b[0m \u001b[1;32min\u001b[0m \u001b[0ma4\u001b[0m\u001b[1;33m]\u001b[0m\u001b[1;33m\u001b[0m\u001b[1;33m\u001b[0m\u001b[0m\n\u001b[0m",
      "\u001b[1;31mTypeError\u001b[0m: 'float' object is not iterable"
     ]
    }
   ],
   "source": [
    "dat = [(i, 1) for i in a1] + [(i, 2) for i in a2] + [(i, 3) for i in a3] + [(i, 4) for i in a4] "
   ]
  },
  {
   "cell_type": "code",
   "execution_count": 154,
   "metadata": {},
   "outputs": [
    {
     "ename": "NameError",
     "evalue": "name 'dat' is not defined",
     "output_type": "error",
     "traceback": [
      "\u001b[1;31m---------------------------------------------------------------------------\u001b[0m",
      "\u001b[1;31mNameError\u001b[0m                                 Traceback (most recent call last)",
      "\u001b[1;32m<ipython-input-154-bf3813439c9f>\u001b[0m in \u001b[0;36m<module>\u001b[1;34m\u001b[0m\n\u001b[1;32m----> 1\u001b[1;33m \u001b[1;33m[\u001b[0m\u001b[1;33m(\u001b[0m\u001b[0mi\u001b[0m\u001b[1;33m+\u001b[0m\u001b[1;36m1\u001b[0m\u001b[1;33m,\u001b[0m\u001b[0mv\u001b[0m\u001b[1;33m)\u001b[0m\u001b[1;32mfor\u001b[0m \u001b[0mi\u001b[0m\u001b[1;33m,\u001b[0m \u001b[0mv\u001b[0m \u001b[1;32min\u001b[0m \u001b[0menumerate\u001b[0m\u001b[1;33m(\u001b[0m\u001b[0msorted\u001b[0m\u001b[1;33m(\u001b[0m\u001b[0mdat\u001b[0m\u001b[1;33m,\u001b[0m \u001b[0mkey\u001b[0m\u001b[1;33m=\u001b[0m\u001b[1;32mlambda\u001b[0m \u001b[0mx\u001b[0m\u001b[1;33m:\u001b[0m \u001b[0mx\u001b[0m\u001b[1;33m[\u001b[0m\u001b[1;36m0\u001b[0m\u001b[1;33m]\u001b[0m\u001b[1;33m)\u001b[0m\u001b[1;33m)\u001b[0m\u001b[1;33m]\u001b[0m\u001b[1;33m\u001b[0m\u001b[1;33m\u001b[0m\u001b[0m\n\u001b[0m",
      "\u001b[1;31mNameError\u001b[0m: name 'dat' is not defined"
     ]
    }
   ],
   "source": [
    "[(i+1,v)for i, v in enumerate(sorted(dat, key=lambda x: x[0]))]"
   ]
  },
  {
   "cell_type": "code",
   "execution_count": 155,
   "metadata": {},
   "outputs": [
    {
     "ename": "NameError",
     "evalue": "name 'dat' is not defined",
     "output_type": "error",
     "traceback": [
      "\u001b[1;31m---------------------------------------------------------------------------\u001b[0m",
      "\u001b[1;31mNameError\u001b[0m                                 Traceback (most recent call last)",
      "\u001b[1;32m<ipython-input-155-abceca8b979a>\u001b[0m in \u001b[0;36m<module>\u001b[1;34m\u001b[0m\n\u001b[1;32m----> 1\u001b[1;33m \u001b[0msr1\u001b[0m \u001b[1;33m=\u001b[0m \u001b[1;33m[\u001b[0m\u001b[0mi\u001b[0m\u001b[1;33m+\u001b[0m\u001b[1;36m1\u001b[0m \u001b[1;32mfor\u001b[0m \u001b[0mi\u001b[0m\u001b[1;33m,\u001b[0m \u001b[0mv\u001b[0m \u001b[1;32min\u001b[0m \u001b[0menumerate\u001b[0m\u001b[1;33m(\u001b[0m\u001b[0msorted\u001b[0m\u001b[1;33m(\u001b[0m\u001b[0mdat\u001b[0m\u001b[1;33m,\u001b[0m \u001b[0mkey\u001b[0m\u001b[1;33m=\u001b[0m\u001b[1;32mlambda\u001b[0m \u001b[0mx\u001b[0m\u001b[1;33m:\u001b[0m \u001b[0mx\u001b[0m\u001b[1;33m[\u001b[0m\u001b[1;36m0\u001b[0m\u001b[1;33m]\u001b[0m\u001b[1;33m)\u001b[0m\u001b[1;33m)\u001b[0m \u001b[1;32mif\u001b[0m \u001b[0mv\u001b[0m\u001b[1;33m[\u001b[0m\u001b[1;36m1\u001b[0m\u001b[1;33m]\u001b[0m\u001b[1;33m==\u001b[0m\u001b[1;36m1\u001b[0m\u001b[1;33m]\u001b[0m\u001b[1;33m\u001b[0m\u001b[1;33m\u001b[0m\u001b[0m\n\u001b[0m\u001b[0;32m      2\u001b[0m \u001b[0msum\u001b[0m\u001b[1;33m(\u001b[0m\u001b[0msr1\u001b[0m\u001b[1;33m)\u001b[0m\u001b[1;33m/\u001b[0m\u001b[0mlen\u001b[0m\u001b[1;33m(\u001b[0m\u001b[0msr1\u001b[0m\u001b[1;33m)\u001b[0m\u001b[1;33m\u001b[0m\u001b[1;33m\u001b[0m\u001b[0m\n",
      "\u001b[1;31mNameError\u001b[0m: name 'dat' is not defined"
     ]
    }
   ],
   "source": [
    "sr1 = [i+1 for i, v in enumerate(sorted(dat, key=lambda x: x[0])) if v[1]==1]\n",
    "sum(sr1)/len(sr1)"
   ]
  },
  {
   "cell_type": "code",
   "execution_count": 156,
   "metadata": {},
   "outputs": [],
   "source": [
    "def aver_rang(dat, num):\n",
    "    sr1 = [i+1 for i, v in enumerate(sorted(dat, key=lambda x: x[0])) if v[1]==num]\n",
    "    return sum(sr1)/len(sr1)"
   ]
  },
  {
   "cell_type": "code",
   "execution_count": 157,
   "metadata": {},
   "outputs": [],
   "source": [
    "N = len(d)"
   ]
  },
  {
   "cell_type": "code",
   "execution_count": 158,
   "metadata": {},
   "outputs": [],
   "source": [
    "H = 12/((N+1)*N)"
   ]
  },
  {
   "cell_type": "code",
   "execution_count": 159,
   "metadata": {},
   "outputs": [
    {
     "data": {
      "text/html": [
       "<div>\n",
       "<style scoped>\n",
       "    .dataframe tbody tr th:only-of-type {\n",
       "        vertical-align: middle;\n",
       "    }\n",
       "\n",
       "    .dataframe tbody tr th {\n",
       "        vertical-align: top;\n",
       "    }\n",
       "\n",
       "    .dataframe thead th {\n",
       "        text-align: right;\n",
       "    }\n",
       "</style>\n",
       "<table border=\"1\" class=\"dataframe\">\n",
       "  <thead>\n",
       "    <tr style=\"text-align: right;\">\n",
       "      <th></th>\n",
       "      <th>Цвет волос</th>\n",
       "      <th>Болевой барьер</th>\n",
       "    </tr>\n",
       "  </thead>\n",
       "  <tbody>\n",
       "    <tr>\n",
       "      <th>0</th>\n",
       "      <td>Светлый блондин</td>\n",
       "      <td>62</td>\n",
       "    </tr>\n",
       "    <tr>\n",
       "      <th>1</th>\n",
       "      <td>Светлый блондин</td>\n",
       "      <td>60</td>\n",
       "    </tr>\n",
       "    <tr>\n",
       "      <th>2</th>\n",
       "      <td>Светлый блондин</td>\n",
       "      <td>71</td>\n",
       "    </tr>\n",
       "    <tr>\n",
       "      <th>3</th>\n",
       "      <td>Светлый блондин</td>\n",
       "      <td>55</td>\n",
       "    </tr>\n",
       "    <tr>\n",
       "      <th>4</th>\n",
       "      <td>Светлый блондин</td>\n",
       "      <td>48</td>\n",
       "    </tr>\n",
       "    <tr>\n",
       "      <th>5</th>\n",
       "      <td>Темный блондин</td>\n",
       "      <td>63</td>\n",
       "    </tr>\n",
       "    <tr>\n",
       "      <th>6</th>\n",
       "      <td>Темный блондин</td>\n",
       "      <td>57</td>\n",
       "    </tr>\n",
       "    <tr>\n",
       "      <th>7</th>\n",
       "      <td>Темный блондин</td>\n",
       "      <td>52</td>\n",
       "    </tr>\n",
       "    <tr>\n",
       "      <th>8</th>\n",
       "      <td>Темный блондин</td>\n",
       "      <td>41</td>\n",
       "    </tr>\n",
       "    <tr>\n",
       "      <th>9</th>\n",
       "      <td>Темный блондин</td>\n",
       "      <td>43</td>\n",
       "    </tr>\n",
       "    <tr>\n",
       "      <th>10</th>\n",
       "      <td>Светлый брюнет</td>\n",
       "      <td>42</td>\n",
       "    </tr>\n",
       "    <tr>\n",
       "      <th>11</th>\n",
       "      <td>Светлый брюнет</td>\n",
       "      <td>50</td>\n",
       "    </tr>\n",
       "    <tr>\n",
       "      <th>12</th>\n",
       "      <td>Светлый брюнет</td>\n",
       "      <td>44</td>\n",
       "    </tr>\n",
       "    <tr>\n",
       "      <th>13</th>\n",
       "      <td>Светлый брюнет</td>\n",
       "      <td>37</td>\n",
       "    </tr>\n",
       "    <tr>\n",
       "      <th>14</th>\n",
       "      <td>Темный брюнет</td>\n",
       "      <td>32</td>\n",
       "    </tr>\n",
       "    <tr>\n",
       "      <th>15</th>\n",
       "      <td>Темный брюнет</td>\n",
       "      <td>39</td>\n",
       "    </tr>\n",
       "    <tr>\n",
       "      <th>16</th>\n",
       "      <td>Темный брюнет</td>\n",
       "      <td>51</td>\n",
       "    </tr>\n",
       "    <tr>\n",
       "      <th>17</th>\n",
       "      <td>Темный брюнет</td>\n",
       "      <td>30</td>\n",
       "    </tr>\n",
       "    <tr>\n",
       "      <th>18</th>\n",
       "      <td>Темный брюнет</td>\n",
       "      <td>35</td>\n",
       "    </tr>\n",
       "  </tbody>\n",
       "</table>\n",
       "</div>"
      ],
      "text/plain": [
       "         Цвет волос  Болевой барьер\n",
       "0   Светлый блондин              62\n",
       "1   Светлый блондин              60\n",
       "2   Светлый блондин              71\n",
       "3   Светлый блондин              55\n",
       "4   Светлый блондин              48\n",
       "5    Темный блондин              63\n",
       "6    Темный блондин              57\n",
       "7    Темный блондин              52\n",
       "8    Темный блондин              41\n",
       "9    Темный блондин              43\n",
       "10  Светлый брюнет               42\n",
       "11   Светлый брюнет              50\n",
       "12   Светлый брюнет              44\n",
       "13   Светлый брюнет              37\n",
       "14    Темный брюнет              32\n",
       "15    Темный брюнет              39\n",
       "16    Темный брюнет              51\n",
       "17    Темный брюнет              30\n",
       "18    Темный брюнет              35"
      ]
     },
     "execution_count": 159,
     "metadata": {},
     "output_type": "execute_result"
    }
   ],
   "source": [
    "d = pd.read_csv(r\"../5_3.csv\", sep='\\t')\n",
    "d"
   ]
  },
  {
   "cell_type": "code",
   "execution_count": 160,
   "metadata": {},
   "outputs": [
    {
     "ename": "TypeError",
     "evalue": "object of type 'float' has no len()",
     "output_type": "error",
     "traceback": [
      "\u001b[1;31m---------------------------------------------------------------------------\u001b[0m",
      "\u001b[1;31mTypeError\u001b[0m                                 Traceback (most recent call last)",
      "\u001b[1;32m<ipython-input-160-ee113e066bca>\u001b[0m in \u001b[0;36m<module>\u001b[1;34m\u001b[0m\n\u001b[0;32m      1\u001b[0m \u001b[0msu\u001b[0m \u001b[1;33m=\u001b[0m \u001b[1;36m0\u001b[0m\u001b[1;33m\u001b[0m\u001b[1;33m\u001b[0m\u001b[0m\n\u001b[1;32m----> 2\u001b[1;33m \u001b[0msu\u001b[0m \u001b[1;33m+=\u001b[0m \u001b[0mlen\u001b[0m\u001b[1;33m(\u001b[0m\u001b[0ma1\u001b[0m\u001b[1;33m)\u001b[0m\u001b[1;33m*\u001b[0m\u001b[0maver_rang\u001b[0m\u001b[1;33m(\u001b[0m\u001b[0mdat\u001b[0m\u001b[1;33m,\u001b[0m \u001b[1;36m1\u001b[0m\u001b[1;33m)\u001b[0m\u001b[1;33m**\u001b[0m\u001b[1;36m2\u001b[0m\u001b[1;33m+\u001b[0m\u001b[0mlen\u001b[0m\u001b[1;33m(\u001b[0m\u001b[0ma2\u001b[0m\u001b[1;33m)\u001b[0m\u001b[1;33m*\u001b[0m\u001b[0maver_rang\u001b[0m\u001b[1;33m(\u001b[0m\u001b[0mdat\u001b[0m\u001b[1;33m,\u001b[0m \u001b[1;36m2\u001b[0m\u001b[1;33m)\u001b[0m\u001b[1;33m**\u001b[0m\u001b[1;36m2\u001b[0m\u001b[1;33m+\u001b[0m\u001b[0mlen\u001b[0m\u001b[1;33m(\u001b[0m\u001b[0ma3\u001b[0m\u001b[1;33m)\u001b[0m\u001b[1;33m*\u001b[0m\u001b[0maver_rang\u001b[0m\u001b[1;33m(\u001b[0m\u001b[0mdat\u001b[0m\u001b[1;33m,\u001b[0m \u001b[1;36m3\u001b[0m\u001b[1;33m)\u001b[0m\u001b[1;33m**\u001b[0m\u001b[1;36m2\u001b[0m\u001b[1;33m+\u001b[0m\u001b[0mlen\u001b[0m\u001b[1;33m(\u001b[0m\u001b[0ma4\u001b[0m\u001b[1;33m)\u001b[0m\u001b[1;33m*\u001b[0m\u001b[0maver_rang\u001b[0m\u001b[1;33m(\u001b[0m\u001b[0mdat\u001b[0m\u001b[1;33m,\u001b[0m \u001b[1;36m4\u001b[0m\u001b[1;33m)\u001b[0m\u001b[1;33m**\u001b[0m\u001b[1;36m2\u001b[0m\u001b[1;33m\u001b[0m\u001b[1;33m\u001b[0m\u001b[0m\n\u001b[0m",
      "\u001b[1;31mTypeError\u001b[0m: object of type 'float' has no len()"
     ]
    }
   ],
   "source": [
    "su = 0\n",
    "su += len(a1)*aver_rang(dat, 1)**2+len(a2)*aver_rang(dat, 2)**2+len(a3)*aver_rang(dat, 3)**2+len(a4)*aver_rang(dat, 4)**2"
   ]
  },
  {
   "cell_type": "code",
   "execution_count": 161,
   "metadata": {},
   "outputs": [],
   "source": [
    "H*=su"
   ]
  },
  {
   "cell_type": "code",
   "execution_count": 162,
   "metadata": {},
   "outputs": [],
   "source": [
    "H-=3*(N+1)"
   ]
  },
  {
   "cell_type": "code",
   "execution_count": 163,
   "metadata": {},
   "outputs": [
    {
     "data": {
      "text/plain": [
       "-87.0"
      ]
     },
     "execution_count": 163,
     "metadata": {},
     "output_type": "execute_result"
    }
   ],
   "source": [
    "H"
   ]
  },
  {
   "cell_type": "code",
   "execution_count": 164,
   "metadata": {},
   "outputs": [],
   "source": [
    "from scipy.stats import chi2"
   ]
  },
  {
   "cell_type": "code",
   "execution_count": 165,
   "metadata": {},
   "outputs": [
    {
     "data": {
      "text/plain": [
       "7.814727903251179"
      ]
     },
     "execution_count": 165,
     "metadata": {},
     "output_type": "execute_result"
    }
   ],
   "source": [
    "\n",
    "k = 4\n",
    "alph = 0.05\n",
    "chi2(k-1).ppf(1-alph)"
   ]
  },
  {
   "cell_type": "markdown",
   "metadata": {},
   "source": [
    "### 5.4"
   ]
  },
  {
   "cell_type": "code",
   "execution_count": 166,
   "metadata": {},
   "outputs": [
    {
     "data": {
      "text/html": [
       "<div>\n",
       "<style scoped>\n",
       "    .dataframe tbody tr th:only-of-type {\n",
       "        vertical-align: middle;\n",
       "    }\n",
       "\n",
       "    .dataframe tbody tr th {\n",
       "        vertical-align: top;\n",
       "    }\n",
       "\n",
       "    .dataframe thead th {\n",
       "        text-align: right;\n",
       "    }\n",
       "</style>\n",
       "<table border=\"1\" class=\"dataframe\">\n",
       "  <thead>\n",
       "    <tr style=\"text-align: right;\">\n",
       "      <th></th>\n",
       "      <th>Game</th>\n",
       "      <th>Time</th>\n",
       "    </tr>\n",
       "  </thead>\n",
       "  <tbody>\n",
       "    <tr>\n",
       "      <th>0</th>\n",
       "      <td>1</td>\n",
       "      <td>39.2</td>\n",
       "    </tr>\n",
       "    <tr>\n",
       "      <th>1</th>\n",
       "      <td>1</td>\n",
       "      <td>2.7</td>\n",
       "    </tr>\n",
       "    <tr>\n",
       "      <th>2</th>\n",
       "      <td>1</td>\n",
       "      <td>9.2</td>\n",
       "    </tr>\n",
       "    <tr>\n",
       "      <th>3</th>\n",
       "      <td>1</td>\n",
       "      <td>14.6</td>\n",
       "    </tr>\n",
       "    <tr>\n",
       "      <th>4</th>\n",
       "      <td>1</td>\n",
       "      <td>1.9</td>\n",
       "    </tr>\n",
       "    <tr>\n",
       "      <th>5</th>\n",
       "      <td>1</td>\n",
       "      <td>17.8</td>\n",
       "    </tr>\n",
       "    <tr>\n",
       "      <th>6</th>\n",
       "      <td>1</td>\n",
       "      <td>15.5</td>\n",
       "    </tr>\n",
       "    <tr>\n",
       "      <th>7</th>\n",
       "      <td>1</td>\n",
       "      <td>53.8</td>\n",
       "    </tr>\n",
       "    <tr>\n",
       "      <th>8</th>\n",
       "      <td>1</td>\n",
       "      <td>17.5</td>\n",
       "    </tr>\n",
       "    <tr>\n",
       "      <th>9</th>\n",
       "      <td>1</td>\n",
       "      <td>27.5</td>\n",
       "    </tr>\n",
       "    <tr>\n",
       "      <th>10</th>\n",
       "      <td>1</td>\n",
       "      <td>4.8</td>\n",
       "    </tr>\n",
       "    <tr>\n",
       "      <th>11</th>\n",
       "      <td>1</td>\n",
       "      <td>8.6</td>\n",
       "    </tr>\n",
       "    <tr>\n",
       "      <th>12</th>\n",
       "      <td>1</td>\n",
       "      <td>22.1</td>\n",
       "    </tr>\n",
       "    <tr>\n",
       "      <th>13</th>\n",
       "      <td>1</td>\n",
       "      <td>29.8</td>\n",
       "    </tr>\n",
       "    <tr>\n",
       "      <th>14</th>\n",
       "      <td>1</td>\n",
       "      <td>10.4</td>\n",
       "    </tr>\n",
       "    <tr>\n",
       "      <th>15</th>\n",
       "      <td>1</td>\n",
       "      <td>9.8</td>\n",
       "    </tr>\n",
       "    <tr>\n",
       "      <th>16</th>\n",
       "      <td>1</td>\n",
       "      <td>27.7</td>\n",
       "    </tr>\n",
       "    <tr>\n",
       "      <th>17</th>\n",
       "      <td>1</td>\n",
       "      <td>32.7</td>\n",
       "    </tr>\n",
       "    <tr>\n",
       "      <th>18</th>\n",
       "      <td>1</td>\n",
       "      <td>32.0</td>\n",
       "    </tr>\n",
       "    <tr>\n",
       "      <th>19</th>\n",
       "      <td>1</td>\n",
       "      <td>34.3</td>\n",
       "    </tr>\n",
       "    <tr>\n",
       "      <th>20</th>\n",
       "      <td>1</td>\n",
       "      <td>29.1</td>\n",
       "    </tr>\n",
       "    <tr>\n",
       "      <th>21</th>\n",
       "      <td>1</td>\n",
       "      <td>6.5</td>\n",
       "    </tr>\n",
       "    <tr>\n",
       "      <th>22</th>\n",
       "      <td>1</td>\n",
       "      <td>2.8</td>\n",
       "    </tr>\n",
       "    <tr>\n",
       "      <th>23</th>\n",
       "      <td>1</td>\n",
       "      <td>10.8</td>\n",
       "    </tr>\n",
       "    <tr>\n",
       "      <th>24</th>\n",
       "      <td>1</td>\n",
       "      <td>9.2</td>\n",
       "    </tr>\n",
       "    <tr>\n",
       "      <th>25</th>\n",
       "      <td>1</td>\n",
       "      <td>12.9</td>\n",
       "    </tr>\n",
       "    <tr>\n",
       "      <th>26</th>\n",
       "      <td>1</td>\n",
       "      <td>7.1</td>\n",
       "    </tr>\n",
       "    <tr>\n",
       "      <th>27</th>\n",
       "      <td>1</td>\n",
       "      <td>23.8</td>\n",
       "    </tr>\n",
       "    <tr>\n",
       "      <th>28</th>\n",
       "      <td>1</td>\n",
       "      <td>7.6</td>\n",
       "    </tr>\n",
       "    <tr>\n",
       "      <th>29</th>\n",
       "      <td>1</td>\n",
       "      <td>36.4</td>\n",
       "    </tr>\n",
       "    <tr>\n",
       "      <th>...</th>\n",
       "      <td>...</td>\n",
       "      <td>...</td>\n",
       "    </tr>\n",
       "    <tr>\n",
       "      <th>949</th>\n",
       "      <td>10</td>\n",
       "      <td>22.7</td>\n",
       "    </tr>\n",
       "    <tr>\n",
       "      <th>950</th>\n",
       "      <td>10</td>\n",
       "      <td>14.4</td>\n",
       "    </tr>\n",
       "    <tr>\n",
       "      <th>951</th>\n",
       "      <td>10</td>\n",
       "      <td>9.9</td>\n",
       "    </tr>\n",
       "    <tr>\n",
       "      <th>952</th>\n",
       "      <td>10</td>\n",
       "      <td>5.2</td>\n",
       "    </tr>\n",
       "    <tr>\n",
       "      <th>953</th>\n",
       "      <td>10</td>\n",
       "      <td>29.8</td>\n",
       "    </tr>\n",
       "    <tr>\n",
       "      <th>954</th>\n",
       "      <td>10</td>\n",
       "      <td>14.8</td>\n",
       "    </tr>\n",
       "    <tr>\n",
       "      <th>955</th>\n",
       "      <td>10</td>\n",
       "      <td>2.6</td>\n",
       "    </tr>\n",
       "    <tr>\n",
       "      <th>956</th>\n",
       "      <td>10</td>\n",
       "      <td>24.7</td>\n",
       "    </tr>\n",
       "    <tr>\n",
       "      <th>957</th>\n",
       "      <td>10</td>\n",
       "      <td>17.5</td>\n",
       "    </tr>\n",
       "    <tr>\n",
       "      <th>958</th>\n",
       "      <td>10</td>\n",
       "      <td>2.5</td>\n",
       "    </tr>\n",
       "    <tr>\n",
       "      <th>959</th>\n",
       "      <td>10</td>\n",
       "      <td>9.9</td>\n",
       "    </tr>\n",
       "    <tr>\n",
       "      <th>960</th>\n",
       "      <td>10</td>\n",
       "      <td>25.4</td>\n",
       "    </tr>\n",
       "    <tr>\n",
       "      <th>961</th>\n",
       "      <td>10</td>\n",
       "      <td>4.8</td>\n",
       "    </tr>\n",
       "    <tr>\n",
       "      <th>962</th>\n",
       "      <td>10</td>\n",
       "      <td>27.7</td>\n",
       "    </tr>\n",
       "    <tr>\n",
       "      <th>963</th>\n",
       "      <td>10</td>\n",
       "      <td>2.3</td>\n",
       "    </tr>\n",
       "    <tr>\n",
       "      <th>964</th>\n",
       "      <td>10</td>\n",
       "      <td>21.7</td>\n",
       "    </tr>\n",
       "    <tr>\n",
       "      <th>965</th>\n",
       "      <td>10</td>\n",
       "      <td>37.8</td>\n",
       "    </tr>\n",
       "    <tr>\n",
       "      <th>966</th>\n",
       "      <td>10</td>\n",
       "      <td>3.2</td>\n",
       "    </tr>\n",
       "    <tr>\n",
       "      <th>967</th>\n",
       "      <td>10</td>\n",
       "      <td>32.0</td>\n",
       "    </tr>\n",
       "    <tr>\n",
       "      <th>968</th>\n",
       "      <td>10</td>\n",
       "      <td>7.8</td>\n",
       "    </tr>\n",
       "    <tr>\n",
       "      <th>969</th>\n",
       "      <td>10</td>\n",
       "      <td>11.5</td>\n",
       "    </tr>\n",
       "    <tr>\n",
       "      <th>970</th>\n",
       "      <td>10</td>\n",
       "      <td>4.1</td>\n",
       "    </tr>\n",
       "    <tr>\n",
       "      <th>971</th>\n",
       "      <td>10</td>\n",
       "      <td>7.1</td>\n",
       "    </tr>\n",
       "    <tr>\n",
       "      <th>972</th>\n",
       "      <td>10</td>\n",
       "      <td>28.0</td>\n",
       "    </tr>\n",
       "    <tr>\n",
       "      <th>973</th>\n",
       "      <td>10</td>\n",
       "      <td>36.3</td>\n",
       "    </tr>\n",
       "    <tr>\n",
       "      <th>974</th>\n",
       "      <td>10</td>\n",
       "      <td>18.8</td>\n",
       "    </tr>\n",
       "    <tr>\n",
       "      <th>975</th>\n",
       "      <td>10</td>\n",
       "      <td>16.5</td>\n",
       "    </tr>\n",
       "    <tr>\n",
       "      <th>976</th>\n",
       "      <td>10</td>\n",
       "      <td>3.5</td>\n",
       "    </tr>\n",
       "    <tr>\n",
       "      <th>977</th>\n",
       "      <td>10</td>\n",
       "      <td>17.9</td>\n",
       "    </tr>\n",
       "    <tr>\n",
       "      <th>978</th>\n",
       "      <td>10</td>\n",
       "      <td>46.6</td>\n",
       "    </tr>\n",
       "  </tbody>\n",
       "</table>\n",
       "<p>979 rows × 2 columns</p>\n",
       "</div>"
      ],
      "text/plain": [
       "     Game  Time\n",
       "0       1  39.2\n",
       "1       1   2.7\n",
       "2       1   9.2\n",
       "3       1  14.6\n",
       "4       1   1.9\n",
       "5       1  17.8\n",
       "6       1  15.5\n",
       "7       1  53.8\n",
       "8       1  17.5\n",
       "9       1  27.5\n",
       "10      1   4.8\n",
       "11      1   8.6\n",
       "12      1  22.1\n",
       "13      1  29.8\n",
       "14      1  10.4\n",
       "15      1   9.8\n",
       "16      1  27.7\n",
       "17      1  32.7\n",
       "18      1  32.0\n",
       "19      1  34.3\n",
       "20      1  29.1\n",
       "21      1   6.5\n",
       "22      1   2.8\n",
       "23      1  10.8\n",
       "24      1   9.2\n",
       "25      1  12.9\n",
       "26      1   7.1\n",
       "27      1  23.8\n",
       "28      1   7.6\n",
       "29      1  36.4\n",
       "..    ...   ...\n",
       "949    10  22.7\n",
       "950    10  14.4\n",
       "951    10   9.9\n",
       "952    10   5.2\n",
       "953    10  29.8\n",
       "954    10  14.8\n",
       "955    10   2.6\n",
       "956    10  24.7\n",
       "957    10  17.5\n",
       "958    10   2.5\n",
       "959    10   9.9\n",
       "960    10  25.4\n",
       "961    10   4.8\n",
       "962    10  27.7\n",
       "963    10   2.3\n",
       "964    10  21.7\n",
       "965    10  37.8\n",
       "966    10   3.2\n",
       "967    10  32.0\n",
       "968    10   7.8\n",
       "969    10  11.5\n",
       "970    10   4.1\n",
       "971    10   7.1\n",
       "972    10  28.0\n",
       "973    10  36.3\n",
       "974    10  18.8\n",
       "975    10  16.5\n",
       "976    10   3.5\n",
       "977    10  17.9\n",
       "978    10  46.6\n",
       "\n",
       "[979 rows x 2 columns]"
      ]
     },
     "execution_count": 166,
     "metadata": {},
     "output_type": "execute_result"
    }
   ],
   "source": [
    "d = pd.read_csv(r\"../rugby.txt\", sep=\"\\t\")\n",
    "d"
   ]
  },
  {
   "cell_type": "code",
   "execution_count": 167,
   "metadata": {},
   "outputs": [
    {
     "data": {
      "text/plain": [
       "1.889525776660891"
      ]
     },
     "execution_count": 167,
     "metadata": {},
     "output_type": "execute_result"
    }
   ],
   "source": [
    "alph = 0.05\n",
    "N = len(d)\n",
    "k = 10 #кол-во разлиынфх матчей\n",
    "f(k-1, N-k).ppf(1-alph)"
   ]
  },
  {
   "cell_type": "code",
   "execution_count": 168,
   "metadata": {},
   "outputs": [
    {
     "data": {
      "text/plain": [
       "[(1.3, 3.0),\n",
       " (1.3, 8.0),\n",
       " (1.4, 2.0),\n",
       " (1.4, 7.0),\n",
       " (1.4, 8.0),\n",
       " (1.5, 3.0),\n",
       " (1.5, 8.0),\n",
       " (1.5, 9.0),\n",
       " (1.7, 10.0),\n",
       " (1.8, 10.0),\n",
       " (1.9, 1.0),\n",
       " (1.9, 3.0),\n",
       " (1.9, 8.0),\n",
       " (2.0, 10.0),\n",
       " (2.0, 10.0),\n",
       " (2.1, 2.0),\n",
       " (2.1, 6.0),\n",
       " (2.1, 7.0),\n",
       " (2.2, 3.0),\n",
       " (2.2, 6.0),\n",
       " (2.2, 7.0),\n",
       " (2.2, 8.0),\n",
       " (2.3, 2.0),\n",
       " (2.3, 7.0),\n",
       " (2.3, 8.0),\n",
       " (2.3, 10.0),\n",
       " (2.4, 3.0),\n",
       " (2.4, 8.0),\n",
       " (2.4, 9.0),\n",
       " (2.5, 1.0),\n",
       " (2.5, 1.0),\n",
       " (2.5, 3.0),\n",
       " (2.5, 5.0),\n",
       " (2.5, 8.0),\n",
       " (2.5, 9.0),\n",
       " (2.5, 10.0),\n",
       " (2.5, 10.0),\n",
       " (2.6, 4.0),\n",
       " (2.6, 6.0),\n",
       " (2.6, 6.0),\n",
       " (2.6, 10.0),\n",
       " (2.7, 1.0),\n",
       " (2.7, 1.0),\n",
       " (2.7, 2.0),\n",
       " (2.7, 3.0),\n",
       " (2.7, 3.0),\n",
       " (2.7, 5.0),\n",
       " (2.7, 6.0),\n",
       " (2.7, 6.0),\n",
       " (2.7, 8.0),\n",
       " (2.7, 8.0),\n",
       " (2.8, 1.0),\n",
       " (2.8, 1.0),\n",
       " (2.8, 2.0),\n",
       " (2.8, 6.0),\n",
       " (2.8, 6.0),\n",
       " (2.8, 6.0),\n",
       " (2.9, 2.0),\n",
       " (2.9, 3.0),\n",
       " (2.9, 3.0),\n",
       " (2.9, 6.0),\n",
       " (2.9, 8.0),\n",
       " (2.9, 8.0),\n",
       " (2.9, 9.0),\n",
       " (3.0, 2.0),\n",
       " (3.0, 4.0),\n",
       " (3.0, 6.0),\n",
       " (3.0, 9.0),\n",
       " (3.1, 1.0),\n",
       " (3.1, 2.0),\n",
       " (3.1, 6.0),\n",
       " (3.2, 2.0),\n",
       " (3.2, 3.0),\n",
       " (3.2, 3.0),\n",
       " (3.2, 5.0),\n",
       " (3.2, 8.0),\n",
       " (3.2, 8.0),\n",
       " (3.2, 9.0),\n",
       " (3.2, 9.0),\n",
       " (3.2, 9.0),\n",
       " (3.2, 10.0),\n",
       " (3.2, 10.0),\n",
       " (3.2, 10.0),\n",
       " (3.3, 3.0),\n",
       " (3.3, 3.0),\n",
       " (3.3, 7.0),\n",
       " (3.3, 8.0),\n",
       " (3.3, 8.0),\n",
       " (3.3, 9.0),\n",
       " (3.3, 9.0),\n",
       " (3.4, 3.0),\n",
       " (3.4, 6.0),\n",
       " (3.4, 6.0),\n",
       " (3.4, 8.0),\n",
       " (3.5, 3.0),\n",
       " (3.5, 5.0),\n",
       " (3.5, 5.0),\n",
       " (3.5, 8.0),\n",
       " (3.5, 9.0),\n",
       " (3.5, 10.0),\n",
       " (3.6, 1.0),\n",
       " (3.6, 3.0),\n",
       " (3.6, 4.0),\n",
       " (3.6, 5.0),\n",
       " (3.6, 6.0),\n",
       " (3.6, 6.0),\n",
       " (3.6, 8.0),\n",
       " (3.6, 9.0),\n",
       " (3.6, 9.0),\n",
       " (3.7, 6.0),\n",
       " (3.7, 6.0),\n",
       " (3.7, 10.0),\n",
       " (3.8, 1.0),\n",
       " (3.8, 6.0),\n",
       " (3.8, 9.0),\n",
       " (3.8, 9.0),\n",
       " (3.9, 1.0),\n",
       " (3.9, 4.0),\n",
       " (4.0, 1.0),\n",
       " (4.0, 2.0),\n",
       " (4.0, 10.0),\n",
       " (4.0, 10.0),\n",
       " (4.1, 3.0),\n",
       " (4.1, 7.0),\n",
       " (4.1, 7.0),\n",
       " (4.1, 8.0),\n",
       " (4.1, 9.0),\n",
       " (4.1, 10.0),\n",
       " (4.1, 10.0),\n",
       " (4.1, 10.0),\n",
       " (4.2, 10.0),\n",
       " (4.3, 2.0),\n",
       " (4.3, 5.0),\n",
       " (4.3, 5.0),\n",
       " (4.3, 10.0),\n",
       " (4.3, 10.0),\n",
       " (4.3, 10.0),\n",
       " (4.4, 9.0),\n",
       " (4.4, 10.0),\n",
       " (4.6, 2.0),\n",
       " (4.6, 4.0),\n",
       " (4.6, 7.0),\n",
       " (4.6, 7.0),\n",
       " (4.6, 9.0),\n",
       " (4.6, 10.0),\n",
       " (4.6, 10.0),\n",
       " (4.7, 2.0),\n",
       " (4.7, 7.0),\n",
       " (4.8, 1.0),\n",
       " (4.8, 3.0),\n",
       " (4.8, 3.0),\n",
       " (4.8, 7.0),\n",
       " (4.8, 7.0),\n",
       " (4.8, 8.0),\n",
       " (4.8, 8.0),\n",
       " (4.8, 10.0),\n",
       " (4.9, 2.0),\n",
       " (4.9, 4.0),\n",
       " (4.9, 6.0),\n",
       " (4.9, 9.0),\n",
       " (5.0, 1.0),\n",
       " (5.0, 5.0),\n",
       " (5.0, 5.0),\n",
       " (5.0, 5.0),\n",
       " (5.0, 9.0),\n",
       " (5.0, 9.0),\n",
       " (5.0, 9.0),\n",
       " (5.0, 10.0),\n",
       " (5.0, 10.0),\n",
       " (5.1, 2.0),\n",
       " (5.1, 2.0),\n",
       " (5.1, 5.0),\n",
       " (5.1, 6.0),\n",
       " (5.1, 7.0),\n",
       " (5.1, 9.0),\n",
       " (5.1, 9.0),\n",
       " (5.2, 3.0),\n",
       " (5.2, 8.0),\n",
       " (5.2, 9.0),\n",
       " (5.2, 10.0),\n",
       " (5.3, 3.0),\n",
       " (5.3, 4.0),\n",
       " (5.3, 4.0),\n",
       " (5.3, 8.0),\n",
       " (5.4, 2.0),\n",
       " (5.5, 1.0),\n",
       " (5.5, 9.0),\n",
       " (5.6, 1.0),\n",
       " (5.6, 3.0),\n",
       " (5.6, 8.0),\n",
       " (5.6, 9.0),\n",
       " (5.7, 5.0),\n",
       " (5.8, 6.0),\n",
       " (5.8, 7.0),\n",
       " (5.9, 2.0),\n",
       " (5.9, 4.0),\n",
       " (6.0, 7.0),\n",
       " (6.0, 9.0),\n",
       " (6.1, 2.0),\n",
       " (6.1, 5.0),\n",
       " (6.2, 2.0),\n",
       " (6.2, 4.0),\n",
       " (6.2, 6.0),\n",
       " (6.2, 6.0),\n",
       " (6.2, 9.0),\n",
       " (6.2, 9.0),\n",
       " (6.3, 3.0),\n",
       " (6.3, 4.0),\n",
       " (6.3, 5.0),\n",
       " (6.3, 6.0),\n",
       " (6.3, 8.0),\n",
       " (6.4, 1.0),\n",
       " (6.4, 10.0),\n",
       " (6.5, 1.0),\n",
       " (6.5, 2.0),\n",
       " (6.5, 3.0),\n",
       " (6.5, 5.0),\n",
       " (6.5, 7.0),\n",
       " (6.5, 8.0),\n",
       " (6.5, 10.0),\n",
       " (6.6, 7.0),\n",
       " (6.6, 9.0),\n",
       " (6.7, 10.0),\n",
       " (6.8, 9.0),\n",
       " (6.8, 9.0),\n",
       " (6.9, 3.0),\n",
       " (6.9, 4.0),\n",
       " (6.9, 5.0),\n",
       " (6.9, 8.0),\n",
       " (6.9, 10.0),\n",
       " (7.0, 2.0),\n",
       " (7.0, 2.0),\n",
       " (7.0, 3.0),\n",
       " (7.0, 5.0),\n",
       " (7.0, 5.0),\n",
       " (7.0, 7.0),\n",
       " (7.0, 8.0),\n",
       " (7.0, 8.0),\n",
       " (7.0, 10.0),\n",
       " (7.1, 1.0),\n",
       " (7.1, 4.0),\n",
       " (7.1, 10.0),\n",
       " (7.2, 2.0),\n",
       " (7.2, 2.0),\n",
       " (7.2, 5.0),\n",
       " (7.2, 9.0),\n",
       " (7.3, 4.0),\n",
       " (7.4, 2.0),\n",
       " (7.4, 7.0),\n",
       " (7.4, 9.0),\n",
       " (7.5, 2.0),\n",
       " (7.6, 1.0),\n",
       " (7.7, 4.0),\n",
       " (7.8, 5.0),\n",
       " (7.8, 7.0),\n",
       " (7.8, 10.0),\n",
       " (7.9, 1.0),\n",
       " (7.9, 3.0),\n",
       " (7.9, 3.0),\n",
       " (7.9, 5.0),\n",
       " (7.9, 8.0),\n",
       " (7.9, 8.0),\n",
       " (7.9, 9.0),\n",
       " (7.9, 10.0),\n",
       " (8.0, 10.0),\n",
       " (8.1, 3.0),\n",
       " (8.1, 4.0),\n",
       " (8.1, 5.0),\n",
       " (8.1, 8.0),\n",
       " (8.2, 5.0),\n",
       " (8.2, 6.0),\n",
       " (8.2, 7.0),\n",
       " (8.2, 10.0),\n",
       " (8.3, 1.0),\n",
       " (8.3, 2.0),\n",
       " (8.3, 2.0),\n",
       " (8.3, 2.0),\n",
       " (8.3, 3.0),\n",
       " (8.3, 4.0),\n",
       " (8.3, 8.0),\n",
       " (8.3, 8.0),\n",
       " (8.3, 9.0),\n",
       " (8.4, 6.0),\n",
       " (8.4, 9.0),\n",
       " (8.6, 1.0),\n",
       " (8.6, 3.0),\n",
       " (8.6, 6.0),\n",
       " (8.6, 8.0),\n",
       " (8.7, 4.0),\n",
       " (8.7, 4.0),\n",
       " (8.7, 9.0),\n",
       " (8.8, 2.0),\n",
       " (8.8, 4.0),\n",
       " (8.8, 10.0),\n",
       " (8.8, 10.0),\n",
       " (8.9, 3.0),\n",
       " (8.9, 4.0),\n",
       " (8.9, 4.0),\n",
       " (8.9, 8.0),\n",
       " (9.0, 3.0),\n",
       " (9.0, 4.0),\n",
       " (9.0, 8.0),\n",
       " (9.0, 10.0),\n",
       " (9.1, 2.0),\n",
       " (9.1, 5.0),\n",
       " (9.1, 6.0),\n",
       " (9.2, 1.0),\n",
       " (9.2, 1.0),\n",
       " (9.2, 1.0),\n",
       " (9.2, 2.0),\n",
       " (9.2, 4.0),\n",
       " (9.2, 10.0),\n",
       " (9.3, 7.0),\n",
       " (9.3, 9.0),\n",
       " (9.5, 3.0),\n",
       " (9.5, 6.0),\n",
       " (9.5, 8.0),\n",
       " (9.6, 3.0),\n",
       " (9.6, 3.0),\n",
       " (9.6, 6.0),\n",
       " (9.6, 8.0),\n",
       " (9.6, 8.0),\n",
       " (9.6, 9.0),\n",
       " (9.7, 2.0),\n",
       " (9.7, 5.0),\n",
       " (9.7, 6.0),\n",
       " (9.8, 1.0),\n",
       " (9.8, 2.0),\n",
       " (9.9, 1.0),\n",
       " (9.9, 9.0),\n",
       " (9.9, 10.0),\n",
       " (9.9, 10.0),\n",
       " (10.0, 1.0),\n",
       " (10.0, 5.0),\n",
       " (10.0, 6.0),\n",
       " (10.0, 7.0),\n",
       " (10.1, 4.0),\n",
       " (10.2, 1.0),\n",
       " (10.2, 1.0),\n",
       " (10.2, 4.0),\n",
       " (10.2, 5.0),\n",
       " (10.2, 7.0),\n",
       " (10.2, 7.0),\n",
       " (10.2, 7.0),\n",
       " (10.2, 9.0),\n",
       " (10.2, 9.0),\n",
       " (10.2, 10.0),\n",
       " (10.3, 1.0),\n",
       " (10.3, 2.0),\n",
       " (10.3, 6.0),\n",
       " (10.3, 6.0),\n",
       " (10.3, 6.0),\n",
       " (10.3, 10.0),\n",
       " (10.4, 1.0),\n",
       " (10.4, 3.0),\n",
       " (10.4, 3.0),\n",
       " (10.4, 8.0),\n",
       " (10.4, 8.0),\n",
       " (10.4, 10.0),\n",
       " (10.6, 2.0),\n",
       " (10.6, 3.0),\n",
       " (10.6, 4.0),\n",
       " (10.6, 4.0),\n",
       " (10.6, 5.0),\n",
       " (10.6, 6.0),\n",
       " (10.6, 8.0),\n",
       " (10.6, 8.0),\n",
       " (10.6, 10.0),\n",
       " (10.7, 4.0),\n",
       " (10.7, 5.0),\n",
       " (10.7, 6.0),\n",
       " (10.7, 9.0),\n",
       " (10.8, 1.0),\n",
       " (10.8, 7.0),\n",
       " (10.9, 2.0),\n",
       " (10.9, 4.0),\n",
       " (10.9, 6.0),\n",
       " (10.9, 6.0),\n",
       " (10.9, 10.0),\n",
       " (11.0, 1.0),\n",
       " (11.1, 5.0),\n",
       " (11.2, 2.0),\n",
       " (11.2, 3.0),\n",
       " (11.2, 4.0),\n",
       " (11.2, 8.0),\n",
       " (11.2, 9.0),\n",
       " (11.2, 10.0),\n",
       " (11.3, 4.0),\n",
       " (11.3, 6.0),\n",
       " (11.3, 9.0),\n",
       " (11.4, 6.0),\n",
       " (11.4, 9.0),\n",
       " (11.5, 4.0),\n",
       " (11.5, 5.0),\n",
       " (11.5, 10.0),\n",
       " (11.6, 6.0),\n",
       " (11.7, 3.0),\n",
       " (11.7, 6.0),\n",
       " (11.7, 6.0),\n",
       " (11.7, 6.0),\n",
       " (11.7, 8.0),\n",
       " (11.7, 9.0),\n",
       " (11.7, 10.0),\n",
       " (11.8, 2.0),\n",
       " (11.8, 2.0),\n",
       " (11.8, 9.0),\n",
       " (11.9, 2.0),\n",
       " (11.9, 7.0),\n",
       " (11.9, 7.0),\n",
       " (11.9, 7.0),\n",
       " (11.9, 9.0),\n",
       " (12.2, 4.0),\n",
       " (12.2, 6.0),\n",
       " (12.2, 6.0),\n",
       " (12.2, 7.0),\n",
       " (12.2, 9.0),\n",
       " (12.3, 1.0),\n",
       " (12.4, 2.0),\n",
       " (12.4, 3.0),\n",
       " (12.4, 5.0),\n",
       " (12.4, 6.0),\n",
       " (12.4, 6.0),\n",
       " (12.4, 8.0),\n",
       " (12.5, 2.0),\n",
       " (12.5, 7.0),\n",
       " (12.6, 1.0),\n",
       " (12.6, 3.0),\n",
       " (12.6, 4.0),\n",
       " (12.6, 8.0),\n",
       " (12.7, 1.0),\n",
       " (12.7, 6.0),\n",
       " (12.7, 9.0),\n",
       " (12.9, 1.0),\n",
       " (12.9, 3.0),\n",
       " (12.9, 5.0),\n",
       " (12.9, 8.0),\n",
       " (12.9, 9.0),\n",
       " (13.1, 3.0),\n",
       " (13.1, 6.0),\n",
       " (13.1, 7.0),\n",
       " (13.1, 8.0),\n",
       " (13.1, 9.0),\n",
       " (13.2, 5.0),\n",
       " (13.2, 5.0),\n",
       " (13.2, 10.0),\n",
       " (13.3, 5.0),\n",
       " (13.3, 6.0),\n",
       " (13.3, 7.0),\n",
       " (13.3, 9.0),\n",
       " (13.3, 10.0),\n",
       " (13.4, 2.0),\n",
       " (13.4, 4.0),\n",
       " (13.5, 3.0),\n",
       " (13.5, 3.0),\n",
       " (13.5, 6.0),\n",
       " (13.5, 8.0),\n",
       " (13.5, 8.0),\n",
       " (13.6, 3.0),\n",
       " (13.6, 8.0),\n",
       " (13.7, 2.0),\n",
       " (13.8, 6.0),\n",
       " (13.8, 6.0),\n",
       " (13.8, 6.0),\n",
       " (13.8, 10.0),\n",
       " (13.9, 2.0),\n",
       " (13.9, 4.0),\n",
       " (13.9, 7.0),\n",
       " (13.9, 10.0),\n",
       " (14.0, 6.0),\n",
       " (14.0, 9.0),\n",
       " (14.0, 10.0),\n",
       " (14.1, 1.0),\n",
       " (14.2, 4.0),\n",
       " (14.2, 6.0),\n",
       " (14.2, 7.0),\n",
       " (14.3, 4.0),\n",
       " (14.3, 5.0),\n",
       " (14.4, 5.0),\n",
       " (14.4, 9.0),\n",
       " (14.4, 10.0),\n",
       " (14.5, 3.0),\n",
       " (14.5, 5.0),\n",
       " (14.5, 7.0),\n",
       " (14.5, 7.0),\n",
       " (14.5, 8.0),\n",
       " (14.5, 10.0),\n",
       " (14.6, 1.0),\n",
       " (14.6, 2.0),\n",
       " (14.6, 4.0),\n",
       " (14.6, 5.0),\n",
       " (14.6, 9.0),\n",
       " (14.6, 9.0),\n",
       " (14.7, 1.0),\n",
       " (14.8, 6.0),\n",
       " (14.8, 10.0),\n",
       " (14.9, 4.0),\n",
       " (14.9, 6.0),\n",
       " (15.0, 1.0),\n",
       " (15.0, 2.0),\n",
       " (15.1, 3.0),\n",
       " (15.1, 6.0),\n",
       " (15.1, 8.0),\n",
       " (15.2, 6.0),\n",
       " (15.2, 9.0),\n",
       " (15.2, 9.0),\n",
       " (15.2, 9.0),\n",
       " (15.2, 9.0),\n",
       " (15.2, 9.0),\n",
       " (15.2, 10.0),\n",
       " (15.3, 3.0),\n",
       " (15.3, 3.0),\n",
       " (15.3, 3.0),\n",
       " (15.3, 7.0),\n",
       " (15.3, 8.0),\n",
       " (15.3, 8.0),\n",
       " (15.3, 8.0),\n",
       " (15.3, 9.0),\n",
       " (15.3, 10.0),\n",
       " (15.4, 3.0),\n",
       " (15.4, 4.0),\n",
       " (15.4, 6.0),\n",
       " (15.4, 8.0),\n",
       " (15.4, 9.0),\n",
       " (15.5, 1.0),\n",
       " (15.5, 1.0),\n",
       " (15.5, 3.0),\n",
       " (15.5, 8.0),\n",
       " (15.6, 6.0),\n",
       " (15.6, 7.0),\n",
       " (15.6, 9.0),\n",
       " (15.7, 3.0),\n",
       " (15.7, 6.0),\n",
       " (15.7, 8.0),\n",
       " (15.7, 10.0),\n",
       " (15.8, 10.0),\n",
       " (15.9, 3.0),\n",
       " (15.9, 7.0),\n",
       " (15.9, 7.0),\n",
       " (15.9, 8.0),\n",
       " (16.1, 4.0),\n",
       " (16.1, 9.0),\n",
       " (16.2, 6.0),\n",
       " (16.3, 2.0),\n",
       " (16.3, 6.0),\n",
       " (16.4, 10.0),\n",
       " (16.5, 3.0),\n",
       " (16.5, 8.0),\n",
       " (16.5, 10.0),\n",
       " (16.6, 6.0),\n",
       " (16.7, 3.0),\n",
       " (16.7, 3.0),\n",
       " (16.7, 8.0),\n",
       " (16.7, 8.0),\n",
       " (16.8, 1.0),\n",
       " (16.8, 2.0),\n",
       " (16.8, 2.0),\n",
       " (16.8, 2.0),\n",
       " (16.8, 3.0),\n",
       " (16.8, 7.0),\n",
       " (16.8, 8.0),\n",
       " (16.8, 9.0),\n",
       " (16.9, 2.0),\n",
       " (16.9, 3.0),\n",
       " (16.9, 8.0),\n",
       " (16.9, 8.0),\n",
       " (17.0, 4.0),\n",
       " (17.0, 7.0),\n",
       " (17.0, 7.0),\n",
       " (17.1, 2.0),\n",
       " (17.1, 5.0),\n",
       " (17.1, 5.0),\n",
       " (17.1, 10.0),\n",
       " (17.2, 4.0),\n",
       " (17.2, 7.0),\n",
       " (17.3, 1.0),\n",
       " (17.3, 2.0),\n",
       " (17.3, 2.0),\n",
       " (17.3, 8.0),\n",
       " (17.4, 2.0),\n",
       " (17.4, 5.0),\n",
       " (17.4, 7.0),\n",
       " (17.4, 8.0),\n",
       " (17.4, 10.0),\n",
       " (17.5, 1.0),\n",
       " (17.5, 10.0),\n",
       " (17.5, 10.0),\n",
       " (17.5, 10.0),\n",
       " (17.7, 7.0),\n",
       " (17.7, 9.0),\n",
       " (17.8, 1.0),\n",
       " (17.8, 3.0),\n",
       " (17.8, 8.0),\n",
       " (17.9, 5.0),\n",
       " (17.9, 9.0),\n",
       " (17.9, 10.0),\n",
       " (18.0, 2.0),\n",
       " (18.0, 3.0),\n",
       " (18.0, 3.0),\n",
       " (18.0, 8.0),\n",
       " (18.0, 8.0),\n",
       " (18.0, 8.0),\n",
       " (18.0, 9.0),\n",
       " (18.1, 2.0),\n",
       " (18.1, 2.0),\n",
       " (18.1, 5.0),\n",
       " (18.2, 4.0),\n",
       " (18.2, 7.0),\n",
       " (18.2, 9.0),\n",
       " (18.3, 6.0),\n",
       " (18.3, 9.0),\n",
       " (18.3, 9.0),\n",
       " (18.4, 7.0),\n",
       " (18.4, 10.0),\n",
       " (18.5, 1.0),\n",
       " (18.5, 5.0),\n",
       " (18.5, 7.0),\n",
       " (18.6, 2.0),\n",
       " (18.8, 2.0),\n",
       " (18.8, 2.0),\n",
       " (18.8, 6.0),\n",
       " (18.8, 10.0),\n",
       " (18.9, 2.0),\n",
       " (18.9, 5.0),\n",
       " (19.1, 5.0),\n",
       " (19.1, 9.0),\n",
       " (19.2, 2.0),\n",
       " (19.2, 3.0),\n",
       " (19.2, 6.0),\n",
       " (19.2, 8.0),\n",
       " (19.4, 1.0),\n",
       " (19.5, 4.0),\n",
       " (19.7, 5.0),\n",
       " (19.7, 9.0),\n",
       " (19.7, 10.0),\n",
       " (19.8, 3.0),\n",
       " (19.8, 6.0),\n",
       " (19.8, 8.0),\n",
       " (19.8, 9.0),\n",
       " (19.8, 9.0),\n",
       " (19.9, 1.0),\n",
       " (20.0, 9.0),\n",
       " (20.1, 2.0),\n",
       " (20.1, 5.0),\n",
       " (20.1, 8.0),\n",
       " (20.2, 2.0),\n",
       " (20.2, 7.0),\n",
       " (20.3, 7.0),\n",
       " (20.4, 7.0),\n",
       " (20.5, 2.0),\n",
       " (20.7, 2.0),\n",
       " (20.7, 6.0),\n",
       " (20.7, 7.0),\n",
       " (20.7, 9.0),\n",
       " (20.8, 4.0),\n",
       " (20.8, 4.0),\n",
       " (20.9, 1.0),\n",
       " (20.9, 4.0),\n",
       " (21.0, 3.0),\n",
       " (21.0, 8.0),\n",
       " (21.1, 9.0),\n",
       " (21.2, 1.0),\n",
       " (21.2, 4.0),\n",
       " (21.4, 4.0),\n",
       " (21.4, 4.0),\n",
       " (21.5, 3.0),\n",
       " (21.5, 8.0),\n",
       " (21.6, 1.0),\n",
       " (21.6, 3.0),\n",
       " (21.6, 7.0),\n",
       " (21.6, 8.0),\n",
       " (21.7, 3.0),\n",
       " (21.7, 8.0),\n",
       " (21.7, 10.0),\n",
       " (21.8, 2.0),\n",
       " (21.8, 4.0),\n",
       " (21.9, 4.0),\n",
       " (21.9, 5.0),\n",
       " (21.9, 5.0),\n",
       " (22.0, 1.0),\n",
       " (22.1, 1.0),\n",
       " (22.1, 7.0),\n",
       " (22.2, 1.0),\n",
       " (22.3, 9.0),\n",
       " (22.4, 3.0),\n",
       " (22.4, 7.0),\n",
       " (22.4, 8.0),\n",
       " (22.4, 10.0),\n",
       " (22.6, 3.0),\n",
       " (22.6, 4.0),\n",
       " (22.6, 5.0),\n",
       " (22.6, 6.0),\n",
       " (22.6, 8.0),\n",
       " (22.7, 7.0),\n",
       " (22.7, 10.0),\n",
       " (22.7, 10.0),\n",
       " (22.8, 5.0),\n",
       " (22.9, 2.0),\n",
       " (23.1, 1.0),\n",
       " (23.1, 9.0),\n",
       " (23.1, 10.0),\n",
       " (23.2, 2.0),\n",
       " (23.2, 8.0),\n",
       " (23.2, 10.0),\n",
       " (23.5, 3.0),\n",
       " (23.5, 5.0),\n",
       " (23.5, 7.0),\n",
       " (23.5, 8.0),\n",
       " (23.6, 2.0),\n",
       " (23.6, 6.0),\n",
       " (23.7, 9.0),\n",
       " (23.8, 1.0),\n",
       " (23.8, 4.0),\n",
       " (23.9, 6.0),\n",
       " (23.9, 7.0),\n",
       " (24.0, 1.0),\n",
       " (24.0, 4.0),\n",
       " (24.0, 5.0),\n",
       " (24.1, 9.0),\n",
       " (24.2, 3.0),\n",
       " (24.2, 8.0),\n",
       " (24.2, 9.0),\n",
       " (24.4, 1.0),\n",
       " (24.5, 3.0),\n",
       " (24.5, 5.0),\n",
       " (24.5, 8.0),\n",
       " (24.6, 4.0),\n",
       " (24.6, 7.0),\n",
       " (24.6, 9.0),\n",
       " (24.7, 1.0),\n",
       " (24.7, 10.0),\n",
       " (24.8, 9.0),\n",
       " (24.9, 2.0),\n",
       " (25.4, 10.0),\n",
       " (25.5, 4.0),\n",
       " (25.6, 9.0),\n",
       " (25.8, 5.0),\n",
       " (25.9, 5.0),\n",
       " (25.9, 10.0),\n",
       " (26.0, 2.0),\n",
       " (26.1, 7.0),\n",
       " (26.2, 5.0),\n",
       " (26.3, 9.0),\n",
       " (26.4, 4.0),\n",
       " (26.5, 6.0),\n",
       " (26.5, 9.0),\n",
       " (26.5, 10.0),\n",
       " (26.6, 6.0),\n",
       " (26.7, 2.0),\n",
       " (26.7, 7.0),\n",
       " (26.9, 3.0),\n",
       " (26.9, 8.0),\n",
       " (26.9, 10.0),\n",
       " (27.0, 3.0),\n",
       " (27.0, 3.0),\n",
       " (27.0, 4.0),\n",
       " (27.0, 7.0),\n",
       " (27.0, 8.0),\n",
       " (27.0, 8.0),\n",
       " (27.1, 5.0),\n",
       " (27.3, 2.0),\n",
       " (27.3, 7.0),\n",
       " (27.4, 5.0),\n",
       " (27.4, 9.0),\n",
       " (27.5, 1.0),\n",
       " (27.5, 2.0),\n",
       " (27.5, 3.0),\n",
       " (27.5, 8.0),\n",
       " (27.6, 2.0),\n",
       " (27.6, 4.0),\n",
       " (27.6, 4.0),\n",
       " (27.7, 1.0),\n",
       " (27.7, 10.0),\n",
       " (27.8, 5.0),\n",
       " (27.8, 9.0),\n",
       " (27.9, 2.0),\n",
       " (28.0, 3.0),\n",
       " (28.0, 8.0),\n",
       " (28.0, 10.0),\n",
       " (28.1, 2.0),\n",
       " (28.1, 8.0),\n",
       " (28.2, 2.0),\n",
       " (28.2, 4.0),\n",
       " (28.2, 5.0),\n",
       " (28.3, 9.0),\n",
       " (28.4, 1.0),\n",
       " (28.4, 1.0),\n",
       " (28.4, 7.0),\n",
       " (28.5, 1.0),\n",
       " (28.5, 4.0),\n",
       " (28.6, 5.0),\n",
       " (28.7, 4.0),\n",
       " (28.8, 3.0),\n",
       " (28.8, 8.0),\n",
       " (28.9, 5.0),\n",
       " (29.1, 1.0),\n",
       " (29.1, 4.0),\n",
       " (29.1, 10.0),\n",
       " (29.2, 1.0),\n",
       " (29.2, 2.0),\n",
       " (29.2, 5.0),\n",
       " (29.2, 5.0),\n",
       " (29.2, 10.0),\n",
       " (29.3, 9.0),\n",
       " (29.4, 3.0),\n",
       " (29.4, 6.0),\n",
       " (29.4, 8.0),\n",
       " (29.5, 2.0),\n",
       " (29.7, 6.0),\n",
       " (29.8, 1.0),\n",
       " (29.8, 6.0),\n",
       " (29.8, 10.0),\n",
       " (29.9, 2.0),\n",
       " (29.9, 2.0),\n",
       " (30.2, 7.0),\n",
       " (30.3, 6.0),\n",
       " (30.3, 9.0),\n",
       " (30.4, 7.0),\n",
       " (30.5, 1.0),\n",
       " (30.8, 2.0),\n",
       " (30.8, 8.0),\n",
       " (31.0, 8.0),\n",
       " (31.1, 3.0),\n",
       " (31.1, 8.0),\n",
       " (31.4, 10.0),\n",
       " (31.5, 4.0),\n",
       " (32.0, 1.0),\n",
       " (32.0, 7.0),\n",
       " (32.0, 10.0),\n",
       " (32.5, 2.0),\n",
       " (32.5, 10.0),\n",
       " (32.7, 1.0),\n",
       " (33.1, 2.0),\n",
       " (33.1, 5.0),\n",
       " (33.2, 4.0),\n",
       " (33.4, 4.0),\n",
       " (33.4, 6.0),\n",
       " (33.5, 5.0),\n",
       " (33.5, 9.0),\n",
       " (33.6, 2.0),\n",
       " (33.7, 2.0),\n",
       " (33.7, 6.0),\n",
       " (33.8, 2.0),\n",
       " (33.8, 4.0),\n",
       " (33.9, 5.0),\n",
       " (34.0, 1.0),\n",
       " (34.1, 7.0),\n",
       " (34.1, 9.0),\n",
       " (34.2, 5.0),\n",
       " (34.3, 1.0),\n",
       " (34.3, 3.0),\n",
       " (34.3, 8.0),\n",
       " (34.3, 9.0),\n",
       " (34.5, 3.0),\n",
       " (34.5, 7.0),\n",
       " (34.5, 8.0),\n",
       " (34.6, 2.0),\n",
       " (34.7, 5.0),\n",
       " (34.9, 4.0),\n",
       " (35.1, 6.0),\n",
       " (35.1, 6.0),\n",
       " (35.1, 10.0),\n",
       " (35.2, 6.0),\n",
       " (35.6, 1.0),\n",
       " (35.8, 5.0),\n",
       " (35.8, 5.0),\n",
       " (35.8, 5.0),\n",
       " (35.9, 3.0),\n",
       " (35.9, 8.0),\n",
       " (36.0, 3.0),\n",
       " (36.0, 6.0),\n",
       " (36.0, 8.0),\n",
       " (36.1, 6.0),\n",
       " (36.2, 1.0),\n",
       " (36.3, 4.0),\n",
       " (36.3, 7.0),\n",
       " (36.3, 10.0),\n",
       " (36.4, 1.0),\n",
       " (36.9, 7.0),\n",
       " (37.0, 4.0),\n",
       " (37.2, 1.0),\n",
       " (37.2, 1.0),\n",
       " (37.2, 5.0),\n",
       " (37.2, 6.0),\n",
       " (37.3, 5.0),\n",
       " (37.3, 9.0),\n",
       " (37.6, 5.0),\n",
       " (37.8, 5.0),\n",
       " (37.8, 10.0),\n",
       " (37.8, 10.0),\n",
       " (37.9, 1.0),\n",
       " (38.0, 1.0),\n",
       " (38.4, 10.0),\n",
       " (38.5, 7.0),\n",
       " (38.6, 4.0),\n",
       " (38.7, 1.0),\n",
       " (39.2, 1.0),\n",
       " (39.2, 1.0),\n",
       " (39.2, 4.0),\n",
       " (39.4, 2.0),\n",
       " (39.4, 9.0),\n",
       " (39.7, 1.0),\n",
       " (39.8, 4.0),\n",
       " (40.1, 4.0),\n",
       " (40.1, 4.0),\n",
       " (40.8, 6.0),\n",
       " (41.4, 4.0),\n",
       " (41.4, 7.0),\n",
       " (41.7, 2.0),\n",
       " (41.7, 4.0),\n",
       " (41.8, 6.0),\n",
       " (41.8, 10.0),\n",
       " (42.0, 4.0),\n",
       " (42.4, 2.0),\n",
       " (42.6, 6.0),\n",
       " (43.1, 5.0),\n",
       " (43.2, 3.0),\n",
       " (43.2, 5.0),\n",
       " (43.2, 8.0),\n",
       " (43.6, 4.0),\n",
       " (43.9, 2.0),\n",
       " (44.2, 4.0),\n",
       " (44.5, 1.0),\n",
       " (44.5, 9.0),\n",
       " (44.7, 7.0),\n",
       " (45.1, 6.0),\n",
       " (45.5, 1.0),\n",
       " (45.5, 7.0),\n",
       " (45.7, 3.0),\n",
       " (45.7, 8.0),\n",
       " (45.8, 5.0),\n",
       " (45.9, 3.0),\n",
       " (45.9, 8.0),\n",
       " (46.4, 7.0),\n",
       " (46.6, 5.0),\n",
       " (46.6, 10.0),\n",
       " (46.8, 1.0),\n",
       " (46.9, 5.0),\n",
       " (48.6, 10.0),\n",
       " (48.8, 1.0),\n",
       " (49.2, 6.0),\n",
       " (49.3, 1.0),\n",
       " (49.3, 4.0),\n",
       " (49.5, 2.0),\n",
       " (50.1, 1.0),\n",
       " (50.6, 6.0),\n",
       " (51.3, 5.0),\n",
       " (51.4, 2.0),\n",
       " (51.5, 2.0),\n",
       " (51.6, 6.0),\n",
       " (52.4, 1.0),\n",
       " (53.4, 9.0),\n",
       " (53.5, 9.0),\n",
       " (53.6, 10.0),\n",
       " (53.8, 1.0),\n",
       " (53.9, 2.0),\n",
       " (55.8, 5.0),\n",
       " (56.2, 1.0),\n",
       " (56.9, 2.0),\n",
       " (57.1, 2.0),\n",
       " (58.4, 9.0),\n",
       " (58.6, 1.0),\n",
       " (58.8, 2.0),\n",
       " (58.8, 8.0),\n",
       " (60.2, 6.0),\n",
       " (62.7, 5.0),\n",
       " (63.3, 5.0),\n",
       " (64.1, 7.0),\n",
       " (65.0, 7.0),\n",
       " (65.1, 6.0),\n",
       " (66.1, 3.0),\n",
       " (66.1, 8.0),\n",
       " (66.4, 4.0),\n",
       " (67.1, 2.0),\n",
       " (75.1, 2.0),\n",
       " (75.5, 4.0),\n",
       " (77.2, 7.0),\n",
       " (77.7, 7.0),\n",
       " (83.6, 4.0),\n",
       " (91.1, 5.0)]"
      ]
     },
     "execution_count": 168,
     "metadata": {},
     "output_type": "execute_result"
    }
   ],
   "source": [
    "dat = [(d.iloc[i][\"Time\"],d.iloc[i][\"Game\"]) for i in range(len(d))]\n",
    "sorted(dat, key=lambda x:x[0])"
   ]
  },
  {
   "cell_type": "code",
   "execution_count": 169,
   "metadata": {},
   "outputs": [
    {
     "data": {
      "text/plain": [
       "22038"
      ]
     },
     "execution_count": 169,
     "metadata": {},
     "output_type": "execute_result"
    }
   ],
   "source": [
    "import collections\n",
    "sum([i**3 - i for i in collections.Counter(d[\"Time\"].values).values()])"
   ]
  },
  {
   "cell_type": "code",
   "execution_count": 170,
   "metadata": {},
   "outputs": [],
   "source": [
    "def aver_rang(dat, num):\n",
    "    sr1 = [i+1 for i, v in enumerate(sorted(dat, key=lambda x: x[0])) if v[1]==num]\n",
    "    return sum(sr1)/len(sr1)"
   ]
  },
  {
   "cell_type": "code",
   "execution_count": 171,
   "metadata": {},
   "outputs": [],
   "source": [
    "li = []\n",
    "for i in range(1,11):\n",
    "    li.append(list(d[d[\"Game\"]==i].values[:,1]))"
   ]
  },
  {
   "cell_type": "code",
   "execution_count": 172,
   "metadata": {},
   "outputs": [
    {
     "data": {
      "text/plain": [
       "3.886705765898001"
      ]
     },
     "execution_count": 172,
     "metadata": {},
     "output_type": "execute_result"
    }
   ],
   "source": [
    "Q1 = count_Q1(li)\n",
    "Q2 = count_Q2(li)\n",
    "F = (Q2/(k-1))/(Q1/(N-k))\n",
    "F"
   ]
  },
  {
   "cell_type": "code",
   "execution_count": 173,
   "metadata": {},
   "outputs": [
    {
     "data": {
      "text/plain": [
       "-83.07887323943663"
      ]
     },
     "execution_count": 173,
     "metadata": {},
     "output_type": "execute_result"
    }
   ],
   "source": [
    "H = H / 2 * (1+(N-k)/(N-1-H))\n",
    "H"
   ]
  },
  {
   "cell_type": "code",
   "execution_count": 174,
   "metadata": {},
   "outputs": [
    {
     "data": {
      "text/plain": [
       "-83.07887323943663"
      ]
     },
     "execution_count": 174,
     "metadata": {},
     "output_type": "execute_result"
    }
   ],
   "source": [
    "H"
   ]
  },
  {
   "cell_type": "markdown",
   "metadata": {},
   "source": [
    "### 5.4.13"
   ]
  },
  {
   "cell_type": "code",
   "execution_count": 175,
   "metadata": {},
   "outputs": [
    {
     "data": {
      "text/html": [
       "<div>\n",
       "<style scoped>\n",
       "    .dataframe tbody tr th:only-of-type {\n",
       "        vertical-align: middle;\n",
       "    }\n",
       "\n",
       "    .dataframe tbody tr th {\n",
       "        vertical-align: top;\n",
       "    }\n",
       "\n",
       "    .dataframe thead th {\n",
       "        text-align: right;\n",
       "    }\n",
       "</style>\n",
       "<table border=\"1\" class=\"dataframe\">\n",
       "  <thead>\n",
       "    <tr style=\"text-align: right;\">\n",
       "      <th></th>\n",
       "      <th>Pulse1</th>\n",
       "      <th>Pulse2</th>\n",
       "    </tr>\n",
       "  </thead>\n",
       "  <tbody>\n",
       "    <tr>\n",
       "      <th>0</th>\n",
       "      <td>82</td>\n",
       "      <td>150</td>\n",
       "    </tr>\n",
       "    <tr>\n",
       "      <th>1</th>\n",
       "      <td>96</td>\n",
       "      <td>176</td>\n",
       "    </tr>\n",
       "    <tr>\n",
       "      <th>2</th>\n",
       "      <td>78</td>\n",
       "      <td>141</td>\n",
       "    </tr>\n",
       "    <tr>\n",
       "      <th>3</th>\n",
       "      <td>88</td>\n",
       "      <td>150</td>\n",
       "    </tr>\n",
       "    <tr>\n",
       "      <th>4</th>\n",
       "      <td>76</td>\n",
       "      <td>88</td>\n",
       "    </tr>\n",
       "    <tr>\n",
       "      <th>5</th>\n",
       "      <td>80</td>\n",
       "      <td>146</td>\n",
       "    </tr>\n",
       "    <tr>\n",
       "      <th>6</th>\n",
       "      <td>70</td>\n",
       "      <td>98</td>\n",
       "    </tr>\n",
       "    <tr>\n",
       "      <th>7</th>\n",
       "      <td>70</td>\n",
       "      <td>96</td>\n",
       "    </tr>\n",
       "    <tr>\n",
       "      <th>8</th>\n",
       "      <td>78</td>\n",
       "      <td>168</td>\n",
       "    </tr>\n",
       "    <tr>\n",
       "      <th>9</th>\n",
       "      <td>86</td>\n",
       "      <td>150</td>\n",
       "    </tr>\n",
       "    <tr>\n",
       "      <th>10</th>\n",
       "      <td>59</td>\n",
       "      <td>92</td>\n",
       "    </tr>\n",
       "    <tr>\n",
       "      <th>11</th>\n",
       "      <td>68</td>\n",
       "      <td>125</td>\n",
       "    </tr>\n",
       "    <tr>\n",
       "      <th>12</th>\n",
       "      <td>75</td>\n",
       "      <td>130</td>\n",
       "    </tr>\n",
       "    <tr>\n",
       "      <th>13</th>\n",
       "      <td>74</td>\n",
       "      <td>168</td>\n",
       "    </tr>\n",
       "    <tr>\n",
       "      <th>14</th>\n",
       "      <td>60</td>\n",
       "      <td>104</td>\n",
       "    </tr>\n",
       "    <tr>\n",
       "      <th>15</th>\n",
       "      <td>70</td>\n",
       "      <td>119</td>\n",
       "    </tr>\n",
       "    <tr>\n",
       "      <th>16</th>\n",
       "      <td>80</td>\n",
       "      <td>140</td>\n",
       "    </tr>\n",
       "    <tr>\n",
       "      <th>17</th>\n",
       "      <td>66</td>\n",
       "      <td>89</td>\n",
       "    </tr>\n",
       "    <tr>\n",
       "      <th>18</th>\n",
       "      <td>70</td>\n",
       "      <td>95</td>\n",
       "    </tr>\n",
       "    <tr>\n",
       "      <th>19</th>\n",
       "      <td>56</td>\n",
       "      <td>110</td>\n",
       "    </tr>\n",
       "    <tr>\n",
       "      <th>20</th>\n",
       "      <td>64</td>\n",
       "      <td>126</td>\n",
       "    </tr>\n",
       "    <tr>\n",
       "      <th>21</th>\n",
       "      <td>68</td>\n",
       "      <td>84</td>\n",
       "    </tr>\n",
       "    <tr>\n",
       "      <th>22</th>\n",
       "      <td>65</td>\n",
       "      <td>82</td>\n",
       "    </tr>\n",
       "    <tr>\n",
       "      <th>23</th>\n",
       "      <td>47</td>\n",
       "      <td>136</td>\n",
       "    </tr>\n",
       "    <tr>\n",
       "      <th>24</th>\n",
       "      <td>50</td>\n",
       "      <td>90</td>\n",
       "    </tr>\n",
       "    <tr>\n",
       "      <th>25</th>\n",
       "      <td>76</td>\n",
       "      <td>132</td>\n",
       "    </tr>\n",
       "    <tr>\n",
       "      <th>26</th>\n",
       "      <td>72</td>\n",
       "      <td>115</td>\n",
       "    </tr>\n",
       "    <tr>\n",
       "      <th>27</th>\n",
       "      <td>76</td>\n",
       "      <td>150</td>\n",
       "    </tr>\n",
       "    <tr>\n",
       "      <th>28</th>\n",
       "      <td>85</td>\n",
       "      <td>130</td>\n",
       "    </tr>\n",
       "    <tr>\n",
       "      <th>29</th>\n",
       "      <td>49</td>\n",
       "      <td>83</td>\n",
       "    </tr>\n",
       "    <tr>\n",
       "      <th>30</th>\n",
       "      <td>145</td>\n",
       "      <td>155</td>\n",
       "    </tr>\n",
       "    <tr>\n",
       "      <th>31</th>\n",
       "      <td>72</td>\n",
       "      <td>136</td>\n",
       "    </tr>\n",
       "    <tr>\n",
       "      <th>32</th>\n",
       "      <td>70</td>\n",
       "      <td>120</td>\n",
       "    </tr>\n",
       "    <tr>\n",
       "      <th>33</th>\n",
       "      <td>68</td>\n",
       "      <td>136</td>\n",
       "    </tr>\n",
       "    <tr>\n",
       "      <th>34</th>\n",
       "      <td>78</td>\n",
       "      <td>129</td>\n",
       "    </tr>\n",
       "    <tr>\n",
       "      <th>35</th>\n",
       "      <td>84</td>\n",
       "      <td>140</td>\n",
       "    </tr>\n",
       "    <tr>\n",
       "      <th>36</th>\n",
       "      <td>90</td>\n",
       "      <td>160</td>\n",
       "    </tr>\n",
       "    <tr>\n",
       "      <th>37</th>\n",
       "      <td>85</td>\n",
       "      <td>131</td>\n",
       "    </tr>\n",
       "    <tr>\n",
       "      <th>38</th>\n",
       "      <td>78</td>\n",
       "      <td>132</td>\n",
       "    </tr>\n",
       "    <tr>\n",
       "      <th>39</th>\n",
       "      <td>64</td>\n",
       "      <td>120</td>\n",
       "    </tr>\n",
       "    <tr>\n",
       "      <th>40</th>\n",
       "      <td>88</td>\n",
       "      <td>144</td>\n",
       "    </tr>\n",
       "    <tr>\n",
       "      <th>41</th>\n",
       "      <td>88</td>\n",
       "      <td>120</td>\n",
       "    </tr>\n",
       "    <tr>\n",
       "      <th>42</th>\n",
       "      <td>88</td>\n",
       "      <td>136</td>\n",
       "    </tr>\n",
       "    <tr>\n",
       "      <th>43</th>\n",
       "      <td>92</td>\n",
       "      <td>120</td>\n",
       "    </tr>\n",
       "    <tr>\n",
       "      <th>44</th>\n",
       "      <td>76</td>\n",
       "      <td>168</td>\n",
       "    </tr>\n",
       "    <tr>\n",
       "      <th>45</th>\n",
       "      <td>71</td>\n",
       "      <td>125</td>\n",
       "    </tr>\n",
       "  </tbody>\n",
       "</table>\n",
       "</div>"
      ],
      "text/plain": [
       "    Pulse1  Pulse2\n",
       "0       82     150\n",
       "1       96     176\n",
       "2       78     141\n",
       "3       88     150\n",
       "4       76      88\n",
       "5       80     146\n",
       "6       70      98\n",
       "7       70      96\n",
       "8       78     168\n",
       "9       86     150\n",
       "10      59      92\n",
       "11      68     125\n",
       "12      75     130\n",
       "13      74     168\n",
       "14      60     104\n",
       "15      70     119\n",
       "16      80     140\n",
       "17      66      89\n",
       "18      70      95\n",
       "19      56     110\n",
       "20      64     126\n",
       "21      68      84\n",
       "22      65      82\n",
       "23      47     136\n",
       "24      50      90\n",
       "25      76     132\n",
       "26      72     115\n",
       "27      76     150\n",
       "28      85     130\n",
       "29      49      83\n",
       "30     145     155\n",
       "31      72     136\n",
       "32      70     120\n",
       "33      68     136\n",
       "34      78     129\n",
       "35      84     140\n",
       "36      90     160\n",
       "37      85     131\n",
       "38      78     132\n",
       "39      64     120\n",
       "40      88     144\n",
       "41      88     120\n",
       "42      88     136\n",
       "43      92     120\n",
       "44      76     168\n",
       "45      71     125"
      ]
     },
     "execution_count": 175,
     "metadata": {},
     "output_type": "execute_result"
    }
   ],
   "source": [
    "d = pd.read_csv(r\"../pulse.txt\", sep=\"\\t\")\n",
    "d"
   ]
  },
  {
   "cell_type": "code",
   "execution_count": 176,
   "metadata": {},
   "outputs": [
    {
     "data": {
      "text/plain": [
       "array([-68, -80, -63, -62, -12, -66, -28, -26, -90, -64, -33, -57, -55,\n",
       "       -94, -44, -49, -60, -23, -25, -54, -62, -16, -17, -89, -40, -56,\n",
       "       -43, -74, -45, -34, -10, -64, -50, -68, -51, -56, -70, -46, -54,\n",
       "       -56, -56, -32, -48, -28, -92, -54], dtype=int64)"
      ]
     },
     "execution_count": 176,
     "metadata": {},
     "output_type": "execute_result"
    }
   ],
   "source": [
    "data = np.array(d[\"Pulse1\"]) - np.array(d[\"Pulse2\"])\n",
    "data"
   ]
  },
  {
   "cell_type": "code",
   "execution_count": 177,
   "metadata": {},
   "outputs": [
    {
     "data": {
      "text/plain": [
       "(-58.62510957312639, -44.157499122525785)"
      ]
     },
     "execution_count": 177,
     "metadata": {},
     "output_type": "execute_result"
    }
   ],
   "source": [
    "#(x_av, s, n, alpha)\n",
    "alpha = 0.02\n",
    "n = len(data)\n",
    "from scipy.stats import t, norm\n",
    "#confidence_interval_a(np.mean(data), (variance(data)*n/(n-1))**(1/2), len(data), 0.02)\n",
    "st = norm(0,1)\n",
    "x_av = np.mean(data)\n",
    "s = 0\n",
    "for i in data:\n",
    "    s += (i-x_av)**2\n",
    "s /= (n-1)\n",
    "s = s ** (1/2)\n",
    "t_1alp2 = st.ppf(1-alpha/2)\n",
    "x_av-s/n**(1/2)*t_1alp2, x_av+s/n**(1/2)*t_1alp2"
   ]
  },
  {
   "cell_type": "markdown",
   "metadata": {},
   "source": [
    "### 6.1"
   ]
  },
  {
   "cell_type": "code",
   "execution_count": 178,
   "metadata": {},
   "outputs": [
    {
     "data": {
      "text/plain": [
       "[0.29,\n",
       " 0.01,\n",
       " 0.5,\n",
       " 0.21,\n",
       " 0.65,\n",
       " 0.34,\n",
       " 0.75,\n",
       " 0.07,\n",
       " 0.07,\n",
       " 0.25,\n",
       " 1.26,\n",
       " 0.11,\n",
       " 0.22,\n",
       " 0.95,\n",
       " 0.63,\n",
       " 0.93,\n",
       " 0.73,\n",
       " 0.37,\n",
       " 0.8,\n",
       " 1.1]"
      ]
     },
     "execution_count": 178,
     "metadata": {},
     "output_type": "execute_result"
    }
   ],
   "source": [
    "d = \"0.29 0.01 0.50 0.21 0.65 0.34 0.75 0.07 0.07 0.25 1.26 0.11 0.22 0.95 0.63 0.93 0.73 0.37 0.80 1.10\"\n",
    "d = d.split()\n",
    "d = [float(i) for i in d]\n",
    "d"
   ]
  },
  {
   "cell_type": "code",
   "execution_count": 179,
   "metadata": {},
   "outputs": [],
   "source": [
    "l =  (0.2, 0.5)\n"
   ]
  },
  {
   "cell_type": "code",
   "execution_count": 180,
   "metadata": {},
   "outputs": [
    {
     "data": {
      "text/plain": [
       "[0.01,\n",
       " 0.07,\n",
       " 0.07,\n",
       " 0.11,\n",
       " 0.21,\n",
       " 0.22,\n",
       " 0.25,\n",
       " 0.29,\n",
       " 0.34,\n",
       " 0.37,\n",
       " 0.5,\n",
       " 0.63,\n",
       " 0.65,\n",
       " 0.73,\n",
       " 0.75,\n",
       " 0.8,\n",
       " 0.93,\n",
       " 0.95,\n",
       " 1.1,\n",
       " 1.26]"
      ]
     },
     "execution_count": 180,
     "metadata": {},
     "output_type": "execute_result"
    }
   ],
   "source": [
    "sorted(d)"
   ]
  },
  {
   "cell_type": "code",
   "execution_count": 181,
   "metadata": {},
   "outputs": [
    {
     "data": {
      "text/plain": [
       "[[0.01, 0.07, 0.07, 0.11],\n",
       " [0.29, 0.21, 0.34, 0.25, 0.22, 0.37],\n",
       " [0.65, 0.75, 1.26, 0.95, 0.63, 0.93, 0.73, 0.8, 1.1]]"
      ]
     },
     "execution_count": 181,
     "metadata": {},
     "output_type": "execute_result"
    }
   ],
   "source": [
    "def include(a,b,x):\n",
    "    return x >= a and x <= b\n",
    "r = 3\n",
    "def divide_inters(d, a_i):\n",
    "    res = []\n",
    "    for i in range(1,len(a_i)):\n",
    "        res.append([j for j in d if j > a_i[i-1] and j < a_i[i]])\n",
    "    return res\n",
    "its = divide_inters(d, [0, 0.2, 0.5, 10000000000])\n",
    "its"
   ]
  },
  {
   "cell_type": "code",
   "execution_count": 182,
   "metadata": {},
   "outputs": [],
   "source": [
    "from math import factorial, e\n",
    "def exp_prob(lambd, k):\n",
    "    return 1 - e**(-lambd*k)\n",
    "def pois_prob(lambd, k):\n",
    "    return lambd**k/factorial(k)*e**(-lambd)\n",
    "def count_x_i(d_its, n, its):\n",
    "    res = 0\n",
    "    probs = []\n",
    "    for i in range(1,len(its)-1):\n",
    "        probs.append(exp_prob(2,intervals[i]))\n",
    "    probs.append(1-sum(probs))\n",
    "    print(probs)\n",
    "    for i in range(len(d_its)):\n",
    "        res += (len(d_its[i])-n*probs[i])**2/(n*probs[i])\n",
    "    return res"
   ]
  },
  {
   "cell_type": "code",
   "execution_count": 183,
   "metadata": {},
   "outputs": [
    {
     "ename": "NameError",
     "evalue": "name 'intervals' is not defined",
     "output_type": "error",
     "traceback": [
      "\u001b[1;31m---------------------------------------------------------------------------\u001b[0m",
      "\u001b[1;31mNameError\u001b[0m                                 Traceback (most recent call last)",
      "\u001b[1;32m<ipython-input-183-f4804141e749>\u001b[0m in \u001b[0;36m<module>\u001b[1;34m\u001b[0m\n\u001b[0;32m      1\u001b[0m \u001b[0mr\u001b[0m \u001b[1;33m=\u001b[0m \u001b[1;36m3\u001b[0m\u001b[1;33m\u001b[0m\u001b[1;33m\u001b[0m\u001b[0m\n\u001b[1;32m----> 2\u001b[1;33m \u001b[0mxss\u001b[0m \u001b[1;33m=\u001b[0m \u001b[0mcount_x_i\u001b[0m\u001b[1;33m(\u001b[0m\u001b[0mits\u001b[0m\u001b[1;33m,\u001b[0m \u001b[0mlen\u001b[0m\u001b[1;33m(\u001b[0m\u001b[0md\u001b[0m\u001b[1;33m)\u001b[0m\u001b[1;33m,\u001b[0m \u001b[1;33m[\u001b[0m\u001b[1;36m0\u001b[0m\u001b[1;33m,\u001b[0m \u001b[1;36m0.2\u001b[0m\u001b[1;33m,\u001b[0m \u001b[1;36m0.5\u001b[0m\u001b[1;33m,\u001b[0m \u001b[1;36m10000000000\u001b[0m\u001b[1;33m]\u001b[0m\u001b[1;33m)\u001b[0m\u001b[1;33m\u001b[0m\u001b[1;33m\u001b[0m\u001b[0m\n\u001b[0m\u001b[0;32m      3\u001b[0m \u001b[0mxss\u001b[0m\u001b[1;33m\u001b[0m\u001b[1;33m\u001b[0m\u001b[0m\n",
      "\u001b[1;32m<ipython-input-182-6ecb7f041ffe>\u001b[0m in \u001b[0;36mcount_x_i\u001b[1;34m(d_its, n, its)\u001b[0m\n\u001b[0;32m      8\u001b[0m     \u001b[0mprobs\u001b[0m \u001b[1;33m=\u001b[0m \u001b[1;33m[\u001b[0m\u001b[1;33m]\u001b[0m\u001b[1;33m\u001b[0m\u001b[1;33m\u001b[0m\u001b[0m\n\u001b[0;32m      9\u001b[0m     \u001b[1;32mfor\u001b[0m \u001b[0mi\u001b[0m \u001b[1;32min\u001b[0m \u001b[0mrange\u001b[0m\u001b[1;33m(\u001b[0m\u001b[1;36m1\u001b[0m\u001b[1;33m,\u001b[0m\u001b[0mlen\u001b[0m\u001b[1;33m(\u001b[0m\u001b[0mits\u001b[0m\u001b[1;33m)\u001b[0m\u001b[1;33m-\u001b[0m\u001b[1;36m1\u001b[0m\u001b[1;33m)\u001b[0m\u001b[1;33m:\u001b[0m\u001b[1;33m\u001b[0m\u001b[1;33m\u001b[0m\u001b[0m\n\u001b[1;32m---> 10\u001b[1;33m         \u001b[0mprobs\u001b[0m\u001b[1;33m.\u001b[0m\u001b[0mappend\u001b[0m\u001b[1;33m(\u001b[0m\u001b[0mexp_prob\u001b[0m\u001b[1;33m(\u001b[0m\u001b[1;36m2\u001b[0m\u001b[1;33m,\u001b[0m\u001b[0mintervals\u001b[0m\u001b[1;33m[\u001b[0m\u001b[0mi\u001b[0m\u001b[1;33m]\u001b[0m\u001b[1;33m)\u001b[0m\u001b[1;33m)\u001b[0m\u001b[1;33m\u001b[0m\u001b[1;33m\u001b[0m\u001b[0m\n\u001b[0m\u001b[0;32m     11\u001b[0m     \u001b[0mprobs\u001b[0m\u001b[1;33m.\u001b[0m\u001b[0mappend\u001b[0m\u001b[1;33m(\u001b[0m\u001b[1;36m1\u001b[0m\u001b[1;33m-\u001b[0m\u001b[0msum\u001b[0m\u001b[1;33m(\u001b[0m\u001b[0mprobs\u001b[0m\u001b[1;33m)\u001b[0m\u001b[1;33m)\u001b[0m\u001b[1;33m\u001b[0m\u001b[1;33m\u001b[0m\u001b[0m\n\u001b[0;32m     12\u001b[0m     \u001b[0mprint\u001b[0m\u001b[1;33m(\u001b[0m\u001b[0mprobs\u001b[0m\u001b[1;33m)\u001b[0m\u001b[1;33m\u001b[0m\u001b[1;33m\u001b[0m\u001b[0m\n",
      "\u001b[1;31mNameError\u001b[0m: name 'intervals' is not defined"
     ]
    }
   ],
   "source": [
    "r = 3\n",
    "xss = count_x_i(its, len(d), [0, 0.2, 0.5, 10000000000])\n",
    "xss"
   ]
  },
  {
   "cell_type": "code",
   "execution_count": 184,
   "metadata": {},
   "outputs": [
    {
     "data": {
      "text/plain": [
       "9.21034037197618"
      ]
     },
     "execution_count": 184,
     "metadata": {},
     "output_type": "execute_result"
    }
   ],
   "source": [
    "chi2(r-1).ppf(1-0.01)"
   ]
  },
  {
   "cell_type": "code",
   "execution_count": 185,
   "metadata": {},
   "outputs": [
    {
     "name": "stdout",
     "output_type": "stream",
     "text": [
      "0.3296799539643607\n",
      "0.6321205588285577\n",
      "1.0\n"
     ]
    }
   ],
   "source": [
    "intervals = [0, 0.2, 0.5, 10000000000]\n",
    "print(exp_prob(2,intervals[1]))\n",
    "print(exp_prob(2,intervals[2]))\n",
    "print(exp_prob(2,intervals[3]))"
   ]
  },
  {
   "cell_type": "markdown",
   "metadata": {},
   "source": [
    "### 7.1.1"
   ]
  },
  {
   "cell_type": "code",
   "execution_count": 186,
   "metadata": {},
   "outputs": [
    {
     "data": {
      "text/html": [
       "<div>\n",
       "<style scoped>\n",
       "    .dataframe tbody tr th:only-of-type {\n",
       "        vertical-align: middle;\n",
       "    }\n",
       "\n",
       "    .dataframe tbody tr th {\n",
       "        vertical-align: top;\n",
       "    }\n",
       "\n",
       "    .dataframe thead th {\n",
       "        text-align: right;\n",
       "    }\n",
       "</style>\n",
       "<table border=\"1\" class=\"dataframe\">\n",
       "  <thead>\n",
       "    <tr style=\"text-align: right;\">\n",
       "      <th></th>\n",
       "      <th>price</th>\n",
       "      <th>year</th>\n",
       "      <th>mileage</th>\n",
       "      <th>auto</th>\n",
       "    </tr>\n",
       "  </thead>\n",
       "  <tbody>\n",
       "    <tr>\n",
       "      <th>0</th>\n",
       "      <td>250</td>\n",
       "      <td>2010</td>\n",
       "      <td>67.0</td>\n",
       "      <td>MT</td>\n",
       "    </tr>\n",
       "    <tr>\n",
       "      <th>1</th>\n",
       "      <td>365</td>\n",
       "      <td>2013</td>\n",
       "      <td>59.0</td>\n",
       "      <td>MT</td>\n",
       "    </tr>\n",
       "    <tr>\n",
       "      <th>2</th>\n",
       "      <td>365</td>\n",
       "      <td>2013</td>\n",
       "      <td>59.0</td>\n",
       "      <td>MT</td>\n",
       "    </tr>\n",
       "    <tr>\n",
       "      <th>3</th>\n",
       "      <td>250</td>\n",
       "      <td>2009</td>\n",
       "      <td>95.0</td>\n",
       "      <td>MT</td>\n",
       "    </tr>\n",
       "    <tr>\n",
       "      <th>4</th>\n",
       "      <td>310</td>\n",
       "      <td>2011</td>\n",
       "      <td>76.5</td>\n",
       "      <td>MT</td>\n",
       "    </tr>\n",
       "    <tr>\n",
       "      <th>5</th>\n",
       "      <td>125</td>\n",
       "      <td>2007</td>\n",
       "      <td>203.0</td>\n",
       "      <td>MT</td>\n",
       "    </tr>\n",
       "    <tr>\n",
       "      <th>6</th>\n",
       "      <td>150</td>\n",
       "      <td>2006</td>\n",
       "      <td>146.0</td>\n",
       "      <td>MT</td>\n",
       "    </tr>\n",
       "    <tr>\n",
       "      <th>7</th>\n",
       "      <td>225</td>\n",
       "      <td>2008</td>\n",
       "      <td>83.0</td>\n",
       "      <td>MT</td>\n",
       "    </tr>\n",
       "    <tr>\n",
       "      <th>8</th>\n",
       "      <td>269</td>\n",
       "      <td>2013</td>\n",
       "      <td>71.0</td>\n",
       "      <td>MT</td>\n",
       "    </tr>\n",
       "    <tr>\n",
       "      <th>9</th>\n",
       "      <td>250</td>\n",
       "      <td>2010</td>\n",
       "      <td>175.0</td>\n",
       "      <td>MT</td>\n",
       "    </tr>\n",
       "    <tr>\n",
       "      <th>10</th>\n",
       "      <td>410</td>\n",
       "      <td>2014</td>\n",
       "      <td>21.0</td>\n",
       "      <td>MT</td>\n",
       "    </tr>\n",
       "    <tr>\n",
       "      <th>11</th>\n",
       "      <td>219</td>\n",
       "      <td>2008</td>\n",
       "      <td>140.0</td>\n",
       "      <td>MT</td>\n",
       "    </tr>\n",
       "    <tr>\n",
       "      <th>12</th>\n",
       "      <td>165</td>\n",
       "      <td>2006</td>\n",
       "      <td>146.0</td>\n",
       "      <td>MT</td>\n",
       "    </tr>\n",
       "    <tr>\n",
       "      <th>13</th>\n",
       "      <td>250</td>\n",
       "      <td>2011</td>\n",
       "      <td>93.0</td>\n",
       "      <td>MT</td>\n",
       "    </tr>\n",
       "    <tr>\n",
       "      <th>14</th>\n",
       "      <td>250</td>\n",
       "      <td>2009</td>\n",
       "      <td>75.0</td>\n",
       "      <td>MT</td>\n",
       "    </tr>\n",
       "    <tr>\n",
       "      <th>15</th>\n",
       "      <td>159</td>\n",
       "      <td>2006</td>\n",
       "      <td>187.0</td>\n",
       "      <td>MT</td>\n",
       "    </tr>\n",
       "    <tr>\n",
       "      <th>16</th>\n",
       "      <td>495</td>\n",
       "      <td>2015</td>\n",
       "      <td>52.0</td>\n",
       "      <td>AT</td>\n",
       "    </tr>\n",
       "    <tr>\n",
       "      <th>17</th>\n",
       "      <td>180</td>\n",
       "      <td>2006</td>\n",
       "      <td>155.0</td>\n",
       "      <td>MT</td>\n",
       "    </tr>\n",
       "    <tr>\n",
       "      <th>18</th>\n",
       "      <td>145</td>\n",
       "      <td>2013</td>\n",
       "      <td>35.0</td>\n",
       "      <td>MT</td>\n",
       "    </tr>\n",
       "    <tr>\n",
       "      <th>19</th>\n",
       "      <td>217</td>\n",
       "      <td>2008</td>\n",
       "      <td>78.0</td>\n",
       "      <td>MT</td>\n",
       "    </tr>\n",
       "    <tr>\n",
       "      <th>20</th>\n",
       "      <td>275</td>\n",
       "      <td>2010</td>\n",
       "      <td>98.0</td>\n",
       "      <td>MT</td>\n",
       "    </tr>\n",
       "    <tr>\n",
       "      <th>21</th>\n",
       "      <td>170</td>\n",
       "      <td>2006</td>\n",
       "      <td>100.0</td>\n",
       "      <td>MT</td>\n",
       "    </tr>\n",
       "    <tr>\n",
       "      <th>22</th>\n",
       "      <td>169</td>\n",
       "      <td>2009</td>\n",
       "      <td>87.0</td>\n",
       "      <td>MT</td>\n",
       "    </tr>\n",
       "    <tr>\n",
       "      <th>23</th>\n",
       "      <td>335</td>\n",
       "      <td>2013</td>\n",
       "      <td>63.0</td>\n",
       "      <td>MT</td>\n",
       "    </tr>\n",
       "    <tr>\n",
       "      <th>24</th>\n",
       "      <td>235</td>\n",
       "      <td>2011</td>\n",
       "      <td>64.0</td>\n",
       "      <td>MT</td>\n",
       "    </tr>\n",
       "    <tr>\n",
       "      <th>25</th>\n",
       "      <td>150</td>\n",
       "      <td>2006</td>\n",
       "      <td>150.0</td>\n",
       "      <td>MT</td>\n",
       "    </tr>\n",
       "    <tr>\n",
       "      <th>26</th>\n",
       "      <td>240</td>\n",
       "      <td>2010</td>\n",
       "      <td>83.0</td>\n",
       "      <td>MT</td>\n",
       "    </tr>\n",
       "    <tr>\n",
       "      <th>27</th>\n",
       "      <td>145</td>\n",
       "      <td>2007</td>\n",
       "      <td>138.0</td>\n",
       "      <td>MT</td>\n",
       "    </tr>\n",
       "    <tr>\n",
       "      <th>28</th>\n",
       "      <td>140</td>\n",
       "      <td>2011</td>\n",
       "      <td>65.0</td>\n",
       "      <td>MT</td>\n",
       "    </tr>\n",
       "    <tr>\n",
       "      <th>29</th>\n",
       "      <td>215</td>\n",
       "      <td>2008</td>\n",
       "      <td>74.0</td>\n",
       "      <td>MT</td>\n",
       "    </tr>\n",
       "    <tr>\n",
       "      <th>30</th>\n",
       "      <td>190</td>\n",
       "      <td>2008</td>\n",
       "      <td>65.0</td>\n",
       "      <td>MT</td>\n",
       "    </tr>\n",
       "    <tr>\n",
       "      <th>31</th>\n",
       "      <td>277</td>\n",
       "      <td>2011</td>\n",
       "      <td>51.0</td>\n",
       "      <td>MT</td>\n",
       "    </tr>\n",
       "    <tr>\n",
       "      <th>32</th>\n",
       "      <td>175</td>\n",
       "      <td>2006</td>\n",
       "      <td>110.0</td>\n",
       "      <td>MT</td>\n",
       "    </tr>\n",
       "    <tr>\n",
       "      <th>33</th>\n",
       "      <td>249</td>\n",
       "      <td>2012</td>\n",
       "      <td>113.0</td>\n",
       "      <td>MT</td>\n",
       "    </tr>\n",
       "    <tr>\n",
       "      <th>34</th>\n",
       "      <td>419</td>\n",
       "      <td>2014</td>\n",
       "      <td>16.0</td>\n",
       "      <td>MT</td>\n",
       "    </tr>\n",
       "    <tr>\n",
       "      <th>35</th>\n",
       "      <td>289</td>\n",
       "      <td>2014</td>\n",
       "      <td>37.0</td>\n",
       "      <td>MT</td>\n",
       "    </tr>\n",
       "    <tr>\n",
       "      <th>36</th>\n",
       "      <td>215</td>\n",
       "      <td>2008</td>\n",
       "      <td>74.0</td>\n",
       "      <td>MT</td>\n",
       "    </tr>\n",
       "    <tr>\n",
       "      <th>37</th>\n",
       "      <td>190</td>\n",
       "      <td>2008</td>\n",
       "      <td>65.0</td>\n",
       "      <td>MT</td>\n",
       "    </tr>\n",
       "    <tr>\n",
       "      <th>38</th>\n",
       "      <td>277</td>\n",
       "      <td>2011</td>\n",
       "      <td>51.0</td>\n",
       "      <td>MT</td>\n",
       "    </tr>\n",
       "    <tr>\n",
       "      <th>39</th>\n",
       "      <td>175</td>\n",
       "      <td>2006</td>\n",
       "      <td>110.0</td>\n",
       "      <td>MT</td>\n",
       "    </tr>\n",
       "    <tr>\n",
       "      <th>40</th>\n",
       "      <td>399</td>\n",
       "      <td>2011</td>\n",
       "      <td>58.0</td>\n",
       "      <td>AT</td>\n",
       "    </tr>\n",
       "    <tr>\n",
       "      <th>41</th>\n",
       "      <td>350</td>\n",
       "      <td>2011</td>\n",
       "      <td>70.0</td>\n",
       "      <td>AT</td>\n",
       "    </tr>\n",
       "    <tr>\n",
       "      <th>42</th>\n",
       "      <td>365</td>\n",
       "      <td>2012</td>\n",
       "      <td>14.0</td>\n",
       "      <td>AT</td>\n",
       "    </tr>\n",
       "    <tr>\n",
       "      <th>43</th>\n",
       "      <td>379</td>\n",
       "      <td>2012</td>\n",
       "      <td>55.0</td>\n",
       "      <td>AT</td>\n",
       "    </tr>\n",
       "  </tbody>\n",
       "</table>\n",
       "</div>"
      ],
      "text/plain": [
       "    price  year  mileage auto\n",
       "0     250  2010     67.0   MT\n",
       "1     365  2013     59.0   MT\n",
       "2     365  2013     59.0   MT\n",
       "3     250  2009     95.0   MT\n",
       "4     310  2011     76.5   MT\n",
       "5     125  2007    203.0   MT\n",
       "6     150  2006    146.0   MT\n",
       "7     225  2008     83.0   MT\n",
       "8     269  2013     71.0   MT\n",
       "9     250  2010    175.0   MT\n",
       "10    410  2014     21.0   MT\n",
       "11    219  2008    140.0   MT\n",
       "12    165  2006    146.0   MT\n",
       "13    250  2011     93.0   MT\n",
       "14    250  2009     75.0   MT\n",
       "15    159  2006    187.0   MT\n",
       "16    495  2015     52.0   AT\n",
       "17    180  2006    155.0   MT\n",
       "18    145  2013     35.0   MT\n",
       "19    217  2008     78.0   MT\n",
       "20    275  2010     98.0   MT\n",
       "21    170  2006    100.0   MT\n",
       "22    169  2009     87.0   MT\n",
       "23    335  2013     63.0   MT\n",
       "24    235  2011     64.0   MT\n",
       "25    150  2006    150.0   MT\n",
       "26    240  2010     83.0   MT\n",
       "27    145  2007    138.0   MT\n",
       "28    140  2011     65.0   MT\n",
       "29    215  2008     74.0   MT\n",
       "30    190  2008     65.0   MT\n",
       "31    277  2011     51.0   MT\n",
       "32    175  2006    110.0   MT\n",
       "33    249  2012    113.0   MT\n",
       "34    419  2014     16.0   MT\n",
       "35    289  2014     37.0   MT\n",
       "36    215  2008     74.0   MT\n",
       "37    190  2008     65.0   MT\n",
       "38    277  2011     51.0   MT\n",
       "39    175  2006    110.0   MT\n",
       "40    399  2011     58.0   AT\n",
       "41    350  2011     70.0   AT\n",
       "42    365  2012     14.0   AT\n",
       "43    379  2012     55.0   AT"
      ]
     },
     "execution_count": 186,
     "metadata": {},
     "output_type": "execute_result"
    }
   ],
   "source": [
    "d = pd.read_csv(r\"../car_regr.txt\", sep=\"\\t\")\n",
    "d"
   ]
  },
  {
   "cell_type": "code",
   "execution_count": 187,
   "metadata": {},
   "outputs": [],
   "source": [
    "x = d['year'].values\n",
    "y = d['price'].values\n",
    "x_av = x.mean()\n",
    "y_av = y.mean()"
   ]
  },
  {
   "cell_type": "code",
   "execution_count": 188,
   "metadata": {
    "scrolled": true
   },
   "outputs": [
    {
     "data": {
      "text/plain": [
       "26.043399375317886"
      ]
     },
     "execution_count": 188,
     "metadata": {},
     "output_type": "execute_result"
    }
   ],
   "source": [
    "b1 = ((x*y).sum()/len(x)-x_av*y_av)/((x**2).sum()/len(x)-x_av**2)\n",
    "b1"
   ]
  },
  {
   "cell_type": "code",
   "execution_count": 189,
   "metadata": {},
   "outputs": [
    {
     "data": {
      "text/plain": [
       "-52090.269321789456"
      ]
     },
     "execution_count": 189,
     "metadata": {},
     "output_type": "execute_result"
    }
   ],
   "source": [
    "b0 = y_av - b1*x_av\n",
    "b0"
   ]
  },
  {
   "cell_type": "code",
   "execution_count": 190,
   "metadata": {},
   "outputs": [],
   "source": [
    "y_roof = b0 + b1*x"
   ]
  },
  {
   "cell_type": "code",
   "execution_count": 191,
   "metadata": {},
   "outputs": [],
   "source": [
    "e = y-y_roof"
   ]
  },
  {
   "cell_type": "code",
   "execution_count": 192,
   "metadata": {},
   "outputs": [
    {
     "data": {
      "text/plain": [
       "-6.963422599495971"
      ]
     },
     "execution_count": 192,
     "metadata": {},
     "output_type": "execute_result"
    }
   ],
   "source": [
    "e[0]"
   ]
  },
  {
   "cell_type": "code",
   "execution_count": 193,
   "metadata": {},
   "outputs": [
    {
     "data": {
      "text/plain": [
       "132015.31925393714"
      ]
     },
     "execution_count": 193,
     "metadata": {},
     "output_type": "execute_result"
    }
   ],
   "source": [
    "RSS = (e**2).sum()\n",
    "RSS"
   ]
  },
  {
   "cell_type": "code",
   "execution_count": 194,
   "metadata": {},
   "outputs": [
    {
     "data": {
      "text/plain": [
       "56.04928125537903"
      ]
     },
     "execution_count": 194,
     "metadata": {},
     "output_type": "execute_result"
    }
   ],
   "source": [
    "n = len(e)\n",
    "s = np.var(e)**(1/2)*n/(n-1)\n",
    "s"
   ]
  },
  {
   "cell_type": "code",
   "execution_count": 195,
   "metadata": {},
   "outputs": [
    {
     "data": {
      "text/plain": [
       "6.318793593366474"
      ]
     },
     "execution_count": 195,
     "metadata": {},
     "output_type": "execute_result"
    }
   ],
   "source": [
    "alph = 0.05\n",
    "stu = t(n-2).ppf(1-alph/2)\n",
    "S = (RSS/(n-1))**(1/2)\n",
    "stu*S*(1/(n*np.var(x)))**(1/2)"
   ]
  },
  {
   "cell_type": "code",
   "execution_count": 196,
   "metadata": {},
   "outputs": [
    {
     "data": {
      "text/plain": [
       "309.0502213501313"
      ]
     },
     "execution_count": 196,
     "metadata": {},
     "output_type": "execute_result"
    }
   ],
   "source": [
    "b0 + 2012*b1"
   ]
  },
  {
   "cell_type": "code",
   "execution_count": 197,
   "metadata": {},
   "outputs": [
    {
     "data": {
      "text/plain": [
       "1.7379349655310612"
      ]
     },
     "execution_count": 197,
     "metadata": {},
     "output_type": "execute_result"
    }
   ],
   "source": [
    "val = (b0 + 2012*b1 - 290)/(s*((1+((2012-x.mean())**2)/np.var(x))/(n))**(1/2))\n",
    "val"
   ]
  },
  {
   "cell_type": "code",
   "execution_count": 198,
   "metadata": {},
   "outputs": [
    {
     "data": {
      "text/plain": [
       "0.04477512339206613"
      ]
     },
     "execution_count": 198,
     "metadata": {},
     "output_type": "execute_result"
    }
   ],
   "source": [
    "prob = 1 - t(n-2).cdf(val)\n",
    "prob"
   ]
  },
  {
   "cell_type": "code",
   "execution_count": 199,
   "metadata": {},
   "outputs": [
    {
     "data": {
      "text/plain": [
       "'0.045'"
      ]
     },
     "execution_count": 199,
     "metadata": {},
     "output_type": "execute_result"
    }
   ],
   "source": [
    "f\"{prob:.3f}\""
   ]
  },
  {
   "cell_type": "markdown",
   "metadata": {},
   "source": [
    "### 7.2.1"
   ]
  },
  {
   "cell_type": "code",
   "execution_count": 200,
   "metadata": {},
   "outputs": [
    {
     "data": {
      "text/html": [
       "<div>\n",
       "<style scoped>\n",
       "    .dataframe tbody tr th:only-of-type {\n",
       "        vertical-align: middle;\n",
       "    }\n",
       "\n",
       "    .dataframe tbody tr th {\n",
       "        vertical-align: top;\n",
       "    }\n",
       "\n",
       "    .dataframe thead th {\n",
       "        text-align: right;\n",
       "    }\n",
       "</style>\n",
       "<table border=\"1\" class=\"dataframe\">\n",
       "  <thead>\n",
       "    <tr style=\"text-align: right;\">\n",
       "      <th></th>\n",
       "      <th>price</th>\n",
       "      <th>year</th>\n",
       "      <th>mileage</th>\n",
       "      <th>auto</th>\n",
       "    </tr>\n",
       "  </thead>\n",
       "  <tbody>\n",
       "    <tr>\n",
       "      <th>0</th>\n",
       "      <td>250</td>\n",
       "      <td>2010</td>\n",
       "      <td>67.0</td>\n",
       "      <td>MT</td>\n",
       "    </tr>\n",
       "    <tr>\n",
       "      <th>1</th>\n",
       "      <td>365</td>\n",
       "      <td>2013</td>\n",
       "      <td>59.0</td>\n",
       "      <td>MT</td>\n",
       "    </tr>\n",
       "    <tr>\n",
       "      <th>2</th>\n",
       "      <td>365</td>\n",
       "      <td>2013</td>\n",
       "      <td>59.0</td>\n",
       "      <td>MT</td>\n",
       "    </tr>\n",
       "    <tr>\n",
       "      <th>3</th>\n",
       "      <td>250</td>\n",
       "      <td>2009</td>\n",
       "      <td>95.0</td>\n",
       "      <td>MT</td>\n",
       "    </tr>\n",
       "    <tr>\n",
       "      <th>4</th>\n",
       "      <td>310</td>\n",
       "      <td>2011</td>\n",
       "      <td>76.5</td>\n",
       "      <td>MT</td>\n",
       "    </tr>\n",
       "    <tr>\n",
       "      <th>5</th>\n",
       "      <td>125</td>\n",
       "      <td>2007</td>\n",
       "      <td>203.0</td>\n",
       "      <td>MT</td>\n",
       "    </tr>\n",
       "    <tr>\n",
       "      <th>6</th>\n",
       "      <td>150</td>\n",
       "      <td>2006</td>\n",
       "      <td>146.0</td>\n",
       "      <td>MT</td>\n",
       "    </tr>\n",
       "    <tr>\n",
       "      <th>7</th>\n",
       "      <td>225</td>\n",
       "      <td>2008</td>\n",
       "      <td>83.0</td>\n",
       "      <td>MT</td>\n",
       "    </tr>\n",
       "    <tr>\n",
       "      <th>8</th>\n",
       "      <td>269</td>\n",
       "      <td>2013</td>\n",
       "      <td>71.0</td>\n",
       "      <td>MT</td>\n",
       "    </tr>\n",
       "    <tr>\n",
       "      <th>9</th>\n",
       "      <td>250</td>\n",
       "      <td>2010</td>\n",
       "      <td>175.0</td>\n",
       "      <td>MT</td>\n",
       "    </tr>\n",
       "    <tr>\n",
       "      <th>10</th>\n",
       "      <td>410</td>\n",
       "      <td>2014</td>\n",
       "      <td>21.0</td>\n",
       "      <td>MT</td>\n",
       "    </tr>\n",
       "    <tr>\n",
       "      <th>11</th>\n",
       "      <td>219</td>\n",
       "      <td>2008</td>\n",
       "      <td>140.0</td>\n",
       "      <td>MT</td>\n",
       "    </tr>\n",
       "    <tr>\n",
       "      <th>12</th>\n",
       "      <td>165</td>\n",
       "      <td>2006</td>\n",
       "      <td>146.0</td>\n",
       "      <td>MT</td>\n",
       "    </tr>\n",
       "    <tr>\n",
       "      <th>13</th>\n",
       "      <td>250</td>\n",
       "      <td>2011</td>\n",
       "      <td>93.0</td>\n",
       "      <td>MT</td>\n",
       "    </tr>\n",
       "    <tr>\n",
       "      <th>14</th>\n",
       "      <td>250</td>\n",
       "      <td>2009</td>\n",
       "      <td>75.0</td>\n",
       "      <td>MT</td>\n",
       "    </tr>\n",
       "    <tr>\n",
       "      <th>15</th>\n",
       "      <td>159</td>\n",
       "      <td>2006</td>\n",
       "      <td>187.0</td>\n",
       "      <td>MT</td>\n",
       "    </tr>\n",
       "    <tr>\n",
       "      <th>16</th>\n",
       "      <td>495</td>\n",
       "      <td>2015</td>\n",
       "      <td>52.0</td>\n",
       "      <td>AT</td>\n",
       "    </tr>\n",
       "    <tr>\n",
       "      <th>17</th>\n",
       "      <td>180</td>\n",
       "      <td>2006</td>\n",
       "      <td>155.0</td>\n",
       "      <td>MT</td>\n",
       "    </tr>\n",
       "    <tr>\n",
       "      <th>18</th>\n",
       "      <td>145</td>\n",
       "      <td>2013</td>\n",
       "      <td>35.0</td>\n",
       "      <td>MT</td>\n",
       "    </tr>\n",
       "    <tr>\n",
       "      <th>19</th>\n",
       "      <td>217</td>\n",
       "      <td>2008</td>\n",
       "      <td>78.0</td>\n",
       "      <td>MT</td>\n",
       "    </tr>\n",
       "    <tr>\n",
       "      <th>20</th>\n",
       "      <td>275</td>\n",
       "      <td>2010</td>\n",
       "      <td>98.0</td>\n",
       "      <td>MT</td>\n",
       "    </tr>\n",
       "    <tr>\n",
       "      <th>21</th>\n",
       "      <td>170</td>\n",
       "      <td>2006</td>\n",
       "      <td>100.0</td>\n",
       "      <td>MT</td>\n",
       "    </tr>\n",
       "    <tr>\n",
       "      <th>22</th>\n",
       "      <td>169</td>\n",
       "      <td>2009</td>\n",
       "      <td>87.0</td>\n",
       "      <td>MT</td>\n",
       "    </tr>\n",
       "    <tr>\n",
       "      <th>23</th>\n",
       "      <td>335</td>\n",
       "      <td>2013</td>\n",
       "      <td>63.0</td>\n",
       "      <td>MT</td>\n",
       "    </tr>\n",
       "    <tr>\n",
       "      <th>24</th>\n",
       "      <td>235</td>\n",
       "      <td>2011</td>\n",
       "      <td>64.0</td>\n",
       "      <td>MT</td>\n",
       "    </tr>\n",
       "    <tr>\n",
       "      <th>25</th>\n",
       "      <td>150</td>\n",
       "      <td>2006</td>\n",
       "      <td>150.0</td>\n",
       "      <td>MT</td>\n",
       "    </tr>\n",
       "    <tr>\n",
       "      <th>26</th>\n",
       "      <td>240</td>\n",
       "      <td>2010</td>\n",
       "      <td>83.0</td>\n",
       "      <td>MT</td>\n",
       "    </tr>\n",
       "    <tr>\n",
       "      <th>27</th>\n",
       "      <td>145</td>\n",
       "      <td>2007</td>\n",
       "      <td>138.0</td>\n",
       "      <td>MT</td>\n",
       "    </tr>\n",
       "    <tr>\n",
       "      <th>28</th>\n",
       "      <td>140</td>\n",
       "      <td>2011</td>\n",
       "      <td>65.0</td>\n",
       "      <td>MT</td>\n",
       "    </tr>\n",
       "    <tr>\n",
       "      <th>29</th>\n",
       "      <td>215</td>\n",
       "      <td>2008</td>\n",
       "      <td>74.0</td>\n",
       "      <td>MT</td>\n",
       "    </tr>\n",
       "    <tr>\n",
       "      <th>30</th>\n",
       "      <td>190</td>\n",
       "      <td>2008</td>\n",
       "      <td>65.0</td>\n",
       "      <td>MT</td>\n",
       "    </tr>\n",
       "    <tr>\n",
       "      <th>31</th>\n",
       "      <td>277</td>\n",
       "      <td>2011</td>\n",
       "      <td>51.0</td>\n",
       "      <td>MT</td>\n",
       "    </tr>\n",
       "    <tr>\n",
       "      <th>32</th>\n",
       "      <td>175</td>\n",
       "      <td>2006</td>\n",
       "      <td>110.0</td>\n",
       "      <td>MT</td>\n",
       "    </tr>\n",
       "    <tr>\n",
       "      <th>33</th>\n",
       "      <td>249</td>\n",
       "      <td>2012</td>\n",
       "      <td>113.0</td>\n",
       "      <td>MT</td>\n",
       "    </tr>\n",
       "    <tr>\n",
       "      <th>34</th>\n",
       "      <td>419</td>\n",
       "      <td>2014</td>\n",
       "      <td>16.0</td>\n",
       "      <td>MT</td>\n",
       "    </tr>\n",
       "    <tr>\n",
       "      <th>35</th>\n",
       "      <td>289</td>\n",
       "      <td>2014</td>\n",
       "      <td>37.0</td>\n",
       "      <td>MT</td>\n",
       "    </tr>\n",
       "    <tr>\n",
       "      <th>36</th>\n",
       "      <td>215</td>\n",
       "      <td>2008</td>\n",
       "      <td>74.0</td>\n",
       "      <td>MT</td>\n",
       "    </tr>\n",
       "    <tr>\n",
       "      <th>37</th>\n",
       "      <td>190</td>\n",
       "      <td>2008</td>\n",
       "      <td>65.0</td>\n",
       "      <td>MT</td>\n",
       "    </tr>\n",
       "    <tr>\n",
       "      <th>38</th>\n",
       "      <td>277</td>\n",
       "      <td>2011</td>\n",
       "      <td>51.0</td>\n",
       "      <td>MT</td>\n",
       "    </tr>\n",
       "    <tr>\n",
       "      <th>39</th>\n",
       "      <td>175</td>\n",
       "      <td>2006</td>\n",
       "      <td>110.0</td>\n",
       "      <td>MT</td>\n",
       "    </tr>\n",
       "    <tr>\n",
       "      <th>40</th>\n",
       "      <td>399</td>\n",
       "      <td>2011</td>\n",
       "      <td>58.0</td>\n",
       "      <td>AT</td>\n",
       "    </tr>\n",
       "    <tr>\n",
       "      <th>41</th>\n",
       "      <td>350</td>\n",
       "      <td>2011</td>\n",
       "      <td>70.0</td>\n",
       "      <td>AT</td>\n",
       "    </tr>\n",
       "    <tr>\n",
       "      <th>42</th>\n",
       "      <td>365</td>\n",
       "      <td>2012</td>\n",
       "      <td>14.0</td>\n",
       "      <td>AT</td>\n",
       "    </tr>\n",
       "    <tr>\n",
       "      <th>43</th>\n",
       "      <td>379</td>\n",
       "      <td>2012</td>\n",
       "      <td>55.0</td>\n",
       "      <td>AT</td>\n",
       "    </tr>\n",
       "  </tbody>\n",
       "</table>\n",
       "</div>"
      ],
      "text/plain": [
       "    price  year  mileage auto\n",
       "0     250  2010     67.0   MT\n",
       "1     365  2013     59.0   MT\n",
       "2     365  2013     59.0   MT\n",
       "3     250  2009     95.0   MT\n",
       "4     310  2011     76.5   MT\n",
       "5     125  2007    203.0   MT\n",
       "6     150  2006    146.0   MT\n",
       "7     225  2008     83.0   MT\n",
       "8     269  2013     71.0   MT\n",
       "9     250  2010    175.0   MT\n",
       "10    410  2014     21.0   MT\n",
       "11    219  2008    140.0   MT\n",
       "12    165  2006    146.0   MT\n",
       "13    250  2011     93.0   MT\n",
       "14    250  2009     75.0   MT\n",
       "15    159  2006    187.0   MT\n",
       "16    495  2015     52.0   AT\n",
       "17    180  2006    155.0   MT\n",
       "18    145  2013     35.0   MT\n",
       "19    217  2008     78.0   MT\n",
       "20    275  2010     98.0   MT\n",
       "21    170  2006    100.0   MT\n",
       "22    169  2009     87.0   MT\n",
       "23    335  2013     63.0   MT\n",
       "24    235  2011     64.0   MT\n",
       "25    150  2006    150.0   MT\n",
       "26    240  2010     83.0   MT\n",
       "27    145  2007    138.0   MT\n",
       "28    140  2011     65.0   MT\n",
       "29    215  2008     74.0   MT\n",
       "30    190  2008     65.0   MT\n",
       "31    277  2011     51.0   MT\n",
       "32    175  2006    110.0   MT\n",
       "33    249  2012    113.0   MT\n",
       "34    419  2014     16.0   MT\n",
       "35    289  2014     37.0   MT\n",
       "36    215  2008     74.0   MT\n",
       "37    190  2008     65.0   MT\n",
       "38    277  2011     51.0   MT\n",
       "39    175  2006    110.0   MT\n",
       "40    399  2011     58.0   AT\n",
       "41    350  2011     70.0   AT\n",
       "42    365  2012     14.0   AT\n",
       "43    379  2012     55.0   AT"
      ]
     },
     "execution_count": 200,
     "metadata": {},
     "output_type": "execute_result"
    }
   ],
   "source": [
    "d = pd.read_csv(r\"../car_regr2.txt\", sep=\"\\t\")\n",
    "d"
   ]
  },
  {
   "cell_type": "code",
   "execution_count": 201,
   "metadata": {},
   "outputs": [
    {
     "data": {
      "text/plain": [
       "0     1\n",
       "1     1\n",
       "2     1\n",
       "3     1\n",
       "4     1\n",
       "5     1\n",
       "6     1\n",
       "7     1\n",
       "8     1\n",
       "9     1\n",
       "10    1\n",
       "11    1\n",
       "12    1\n",
       "13    1\n",
       "14    1\n",
       "15    1\n",
       "16    0\n",
       "17    1\n",
       "18    1\n",
       "19    1\n",
       "20    1\n",
       "21    1\n",
       "22    1\n",
       "23    1\n",
       "24    1\n",
       "25    1\n",
       "26    1\n",
       "27    1\n",
       "28    1\n",
       "29    1\n",
       "30    1\n",
       "31    1\n",
       "32    1\n",
       "33    1\n",
       "34    1\n",
       "35    1\n",
       "36    1\n",
       "37    1\n",
       "38    1\n",
       "39    1\n",
       "40    0\n",
       "41    0\n",
       "42    0\n",
       "43    0\n",
       "Name: auto, dtype: int32"
      ]
     },
     "execution_count": 201,
     "metadata": {},
     "output_type": "execute_result"
    }
   ],
   "source": [
    "d['auto'] = (d[\"auto\"] == 'MT').astype(int)\n",
    "Y = d.price.values\n",
    "d['auto']"
   ]
  },
  {
   "cell_type": "code",
   "execution_count": 202,
   "metadata": {},
   "outputs": [
    {
     "data": {
      "text/plain": [
       "array([[1.000e+00, 2.010e+03, 6.700e+01, 1.000e+00],\n",
       "       [1.000e+00, 2.013e+03, 5.900e+01, 1.000e+00],\n",
       "       [1.000e+00, 2.013e+03, 5.900e+01, 1.000e+00],\n",
       "       [1.000e+00, 2.009e+03, 9.500e+01, 1.000e+00],\n",
       "       [1.000e+00, 2.011e+03, 7.650e+01, 1.000e+00]])"
      ]
     },
     "execution_count": 202,
     "metadata": {},
     "output_type": "execute_result"
    }
   ],
   "source": [
    "X = d[['year', 'mileage', 'auto']].values\n",
    "tX = np.ones((len(d), len(d.columns)))\n",
    "tX[:, 1:] = X\n",
    "tX[:5]"
   ]
  },
  {
   "cell_type": "code",
   "execution_count": 203,
   "metadata": {},
   "outputs": [
    {
     "data": {
      "text/plain": [
       "('', 'year', 'melleage', 'auto')"
      ]
     },
     "execution_count": 203,
     "metadata": {},
     "output_type": "execute_result"
    }
   ],
   "source": [
    "beta = np.linalg.inv((tX.transpose() @ tX)) @ tX.transpose() @ Y\n",
    "beta[1]\n",
    "beta[3]\n",
    "beta\n",
    "\"\", \"year\", \"melleage\", \"auto\""
   ]
  },
  {
   "cell_type": "code",
   "execution_count": 204,
   "metadata": {},
   "outputs": [
    {
     "data": {
      "text/plain": [
       "0.006929534902874858"
      ]
     },
     "execution_count": 204,
     "metadata": {},
     "output_type": "execute_result"
    }
   ],
   "source": [
    "np.linalg.inv((tX.transpose() @ tX))[1,1]"
   ]
  },
  {
   "cell_type": "code",
   "execution_count": 205,
   "metadata": {},
   "outputs": [],
   "source": [
    "def y_hat(params) -> float:\n",
    "    return beta[0] + beta[1] * params[0] + beta[2] * params[1] + beta[3] * params[2]"
   ]
  },
  {
   "cell_type": "code",
   "execution_count": 206,
   "metadata": {},
   "outputs": [
    {
     "name": "stdout",
     "output_type": "stream",
     "text": [
      "RSS = 87587.49036165551\n",
      "S2 = 2189.6872590413877\n",
      "0.745694347785934\n"
     ]
    }
   ],
   "source": [
    "def y_hat(params) -> float:\n",
    "    return beta[0] + beta[1] * params[0] + beta[2] * params[1] + beta[3] * params[2]\n",
    "Y_hat = np.array([y_hat(x) for x in X])\n",
    "RSS = sum((Y - Y_hat)**2)\n",
    "print(f\"RSS = {RSS}\")\n",
    "\n",
    "S2 = RSS / (len(d) - X.shape[1] - 1)\n",
    "print(f\"S2 = {S2}\")\n",
    "mY = Y.mean()\n",
    "R2 = RSS / sum((Y - mY)**2)\n",
    "R2 = 1 - R2\n",
    "print(R2)"
   ]
  },
  {
   "cell_type": "code",
   "execution_count": 207,
   "metadata": {},
   "outputs": [],
   "source": [
    "S = (RSS / (len(d) - X.shape[1] - 1))**(1/2)"
   ]
  },
  {
   "cell_type": "code",
   "execution_count": 208,
   "metadata": {},
   "outputs": [
    {
     "data": {
      "text/plain": [
       "0.4725279289759954"
      ]
     },
     "execution_count": 208,
     "metadata": {},
     "output_type": "execute_result"
    }
   ],
   "source": [
    "k = 3\n",
    "j = 2\n",
    "t(n-k-1).ppf(1-0.05/2)*S*(np.linalg.inv((tX.transpose() @ tX))[j,j])**(1/2)"
   ]
  },
  {
   "cell_type": "code",
   "execution_count": 209,
   "metadata": {},
   "outputs": [],
   "source": [
    "i = 2\n",
    "e = Y - Y_hat\n",
    "h = (tX @ np.linalg.inv((tX.transpose() @ tX)) @ tX.transpose())\n",
    "d = [e[i] / (S*(1-h[i,i])**(1/2)) for i in range(len(e))]"
   ]
  },
  {
   "cell_type": "code",
   "execution_count": 210,
   "metadata": {},
   "outputs": [
    {
     "data": {
      "text/plain": [
       "1.2373635094714164"
      ]
     },
     "execution_count": 210,
     "metadata": {},
     "output_type": "execute_result"
    }
   ],
   "source": [
    "d[1]"
   ]
  },
  {
   "cell_type": "code",
   "execution_count": null,
   "metadata": {},
   "outputs": [],
   "source": []
  },
  {
   "cell_type": "code",
   "execution_count": 211,
   "metadata": {},
   "outputs": [
    {
     "data": {
      "text/html": [
       "<div>\n",
       "<style scoped>\n",
       "    .dataframe tbody tr th:only-of-type {\n",
       "        vertical-align: middle;\n",
       "    }\n",
       "\n",
       "    .dataframe tbody tr th {\n",
       "        vertical-align: top;\n",
       "    }\n",
       "\n",
       "    .dataframe thead th {\n",
       "        text-align: right;\n",
       "    }\n",
       "</style>\n",
       "<table border=\"1\" class=\"dataframe\">\n",
       "  <thead>\n",
       "    <tr style=\"text-align: right;\">\n",
       "      <th></th>\n",
       "      <th>X</th>\n",
       "      <th>Y</th>\n",
       "    </tr>\n",
       "  </thead>\n",
       "  <tbody>\n",
       "    <tr>\n",
       "      <th>0</th>\n",
       "      <td>1.0</td>\n",
       "      <td>4.7</td>\n",
       "    </tr>\n",
       "    <tr>\n",
       "      <th>1</th>\n",
       "      <td>1.5</td>\n",
       "      <td>8.9</td>\n",
       "    </tr>\n",
       "    <tr>\n",
       "      <th>2</th>\n",
       "      <td>2.0</td>\n",
       "      <td>6.2</td>\n",
       "    </tr>\n",
       "    <tr>\n",
       "      <th>3</th>\n",
       "      <td>2.5</td>\n",
       "      <td>7.8</td>\n",
       "    </tr>\n",
       "    <tr>\n",
       "      <th>4</th>\n",
       "      <td>3.0</td>\n",
       "      <td>8.1</td>\n",
       "    </tr>\n",
       "    <tr>\n",
       "      <th>5</th>\n",
       "      <td>3.5</td>\n",
       "      <td>11.7</td>\n",
       "    </tr>\n",
       "    <tr>\n",
       "      <th>6</th>\n",
       "      <td>4.0</td>\n",
       "      <td>7.2</td>\n",
       "    </tr>\n",
       "    <tr>\n",
       "      <th>7</th>\n",
       "      <td>4.5</td>\n",
       "      <td>15.8</td>\n",
       "    </tr>\n",
       "    <tr>\n",
       "      <th>8</th>\n",
       "      <td>5.0</td>\n",
       "      <td>1.1</td>\n",
       "    </tr>\n",
       "    <tr>\n",
       "      <th>9</th>\n",
       "      <td>5.5</td>\n",
       "      <td>6.8</td>\n",
       "    </tr>\n",
       "    <tr>\n",
       "      <th>10</th>\n",
       "      <td>6.0</td>\n",
       "      <td>9.1</td>\n",
       "    </tr>\n",
       "    <tr>\n",
       "      <th>11</th>\n",
       "      <td>6.5</td>\n",
       "      <td>4.6</td>\n",
       "    </tr>\n",
       "    <tr>\n",
       "      <th>12</th>\n",
       "      <td>7.0</td>\n",
       "      <td>21.5</td>\n",
       "    </tr>\n",
       "    <tr>\n",
       "      <th>13</th>\n",
       "      <td>7.5</td>\n",
       "      <td>7.6</td>\n",
       "    </tr>\n",
       "    <tr>\n",
       "      <th>14</th>\n",
       "      <td>8.0</td>\n",
       "      <td>6.2</td>\n",
       "    </tr>\n",
       "    <tr>\n",
       "      <th>15</th>\n",
       "      <td>8.5</td>\n",
       "      <td>13.6</td>\n",
       "    </tr>\n",
       "    <tr>\n",
       "      <th>16</th>\n",
       "      <td>9.0</td>\n",
       "      <td>30.1</td>\n",
       "    </tr>\n",
       "    <tr>\n",
       "      <th>17</th>\n",
       "      <td>9.5</td>\n",
       "      <td>25.5</td>\n",
       "    </tr>\n",
       "    <tr>\n",
       "      <th>18</th>\n",
       "      <td>10.0</td>\n",
       "      <td>-0.1</td>\n",
       "    </tr>\n",
       "  </tbody>\n",
       "</table>\n",
       "</div>"
      ],
      "text/plain": [
       "       X     Y\n",
       "0    1.0   4.7\n",
       "1    1.5   8.9\n",
       "2    2.0   6.2\n",
       "3    2.5   7.8\n",
       "4    3.0   8.1\n",
       "5    3.5  11.7\n",
       "6    4.0   7.2\n",
       "7    4.5  15.8\n",
       "8    5.0   1.1\n",
       "9    5.5   6.8\n",
       "10   6.0   9.1\n",
       "11   6.5   4.6\n",
       "12   7.0  21.5\n",
       "13   7.5   7.6\n",
       "14   8.0   6.2\n",
       "15   8.5  13.6\n",
       "16   9.0  30.1\n",
       "17   9.5  25.5\n",
       "18  10.0  -0.1"
      ]
     },
     "execution_count": 211,
     "metadata": {},
     "output_type": "execute_result"
    }
   ],
   "source": [
    "d = pd.read_csv(\"../7_2.txt\", sep=\"\\t\")\n",
    "d"
   ]
  },
  {
   "cell_type": "code",
   "execution_count": 212,
   "metadata": {},
   "outputs": [
    {
     "ename": "KeyError",
     "evalue": "'Y^'",
     "output_type": "error",
     "traceback": [
      "\u001b[1;31m---------------------------------------------------------------------------\u001b[0m",
      "\u001b[1;31mKeyError\u001b[0m                                  Traceback (most recent call last)",
      "\u001b[1;32m~\\AppData\\Local\\Continuum\\miniconda3\\envs\\ml\\lib\\site-packages\\pandas\\core\\indexes\\base.py\u001b[0m in \u001b[0;36mget_loc\u001b[1;34m(self, key, method, tolerance)\u001b[0m\n\u001b[0;32m   2656\u001b[0m             \u001b[1;32mtry\u001b[0m\u001b[1;33m:\u001b[0m\u001b[1;33m\u001b[0m\u001b[1;33m\u001b[0m\u001b[0m\n\u001b[1;32m-> 2657\u001b[1;33m                 \u001b[1;32mreturn\u001b[0m \u001b[0mself\u001b[0m\u001b[1;33m.\u001b[0m\u001b[0m_engine\u001b[0m\u001b[1;33m.\u001b[0m\u001b[0mget_loc\u001b[0m\u001b[1;33m(\u001b[0m\u001b[0mkey\u001b[0m\u001b[1;33m)\u001b[0m\u001b[1;33m\u001b[0m\u001b[1;33m\u001b[0m\u001b[0m\n\u001b[0m\u001b[0;32m   2658\u001b[0m             \u001b[1;32mexcept\u001b[0m \u001b[0mKeyError\u001b[0m\u001b[1;33m:\u001b[0m\u001b[1;33m\u001b[0m\u001b[1;33m\u001b[0m\u001b[0m\n",
      "\u001b[1;32mpandas/_libs/index.pyx\u001b[0m in \u001b[0;36mpandas._libs.index.IndexEngine.get_loc\u001b[1;34m()\u001b[0m\n",
      "\u001b[1;32mpandas/_libs/index.pyx\u001b[0m in \u001b[0;36mpandas._libs.index.IndexEngine.get_loc\u001b[1;34m()\u001b[0m\n",
      "\u001b[1;32mpandas/_libs/hashtable_class_helper.pxi\u001b[0m in \u001b[0;36mpandas._libs.hashtable.PyObjectHashTable.get_item\u001b[1;34m()\u001b[0m\n",
      "\u001b[1;32mpandas/_libs/hashtable_class_helper.pxi\u001b[0m in \u001b[0;36mpandas._libs.hashtable.PyObjectHashTable.get_item\u001b[1;34m()\u001b[0m\n",
      "\u001b[1;31mKeyError\u001b[0m: 'Y^'",
      "\nDuring handling of the above exception, another exception occurred:\n",
      "\u001b[1;31mKeyError\u001b[0m                                  Traceback (most recent call last)",
      "\u001b[1;32m<ipython-input-212-9ada6143cf58>\u001b[0m in \u001b[0;36m<module>\u001b[1;34m\u001b[0m\n\u001b[0;32m      1\u001b[0m \u001b[0mplt\u001b[0m\u001b[1;33m.\u001b[0m\u001b[0mplot\u001b[0m\u001b[1;33m(\u001b[0m\u001b[0md\u001b[0m\u001b[1;33m.\u001b[0m\u001b[0mX\u001b[0m\u001b[1;33m,\u001b[0m \u001b[0md\u001b[0m\u001b[1;33m.\u001b[0m\u001b[0mY\u001b[0m\u001b[1;33m)\u001b[0m\u001b[1;33m\u001b[0m\u001b[1;33m\u001b[0m\u001b[0m\n\u001b[1;32m----> 2\u001b[1;33m \u001b[0mplt\u001b[0m\u001b[1;33m.\u001b[0m\u001b[0mplot\u001b[0m\u001b[1;33m(\u001b[0m\u001b[0md\u001b[0m\u001b[1;33m[\u001b[0m\u001b[1;34m\"Y^\"\u001b[0m\u001b[1;33m]\u001b[0m\u001b[1;33m)\u001b[0m\u001b[1;33m\u001b[0m\u001b[1;33m\u001b[0m\u001b[0m\n\u001b[0m\u001b[0;32m      3\u001b[0m \u001b[0mplt\u001b[0m\u001b[1;33m.\u001b[0m\u001b[0mshow\u001b[0m\u001b[1;33m(\u001b[0m\u001b[1;33m)\u001b[0m\u001b[1;33m\u001b[0m\u001b[1;33m\u001b[0m\u001b[0m\n",
      "\u001b[1;32m~\\AppData\\Local\\Continuum\\miniconda3\\envs\\ml\\lib\\site-packages\\pandas\\core\\frame.py\u001b[0m in \u001b[0;36m__getitem__\u001b[1;34m(self, key)\u001b[0m\n\u001b[0;32m   2925\u001b[0m             \u001b[1;32mif\u001b[0m \u001b[0mself\u001b[0m\u001b[1;33m.\u001b[0m\u001b[0mcolumns\u001b[0m\u001b[1;33m.\u001b[0m\u001b[0mnlevels\u001b[0m \u001b[1;33m>\u001b[0m \u001b[1;36m1\u001b[0m\u001b[1;33m:\u001b[0m\u001b[1;33m\u001b[0m\u001b[1;33m\u001b[0m\u001b[0m\n\u001b[0;32m   2926\u001b[0m                 \u001b[1;32mreturn\u001b[0m \u001b[0mself\u001b[0m\u001b[1;33m.\u001b[0m\u001b[0m_getitem_multilevel\u001b[0m\u001b[1;33m(\u001b[0m\u001b[0mkey\u001b[0m\u001b[1;33m)\u001b[0m\u001b[1;33m\u001b[0m\u001b[1;33m\u001b[0m\u001b[0m\n\u001b[1;32m-> 2927\u001b[1;33m             \u001b[0mindexer\u001b[0m \u001b[1;33m=\u001b[0m \u001b[0mself\u001b[0m\u001b[1;33m.\u001b[0m\u001b[0mcolumns\u001b[0m\u001b[1;33m.\u001b[0m\u001b[0mget_loc\u001b[0m\u001b[1;33m(\u001b[0m\u001b[0mkey\u001b[0m\u001b[1;33m)\u001b[0m\u001b[1;33m\u001b[0m\u001b[1;33m\u001b[0m\u001b[0m\n\u001b[0m\u001b[0;32m   2928\u001b[0m             \u001b[1;32mif\u001b[0m \u001b[0mis_integer\u001b[0m\u001b[1;33m(\u001b[0m\u001b[0mindexer\u001b[0m\u001b[1;33m)\u001b[0m\u001b[1;33m:\u001b[0m\u001b[1;33m\u001b[0m\u001b[1;33m\u001b[0m\u001b[0m\n\u001b[0;32m   2929\u001b[0m                 \u001b[0mindexer\u001b[0m \u001b[1;33m=\u001b[0m \u001b[1;33m[\u001b[0m\u001b[0mindexer\u001b[0m\u001b[1;33m]\u001b[0m\u001b[1;33m\u001b[0m\u001b[1;33m\u001b[0m\u001b[0m\n",
      "\u001b[1;32m~\\AppData\\Local\\Continuum\\miniconda3\\envs\\ml\\lib\\site-packages\\pandas\\core\\indexes\\base.py\u001b[0m in \u001b[0;36mget_loc\u001b[1;34m(self, key, method, tolerance)\u001b[0m\n\u001b[0;32m   2657\u001b[0m                 \u001b[1;32mreturn\u001b[0m \u001b[0mself\u001b[0m\u001b[1;33m.\u001b[0m\u001b[0m_engine\u001b[0m\u001b[1;33m.\u001b[0m\u001b[0mget_loc\u001b[0m\u001b[1;33m(\u001b[0m\u001b[0mkey\u001b[0m\u001b[1;33m)\u001b[0m\u001b[1;33m\u001b[0m\u001b[1;33m\u001b[0m\u001b[0m\n\u001b[0;32m   2658\u001b[0m             \u001b[1;32mexcept\u001b[0m \u001b[0mKeyError\u001b[0m\u001b[1;33m:\u001b[0m\u001b[1;33m\u001b[0m\u001b[1;33m\u001b[0m\u001b[0m\n\u001b[1;32m-> 2659\u001b[1;33m                 \u001b[1;32mreturn\u001b[0m \u001b[0mself\u001b[0m\u001b[1;33m.\u001b[0m\u001b[0m_engine\u001b[0m\u001b[1;33m.\u001b[0m\u001b[0mget_loc\u001b[0m\u001b[1;33m(\u001b[0m\u001b[0mself\u001b[0m\u001b[1;33m.\u001b[0m\u001b[0m_maybe_cast_indexer\u001b[0m\u001b[1;33m(\u001b[0m\u001b[0mkey\u001b[0m\u001b[1;33m)\u001b[0m\u001b[1;33m)\u001b[0m\u001b[1;33m\u001b[0m\u001b[1;33m\u001b[0m\u001b[0m\n\u001b[0m\u001b[0;32m   2660\u001b[0m         \u001b[0mindexer\u001b[0m \u001b[1;33m=\u001b[0m \u001b[0mself\u001b[0m\u001b[1;33m.\u001b[0m\u001b[0mget_indexer\u001b[0m\u001b[1;33m(\u001b[0m\u001b[1;33m[\u001b[0m\u001b[0mkey\u001b[0m\u001b[1;33m]\u001b[0m\u001b[1;33m,\u001b[0m \u001b[0mmethod\u001b[0m\u001b[1;33m=\u001b[0m\u001b[0mmethod\u001b[0m\u001b[1;33m,\u001b[0m \u001b[0mtolerance\u001b[0m\u001b[1;33m=\u001b[0m\u001b[0mtolerance\u001b[0m\u001b[1;33m)\u001b[0m\u001b[1;33m\u001b[0m\u001b[1;33m\u001b[0m\u001b[0m\n\u001b[0;32m   2661\u001b[0m         \u001b[1;32mif\u001b[0m \u001b[0mindexer\u001b[0m\u001b[1;33m.\u001b[0m\u001b[0mndim\u001b[0m \u001b[1;33m>\u001b[0m \u001b[1;36m1\u001b[0m \u001b[1;32mor\u001b[0m \u001b[0mindexer\u001b[0m\u001b[1;33m.\u001b[0m\u001b[0msize\u001b[0m \u001b[1;33m>\u001b[0m \u001b[1;36m1\u001b[0m\u001b[1;33m:\u001b[0m\u001b[1;33m\u001b[0m\u001b[1;33m\u001b[0m\u001b[0m\n",
      "\u001b[1;32mpandas/_libs/index.pyx\u001b[0m in \u001b[0;36mpandas._libs.index.IndexEngine.get_loc\u001b[1;34m()\u001b[0m\n",
      "\u001b[1;32mpandas/_libs/index.pyx\u001b[0m in \u001b[0;36mpandas._libs.index.IndexEngine.get_loc\u001b[1;34m()\u001b[0m\n",
      "\u001b[1;32mpandas/_libs/hashtable_class_helper.pxi\u001b[0m in \u001b[0;36mpandas._libs.hashtable.PyObjectHashTable.get_item\u001b[1;34m()\u001b[0m\n",
      "\u001b[1;32mpandas/_libs/hashtable_class_helper.pxi\u001b[0m in \u001b[0;36mpandas._libs.hashtable.PyObjectHashTable.get_item\u001b[1;34m()\u001b[0m\n",
      "\u001b[1;31mKeyError\u001b[0m: 'Y^'"
     ]
    },
    {
     "data": {
      "image/png": "[encoded data removed]",
      "text/plain": [
       "<Figure size 432x288 with 1 Axes>"
      ]
     },
     "metadata": {
      "needs_background": "light"
     },
     "output_type": "display_data"
    }
   ],
   "source": [
    "plt.plot(d.X, d.Y)\n",
    "plt.plot(d[\"Y^\"])\n",
    "plt.show()"
   ]
  },
  {
   "cell_type": "code",
   "execution_count": 213,
   "metadata": {},
   "outputs": [],
   "source": [
    "b0 = 4.66\n",
    "b1 = 1.03\n",
    "d[\"Y^\"] = b0 + d[\"X\"]*b1"
   ]
  },
  {
   "cell_type": "code",
   "execution_count": 214,
   "metadata": {},
   "outputs": [],
   "source": [
    "e = d[\"Y\"] - d[\"Y^\"]"
   ]
  },
  {
   "cell_type": "code",
   "execution_count": 215,
   "metadata": {},
   "outputs": [],
   "source": [
    "d[\"e\"] = e"
   ]
  },
  {
   "cell_type": "code",
   "execution_count": 216,
   "metadata": {},
   "outputs": [
    {
     "data": {
      "image/png": "[encoded data removed]",
      "text/plain": [
       "<Figure size 432x288 with 1 Axes>"
      ]
     },
     "metadata": {
      "needs_background": "light"
     },
     "output_type": "display_data"
    }
   ],
   "source": [
    "plt.plot(d[\"Y\"]-d[\"Y^\"])\n",
    "plt.show()"
   ]
  },
  {
   "cell_type": "code",
   "execution_count": 217,
   "metadata": {},
   "outputs": [
    {
     "data": {
      "text/plain": [
       "7.956750000000001"
      ]
     },
     "execution_count": 217,
     "metadata": {},
     "output_type": "execute_result"
    }
   ],
   "source": [
    "np.var(d[\"Y^\"])"
   ]
  },
  {
   "cell_type": "code",
   "execution_count": 218,
   "metadata": {},
   "outputs": [
    {
     "data": {
      "text/plain": [
       "51.23965581717452"
      ]
     },
     "execution_count": 218,
     "metadata": {},
     "output_type": "execute_result"
    }
   ],
   "source": [
    "np.var(e)"
   ]
  },
  {
   "cell_type": "code",
   "execution_count": 219,
   "metadata": {},
   "outputs": [
    {
     "data": {
      "text/plain": [
       "0     -0.990\n",
       "1      2.695\n",
       "2     -0.520\n",
       "3      0.565\n",
       "4      0.350\n",
       "5      3.435\n",
       "6     -1.580\n",
       "7      6.505\n",
       "8     -8.710\n",
       "9     -3.525\n",
       "10    -1.740\n",
       "11    -6.755\n",
       "12     9.630\n",
       "13    -4.785\n",
       "14    -6.700\n",
       "15     0.185\n",
       "16    16.170\n",
       "17    11.055\n",
       "18   -15.060\n",
       "dtype: float64"
      ]
     },
     "execution_count": 219,
     "metadata": {},
     "output_type": "execute_result"
    }
   ],
   "source": [
    "e"
   ]
  },
  {
   "cell_type": "code",
   "execution_count": 220,
   "metadata": {},
   "outputs": [
    {
     "data": {
      "text/html": [
       "<div>\n",
       "<style scoped>\n",
       "    .dataframe tbody tr th:only-of-type {\n",
       "        vertical-align: middle;\n",
       "    }\n",
       "\n",
       "    .dataframe tbody tr th {\n",
       "        vertical-align: top;\n",
       "    }\n",
       "\n",
       "    .dataframe thead th {\n",
       "        text-align: right;\n",
       "    }\n",
       "</style>\n",
       "<table border=\"1\" class=\"dataframe\">\n",
       "  <thead>\n",
       "    <tr style=\"text-align: right;\">\n",
       "      <th></th>\n",
       "      <th>X</th>\n",
       "      <th>Y</th>\n",
       "      <th>Y^</th>\n",
       "      <th>e</th>\n",
       "    </tr>\n",
       "  </thead>\n",
       "  <tbody>\n",
       "    <tr>\n",
       "      <th>0</th>\n",
       "      <td>1.0</td>\n",
       "      <td>4.7</td>\n",
       "      <td>5.690</td>\n",
       "      <td>-0.990</td>\n",
       "    </tr>\n",
       "    <tr>\n",
       "      <th>1</th>\n",
       "      <td>1.5</td>\n",
       "      <td>8.9</td>\n",
       "      <td>6.205</td>\n",
       "      <td>2.695</td>\n",
       "    </tr>\n",
       "    <tr>\n",
       "      <th>2</th>\n",
       "      <td>2.0</td>\n",
       "      <td>6.2</td>\n",
       "      <td>6.720</td>\n",
       "      <td>-0.520</td>\n",
       "    </tr>\n",
       "    <tr>\n",
       "      <th>3</th>\n",
       "      <td>2.5</td>\n",
       "      <td>7.8</td>\n",
       "      <td>7.235</td>\n",
       "      <td>0.565</td>\n",
       "    </tr>\n",
       "    <tr>\n",
       "      <th>4</th>\n",
       "      <td>3.0</td>\n",
       "      <td>8.1</td>\n",
       "      <td>7.750</td>\n",
       "      <td>0.350</td>\n",
       "    </tr>\n",
       "    <tr>\n",
       "      <th>5</th>\n",
       "      <td>3.5</td>\n",
       "      <td>11.7</td>\n",
       "      <td>8.265</td>\n",
       "      <td>3.435</td>\n",
       "    </tr>\n",
       "    <tr>\n",
       "      <th>6</th>\n",
       "      <td>4.0</td>\n",
       "      <td>7.2</td>\n",
       "      <td>8.780</td>\n",
       "      <td>-1.580</td>\n",
       "    </tr>\n",
       "    <tr>\n",
       "      <th>7</th>\n",
       "      <td>4.5</td>\n",
       "      <td>15.8</td>\n",
       "      <td>9.295</td>\n",
       "      <td>6.505</td>\n",
       "    </tr>\n",
       "    <tr>\n",
       "      <th>8</th>\n",
       "      <td>5.0</td>\n",
       "      <td>1.1</td>\n",
       "      <td>9.810</td>\n",
       "      <td>-8.710</td>\n",
       "    </tr>\n",
       "    <tr>\n",
       "      <th>9</th>\n",
       "      <td>5.5</td>\n",
       "      <td>6.8</td>\n",
       "      <td>10.325</td>\n",
       "      <td>-3.525</td>\n",
       "    </tr>\n",
       "    <tr>\n",
       "      <th>10</th>\n",
       "      <td>6.0</td>\n",
       "      <td>9.1</td>\n",
       "      <td>10.840</td>\n",
       "      <td>-1.740</td>\n",
       "    </tr>\n",
       "    <tr>\n",
       "      <th>11</th>\n",
       "      <td>6.5</td>\n",
       "      <td>4.6</td>\n",
       "      <td>11.355</td>\n",
       "      <td>-6.755</td>\n",
       "    </tr>\n",
       "    <tr>\n",
       "      <th>12</th>\n",
       "      <td>7.0</td>\n",
       "      <td>21.5</td>\n",
       "      <td>11.870</td>\n",
       "      <td>9.630</td>\n",
       "    </tr>\n",
       "    <tr>\n",
       "      <th>13</th>\n",
       "      <td>7.5</td>\n",
       "      <td>7.6</td>\n",
       "      <td>12.385</td>\n",
       "      <td>-4.785</td>\n",
       "    </tr>\n",
       "    <tr>\n",
       "      <th>14</th>\n",
       "      <td>8.0</td>\n",
       "      <td>6.2</td>\n",
       "      <td>12.900</td>\n",
       "      <td>-6.700</td>\n",
       "    </tr>\n",
       "    <tr>\n",
       "      <th>15</th>\n",
       "      <td>8.5</td>\n",
       "      <td>13.6</td>\n",
       "      <td>13.415</td>\n",
       "      <td>0.185</td>\n",
       "    </tr>\n",
       "    <tr>\n",
       "      <th>16</th>\n",
       "      <td>9.0</td>\n",
       "      <td>30.1</td>\n",
       "      <td>13.930</td>\n",
       "      <td>16.170</td>\n",
       "    </tr>\n",
       "    <tr>\n",
       "      <th>17</th>\n",
       "      <td>9.5</td>\n",
       "      <td>25.5</td>\n",
       "      <td>14.445</td>\n",
       "      <td>11.055</td>\n",
       "    </tr>\n",
       "    <tr>\n",
       "      <th>18</th>\n",
       "      <td>10.0</td>\n",
       "      <td>-0.1</td>\n",
       "      <td>14.960</td>\n",
       "      <td>-15.060</td>\n",
       "    </tr>\n",
       "  </tbody>\n",
       "</table>\n",
       "</div>"
      ],
      "text/plain": [
       "       X     Y      Y^       e\n",
       "0    1.0   4.7   5.690  -0.990\n",
       "1    1.5   8.9   6.205   2.695\n",
       "2    2.0   6.2   6.720  -0.520\n",
       "3    2.5   7.8   7.235   0.565\n",
       "4    3.0   8.1   7.750   0.350\n",
       "5    3.5  11.7   8.265   3.435\n",
       "6    4.0   7.2   8.780  -1.580\n",
       "7    4.5  15.8   9.295   6.505\n",
       "8    5.0   1.1   9.810  -8.710\n",
       "9    5.5   6.8  10.325  -3.525\n",
       "10   6.0   9.1  10.840  -1.740\n",
       "11   6.5   4.6  11.355  -6.755\n",
       "12   7.0  21.5  11.870   9.630\n",
       "13   7.5   7.6  12.385  -4.785\n",
       "14   8.0   6.2  12.900  -6.700\n",
       "15   8.5  13.6  13.415   0.185\n",
       "16   9.0  30.1  13.930  16.170\n",
       "17   9.5  25.5  14.445  11.055\n",
       "18  10.0  -0.1  14.960 -15.060"
      ]
     },
     "execution_count": 220,
     "metadata": {},
     "output_type": "execute_result"
    }
   ],
   "source": [
    "d"
   ]
  },
  {
   "cell_type": "code",
   "execution_count": 221,
   "metadata": {},
   "outputs": [
    {
     "data": {
      "image/png": "[encoded data removed]",
      "text/plain": [
       "<Figure size 432x288 with 1 Axes>"
      ]
     },
     "metadata": {
      "needs_background": "light"
     },
     "output_type": "display_data"
    }
   ],
   "source": [
    "plt.plot(e)\n",
    "plt.show()"
   ]
  },
  {
   "cell_type": "code",
   "execution_count": 222,
   "metadata": {},
   "outputs": [
    {
     "ename": "NameError",
     "evalue": "name 'ds' is not defined",
     "output_type": "error",
     "traceback": [
      "\u001b[1;31m---------------------------------------------------------------------------\u001b[0m",
      "\u001b[1;31mNameError\u001b[0m                                 Traceback (most recent call last)",
      "\u001b[1;32m<ipython-input-222-de00562b0c91>\u001b[0m in \u001b[0;36m<module>\u001b[1;34m\u001b[0m\n\u001b[0;32m      3\u001b[0m \u001b[1;32mimport\u001b[0m \u001b[0mscipy\u001b[0m\u001b[1;33m.\u001b[0m\u001b[0mstats\u001b[0m \u001b[1;32mas\u001b[0m \u001b[0mstats\u001b[0m\u001b[1;33m\u001b[0m\u001b[1;33m\u001b[0m\u001b[0m\n\u001b[0;32m      4\u001b[0m \u001b[1;33m\u001b[0m\u001b[0m\n\u001b[1;32m----> 5\u001b[1;33m \u001b[0mstats\u001b[0m\u001b[1;33m.\u001b[0m\u001b[0mprobplot\u001b[0m\u001b[1;33m(\u001b[0m\u001b[0mds\u001b[0m\u001b[1;33m,\u001b[0m \u001b[0mdist\u001b[0m\u001b[1;33m=\u001b[0m\u001b[1;34m\"norm\"\u001b[0m\u001b[1;33m,\u001b[0m \u001b[0mplot\u001b[0m\u001b[1;33m=\u001b[0m\u001b[0mpylab\u001b[0m\u001b[1;33m)\u001b[0m\u001b[1;33m\u001b[0m\u001b[1;33m\u001b[0m\u001b[0m\n\u001b[0m\u001b[0;32m      6\u001b[0m \u001b[0mpylab\u001b[0m\u001b[1;33m.\u001b[0m\u001b[0mshow\u001b[0m\u001b[1;33m(\u001b[0m\u001b[1;33m)\u001b[0m\u001b[1;33m\u001b[0m\u001b[1;33m\u001b[0m\u001b[0m\n",
      "\u001b[1;31mNameError\u001b[0m: name 'ds' is not defined"
     ]
    }
   ],
   "source": [
    "import numpy as np \n",
    "import pylab \n",
    "import scipy.stats as stats\n",
    "   \n",
    "stats.probplot(ds, dist=\"norm\", plot=pylab)\n",
    "pylab.show()"
   ]
  },
  {
   "cell_type": "code",
   "execution_count": 223,
   "metadata": {},
   "outputs": [],
   "source": [
    "X = d.X.values\n",
    "tX = np.ones((len(d), 2))\n",
    "e = d[\"Y\"] - d[\"Y^\"]\n",
    "tX[:, 1] = X\n",
    "tX[:5]\n",
    "i = 2\n",
    "h = (tX @ np.linalg.inv((tX.transpose() @ tX)) @ tX.transpose())\n",
    "ds = [e[i] / (S*(1-h[i,i])**(1/2)) for i in range(len(e))]"
   ]
  },
  {
   "cell_type": "code",
   "execution_count": 224,
   "metadata": {},
   "outputs": [
    {
     "data": {
      "text/plain": [
       "[-0.023576277463240536,\n",
       " 0.06302337771367238,\n",
       " -0.011973165337455344,\n",
       " 0.012840429826220474,\n",
       " 0.00786884176191735,\n",
       " 0.07656097932383554,\n",
       " -0.034982932215145375,\n",
       " 0.14335448609877188,\n",
       " -0.19141243786824597,\n",
       " -0.07739423708985958,\n",
       " -0.038238535234299424,\n",
       " -0.14886388218250637,\n",
       " 0.21321875774167703,\n",
       " -0.10665044718036487,\n",
       " -0.1506321137281323,\n",
       " 0.004204388527169511,\n",
       " 0.3723193913589476,\n",
       " 0.25852446776424787,\n",
       " -0.3586451905014166]"
      ]
     },
     "execution_count": 224,
     "metadata": {},
     "output_type": "execute_result"
    }
   ],
   "source": [
    "ds"
   ]
  },
  {
   "cell_type": "code",
   "execution_count": 225,
   "metadata": {},
   "outputs": [
    {
     "data": {
      "image/png": "[encoded data removed]",
      "text/plain": [
       "<Figure size 432x288 with 1 Axes>"
      ]
     },
     "metadata": {
      "needs_background": "light"
     },
     "output_type": "display_data"
    }
   ],
   "source": [
    "plt.scatter(d[\"Y^\"], ds)\n",
    "plt.show()"
   ]
  },
  {
   "cell_type": "code",
   "execution_count": 226,
   "metadata": {},
   "outputs": [
    {
     "data": {
      "image/png": "[encoded data removed]",
      "text/plain": [
       "<Figure size 432x288 with 1 Axes>"
      ]
     },
     "metadata": {
      "needs_background": "light"
     },
     "output_type": "display_data"
    }
   ],
   "source": [
    "plt.scatter(d.index, ds)\n",
    "plt.show()"
   ]
  },
  {
   "cell_type": "code",
   "execution_count": 227,
   "metadata": {},
   "outputs": [
    {
     "data": {
      "image/png": "[encoded data removed]",
      "text/plain": [
       "<Figure size 432x288 with 1 Axes>"
      ]
     },
     "metadata": {
      "needs_background": "light"
     },
     "output_type": "display_data"
    }
   ],
   "source": [
    "plt.scatter(d[\"X\"], ds)\n",
    "plt.show()"
   ]
  },
  {
   "cell_type": "code",
   "execution_count": 228,
   "metadata": {},
   "outputs": [
    {
     "data": {
      "image/png": "[encoded data removed]",
      "text/plain": [
       "<Figure size 432x288 with 1 Axes>"
      ]
     },
     "metadata": {
      "needs_background": "light"
     },
     "output_type": "display_data"
    }
   ],
   "source": [
    "plt.scatter(d[\"Y\"], ds)\n",
    "plt.show()"
   ]
  },
  {
   "cell_type": "code",
   "execution_count": 229,
   "metadata": {},
   "outputs": [
    {
     "data": {
      "image/png": "[encoded data removed]",
      "text/plain": [
       "<Figure size 432x288 with 1 Axes>"
      ]
     },
     "metadata": {
      "needs_background": "light"
     },
     "output_type": "display_data"
    }
   ],
   "source": [
    "plt.plot(ds)\n",
    "plt.show()"
   ]
  },
  {
   "cell_type": "code",
   "execution_count": 230,
   "metadata": {},
   "outputs": [
    {
     "data": {
      "image/png": "[encoded data removed]",
      "text/plain": [
       "<Figure size 432x288 with 1 Axes>"
      ]
     },
     "metadata": {
      "needs_background": "light"
     },
     "output_type": "display_data"
    }
   ],
   "source": [
    "import numpy as np\n",
    "import statsmodels.api as sm\n",
    "import pylab\n",
    "\n",
    "sm.qqplot(np.array(ds), line='45')\n",
    "pylab.show()"
   ]
  },
  {
   "cell_type": "markdown",
   "metadata": {},
   "source": [
    "### 7.3"
   ]
  },
  {
   "cell_type": "code",
   "execution_count": 231,
   "metadata": {},
   "outputs": [
    {
     "data": {
      "text/plain": [
       "array([[ 3.25,  0.62],\n",
       "       [ 2.51,  0.95],\n",
       "       [ 1.46,  0.37],\n",
       "       [ 2.37,  1.64],\n",
       "       [ 2.45,  0.6 ],\n",
       "       [-0.07,  0.19],\n",
       "       [ 3.78,  1.81],\n",
       "       [ 0.53,  0.24],\n",
       "       [ 2.09,  1.26],\n",
       "       [ 1.74, -0.93]])"
      ]
     },
     "execution_count": 231,
     "metadata": {},
     "output_type": "execute_result"
    }
   ],
   "source": [
    "d = [(3.25, 0.62),\n",
    "     (2.51,0.95),\n",
    "     (1.46,0.37),\n",
    "     (2.37,1.64),\n",
    "     ( 2.45, 0.60),\n",
    "     (-0.07,0.19),\n",
    "     ( 3.78,1.81),\n",
    "     (0.53,0.24),\n",
    "     ( 2.09,1.26),\n",
    "     (1.74,-0.93)]\n",
    "d = np.array(d)\n",
    "d"
   ]
  },
  {
   "cell_type": "code",
   "execution_count": 232,
   "metadata": {},
   "outputs": [
    {
     "data": {
      "text/plain": [
       "0.5621846665498428"
      ]
     },
     "execution_count": 232,
     "metadata": {},
     "output_type": "execute_result"
    }
   ],
   "source": [
    "from scipy.stats import pearsonr\n",
    "r = pearsonr(d[:,0], d[:,1])[0]\n",
    "r"
   ]
  },
  {
   "cell_type": "code",
   "execution_count": 233,
   "metadata": {},
   "outputs": [
    {
     "data": {
      "text/plain": [
       "'1.9227'"
      ]
     },
     "execution_count": 233,
     "metadata": {},
     "output_type": "execute_result"
    }
   ],
   "source": [
    "n = len(d)\n",
    "z = r * (n-2)**(1/2)/(1-r**2)**(1/2)\n",
    "f\"{z:.4f}\""
   ]
  },
  {
   "cell_type": "code",
   "execution_count": 234,
   "metadata": {},
   "outputs": [
    {
     "data": {
      "text/plain": [
       "1.8331129326536335"
      ]
     },
     "execution_count": 234,
     "metadata": {},
     "output_type": "execute_result"
    }
   ],
   "source": [
    "t(n-1).ppf(1-0.05)"
   ]
  },
  {
   "cell_type": "markdown",
   "metadata": {},
   "source": [
    "### 7.3.8"
   ]
  },
  {
   "cell_type": "code",
   "execution_count": 235,
   "metadata": {},
   "outputs": [
    {
     "data": {
      "text/plain": [
       "[6, 2, 10, 8, 3, 9, 1, 5, 4, 7]"
      ]
     },
     "execution_count": 235,
     "metadata": {},
     "output_type": "execute_result"
    }
   ],
   "source": [
    "dat1 = [int(i) for i in \"d6 d2 d10 d8 d3 d9 d1 d5 d4 d7\".replace(\"d\",\"\").split()]\n",
    "dat2 = [int(i) for i in \"d10 d6 d8 d2 d3 d9 d1 d5 d7 d4\".replace(\"d\",\"\").split()]\n",
    "dat1\n"
   ]
  },
  {
   "cell_type": "code",
   "execution_count": 236,
   "metadata": {},
   "outputs": [],
   "source": [
    "dat1 = np.array([dat1.index(i) for i in range(1,11)])\n",
    "dat2 = np.array([dat2.index(i) for i in range(1,11)])"
   ]
  },
  {
   "cell_type": "code",
   "execution_count": 237,
   "metadata": {},
   "outputs": [
    {
     "data": {
      "text/plain": [
       "0.9272727272727272"
      ]
     },
     "execution_count": 237,
     "metadata": {},
     "output_type": "execute_result"
    }
   ],
   "source": [
    "#коэфицент Спирмена\n",
    "n = len(dat1)\n",
    "dat1_av = dat1.mean()\n",
    "dat2_av = dat2.mean()\n",
    "rs = 1 - (6*((dat1-dat2)**2).sum()) / (n**3 - n)\n",
    "rs"
   ]
  },
  {
   "cell_type": "code",
   "execution_count": 238,
   "metadata": {},
   "outputs": [],
   "source": [
    "from scipy.stats import spearmanr"
   ]
  },
  {
   "cell_type": "code",
   "execution_count": 239,
   "metadata": {},
   "outputs": [
    {
     "data": {
      "text/plain": [
       "SpearmanrResult(correlation=0.9272727272727272, pvalue=0.00011203450639397582)"
      ]
     },
     "execution_count": 239,
     "metadata": {},
     "output_type": "execute_result"
    }
   ],
   "source": [
    "spearmanr(dat1, dat2)"
   ]
  },
  {
   "cell_type": "markdown",
   "metadata": {},
   "source": [
    "### 7.3.10"
   ]
  },
  {
   "cell_type": "code",
   "execution_count": 240,
   "metadata": {},
   "outputs": [],
   "source": [
    "dat1 = [int(i) for i in \"d6 d2 d10 d8 d3 d9 d1 d5 d4 d7\".replace(\"d\",\"\").split()]\n",
    "dat2 = [int(i) for i in \"d10 d6 d8 d2 d3 d9 d1 d5 d7 d4\".replace(\"d\",\"\").split()]\n",
    "# dat1 = np.array([dat1.index(i) for i in range(1,11)])\n",
    "# dat2 = np.array([dat2.index(i) for i in range(1,11)])"
   ]
  },
  {
   "cell_type": "code",
   "execution_count": 241,
   "metadata": {},
   "outputs": [],
   "source": [
    "ixs1 = [(dat1[i],dat1[j]) for i in range(len(dat1)-1) for j in range (i+1, len(dat1))]\n",
    "ixs2 = [(dat2[i],dat2[j]) for i in range(len(dat2)-1) for j in range (i+1, len(dat2))]"
   ]
  },
  {
   "cell_type": "code",
   "execution_count": 242,
   "metadata": {},
   "outputs": [
    {
     "data": {
      "text/plain": [
       "(41, 4)"
      ]
     },
     "execution_count": 242,
     "metadata": {},
     "output_type": "execute_result"
    }
   ],
   "source": [
    "C = 0\n",
    "for i in ixs1:\n",
    "    if i in ixs2:\n",
    "        C+=1\n",
    "D = len(ixs1)-C\n",
    "C,D"
   ]
  },
  {
   "cell_type": "code",
   "execution_count": 243,
   "metadata": {},
   "outputs": [
    {
     "data": {
      "text/plain": [
       "0.8222222222222222"
      ]
     },
     "execution_count": 243,
     "metadata": {},
     "output_type": "execute_result"
    }
   ],
   "source": [
    "2*(C-D)/(n*(n-1))"
   ]
  },
  {
   "cell_type": "markdown",
   "metadata": {},
   "source": [
    "## 7.4"
   ]
  },
  {
   "cell_type": "code",
   "execution_count": 244,
   "metadata": {},
   "outputs": [
    {
     "data": {
      "text/html": [
       "<div>\n",
       "<style scoped>\n",
       "    .dataframe tbody tr th:only-of-type {\n",
       "        vertical-align: middle;\n",
       "    }\n",
       "\n",
       "    .dataframe tbody tr th {\n",
       "        vertical-align: top;\n",
       "    }\n",
       "\n",
       "    .dataframe thead th {\n",
       "        text-align: right;\n",
       "    }\n",
       "</style>\n",
       "<table border=\"1\" class=\"dataframe\">\n",
       "  <thead>\n",
       "    <tr style=\"text-align: right;\">\n",
       "      <th></th>\n",
       "      <th>race</th>\n",
       "      <th>educ</th>\n",
       "      <th>smoke</th>\n",
       "      <th>preg</th>\n",
       "      <th>weight</th>\n",
       "    </tr>\n",
       "  </thead>\n",
       "  <tbody>\n",
       "    <tr>\n",
       "      <th>0</th>\n",
       "      <td>1</td>\n",
       "      <td>8</td>\n",
       "      <td>0</td>\n",
       "      <td>39</td>\n",
       "      <td>3670</td>\n",
       "    </tr>\n",
       "    <tr>\n",
       "      <th>1</th>\n",
       "      <td>1</td>\n",
       "      <td>9</td>\n",
       "      <td>1</td>\n",
       "      <td>38</td>\n",
       "      <td>2775</td>\n",
       "    </tr>\n",
       "    <tr>\n",
       "      <th>2</th>\n",
       "      <td>1</td>\n",
       "      <td>9</td>\n",
       "      <td>0</td>\n",
       "      <td>38</td>\n",
       "      <td>2680</td>\n",
       "    </tr>\n",
       "    <tr>\n",
       "      <th>3</th>\n",
       "      <td>1</td>\n",
       "      <td>9</td>\n",
       "      <td>0</td>\n",
       "      <td>37</td>\n",
       "      <td>2699</td>\n",
       "    </tr>\n",
       "    <tr>\n",
       "      <th>4</th>\n",
       "      <td>1</td>\n",
       "      <td>9</td>\n",
       "      <td>1</td>\n",
       "      <td>38</td>\n",
       "      <td>2557</td>\n",
       "    </tr>\n",
       "  </tbody>\n",
       "</table>\n",
       "</div>"
      ],
      "text/plain": [
       "   race  educ  smoke  preg  weight\n",
       "0     1     8      0    39    3670\n",
       "1     1     9      1    38    2775\n",
       "2     1     9      0    38    2680\n",
       "3     1     9      0    37    2699\n",
       "4     1     9      1    38    2557"
      ]
     },
     "execution_count": 244,
     "metadata": {},
     "output_type": "execute_result"
    }
   ],
   "source": [
    "d = pd.read_csv(\"../weights.txt\", sep='\\t')\n",
    "d.head()"
   ]
  },
  {
   "cell_type": "code",
   "execution_count": 245,
   "metadata": {},
   "outputs": [
    {
     "data": {
      "text/plain": [
       "array([-2841.37767615,  -211.57152451,     7.24940335,   -44.25278218,\n",
       "         157.75158661])"
      ]
     },
     "execution_count": 245,
     "metadata": {},
     "output_type": "execute_result"
    }
   ],
   "source": [
    "X = d[['race', 'educ', 'smoke', 'preg']].values\n",
    "Y = d['weight'].values\n",
    "tX = np.ones((len(d), len(d.columns)))\n",
    "tX[:, 1:] = X\n",
    "tX[:5]\n",
    "beta = np.linalg.inv((tX.transpose() @ tX)) @ tX.transpose() @ Y\n",
    "beta"
   ]
  },
  {
   "cell_type": "code",
   "execution_count": 246,
   "metadata": {},
   "outputs": [
    {
     "name": "stdout",
     "output_type": "stream",
     "text": [
      "RSS = 18372077.181161165\n",
      "S2 = 193390.28611748596\n",
      "0.3364652117987226\n"
     ]
    }
   ],
   "source": [
    "def y_hat(params) -> float:\n",
    "    return beta[0] + beta[1] * params[0] + beta[2] * params[1] + beta[3] * params[2] + beta[4] * params[3]\n",
    "Y_hat = np.array([y_hat(x) for x in X])\n",
    "RSS = sum((Y - Y_hat)**2)\n",
    "print(f\"RSS = {RSS}\")\n",
    "\n",
    "S2 = RSS / (len(d) - X.shape[1] - 1)\n",
    "print(f\"S2 = {S2}\")\n",
    "mY = Y.mean()\n",
    "R2 = RSS / sum((Y - mY)**2)\n",
    "R2 = 1 - R2\n",
    "print(R2)"
   ]
  },
  {
   "cell_type": "code",
   "execution_count": 247,
   "metadata": {},
   "outputs": [
    {
     "data": {
      "text/plain": [
       "7.630904240265986"
      ]
     },
     "execution_count": 247,
     "metadata": {},
     "output_type": "execute_result"
    }
   ],
   "source": [
    "# точность при параметре j\n",
    "k = 4\n",
    "j = 4\n",
    "t(n-k-1).ppf(1-0.05/2)*S*(np.linalg.inv((tX.transpose() @ tX))[j,j])**(1/2)"
   ]
  },
  {
   "cell_type": "code",
   "execution_count": 248,
   "metadata": {},
   "outputs": [
    {
     "data": {
      "text/plain": [
       "0.33646521179872246"
      ]
     },
     "execution_count": 248,
     "metadata": {},
     "output_type": "execute_result"
    }
   ],
   "source": [
    "# коэфицент детерминации\n",
    "1 - RSS/((Y - Y.mean())**2).sum()"
   ]
  },
  {
   "cell_type": "code",
   "execution_count": 249,
   "metadata": {},
   "outputs": [],
   "source": [
    "i = 2\n",
    "e = Y - Y_hat\n",
    "h = (tX @ np.linalg.inv((tX.transpose() @ tX)) @ tX.transpose())\n",
    "ds = [e[i] / (S*(1-h[i,i])**(1/2)) for i in range(len(e))]"
   ]
  },
  {
   "cell_type": "code",
   "execution_count": 250,
   "metadata": {},
   "outputs": [
    {
     "data": {
      "text/plain": [
       "0.6338499837944044"
      ]
     },
     "execution_count": 250,
     "metadata": {},
     "output_type": "execute_result"
    }
   ],
   "source": [
    "(R2*(n-k-1))/((1-R2)*k)"
   ]
  },
  {
   "cell_type": "code",
   "execution_count": null,
   "metadata": {},
   "outputs": [],
   "source": []
  },
  {
   "cell_type": "markdown",
   "metadata": {},
   "source": [
    "## Final Test"
   ]
  },
  {
   "cell_type": "code",
   "execution_count": 252,
   "metadata": {},
   "outputs": [],
   "source": [
    "d = np.array([128,107,107,92,118,114,117,109,115,106,109,106,109,120,112,128,114,119,110,130])"
   ]
  },
  {
   "cell_type": "code",
   "execution_count": 253,
   "metadata": {},
   "outputs": [
    {
     "data": {
      "text/plain": [
       "(113.0, 113.5, 76.75)"
      ]
     },
     "execution_count": 253,
     "metadata": {},
     "output_type": "execute_result"
    }
   ],
   "source": [
    "median(d), np.mean(d), np.var(d)"
   ]
  },
  {
   "cell_type": "code",
   "execution_count": 265,
   "metadata": {},
   "outputs": [],
   "source": [
    "from scipy.stats import poisson\n",
    "xs = [poisson(2).rvs(10) for _ in range(1000)]"
   ]
  },
  {
   "cell_type": "code",
   "execution_count": 266,
   "metadata": {},
   "outputs": [],
   "source": [
    "ms = [np.mean(i) for i in xs]"
   ]
  },
  {
   "cell_type": "code",
   "execution_count": 267,
   "metadata": {},
   "outputs": [
    {
     "data": {
      "text/plain": [
       "(2.0033, 0.21285911)"
      ]
     },
     "execution_count": 267,
     "metadata": {},
     "output_type": "execute_result"
    }
   ],
   "source": [
    "np.mean(ms), np.var(ms)"
   ]
  },
  {
   "cell_type": "markdown",
   "metadata": {},
   "source": [
    "#### Метод моментов."
   ]
  },
  {
   "cell_type": "code",
   "execution_count": 268,
   "metadata": {},
   "outputs": [],
   "source": [
    "d = [3, 0, 2, 1, 3, 2, 1, 0, 2, 1]"
   ]
  },
  {
   "cell_type": "code",
   "execution_count": 269,
   "metadata": {},
   "outputs": [
    {
     "data": {
      "text/plain": [
       "1.5"
      ]
     },
     "execution_count": 269,
     "metadata": {},
     "output_type": "execute_result"
    }
   ],
   "source": [
    "np.mean(d)"
   ]
  },
  {
   "cell_type": "markdown",
   "metadata": {},
   "source": [
    "#### КАД"
   ]
  },
  {
   "cell_type": "code",
   "execution_count": 270,
   "metadata": {},
   "outputs": [],
   "source": [
    "d = [128,107,107,92,118,114,117,109,115,106,109,106,109,120,112,128,114,119,110,130]"
   ]
  },
  {
   "cell_type": "code",
   "execution_count": 272,
   "metadata": {},
   "outputs": [],
   "source": [
    "alph = 0.03\n",
    "m = 110\n",
    "n = len(d)\n",
    "s = (np.var(d)*n/(n-1))**(1/2)"
   ]
  },
  {
   "cell_type": "code",
   "execution_count": 273,
   "metadata": {},
   "outputs": [],
   "source": [
    "z = (np.mean(d) - m) / (s / n**(1/2))"
   ]
  },
  {
   "cell_type": "code",
   "execution_count": 274,
   "metadata": {},
   "outputs": [
    {
     "data": {
      "text/plain": [
       "0.04888812528612185"
      ]
     },
     "execution_count": 274,
     "metadata": {},
     "output_type": "execute_result"
    }
   ],
   "source": [
    "from scipy.stats import t\n",
    "p_val = 1 - t(n-1).cdf(z)\n",
    "p_val"
   ]
  },
  {
   "cell_type": "markdown",
   "metadata": {},
   "source": [
    "#### сетчатка"
   ]
  },
  {
   "cell_type": "code",
   "execution_count": 278,
   "metadata": {},
   "outputs": [],
   "source": [
    "x = np.array([19.5, 15.0, 13.5, 23.3, 6.3, 2.5,13.0, 1.8,6.5,1.8])\n",
    "\n",
    "y = np.array([0.0, 38.5, 59.0, 97.4, 119.2, 129.5, 198.7, 248.7, 318.0, 438.5])"
   ]
  },
  {
   "cell_type": "code",
   "execution_count": 279,
   "metadata": {},
   "outputs": [
    {
     "name": "stdout",
     "output_type": "stream",
     "text": [
      "betha1 = -12.091823618808554\n",
      "betha0 = 289.53761974610427\n"
     ]
    }
   ],
   "source": [
    "x_av = x.mean()\n",
    "y_av = y.mean()\n",
    "b1 = ((x*y).sum()/len(x)-x_av*y_av)/((x**2).sum()/len(x)-x_av**2)\n",
    "print(f\"betha1 = {b1}\")\n",
    "b0 = y_av - b1*x_av\n",
    "print(f\"betha0 = {b0}\")\n",
    "y_roof = b0 + b1*x\n",
    "e = y-y_roof"
   ]
  },
  {
   "cell_type": "code",
   "execution_count": 283,
   "metadata": {},
   "outputs": [
    {
     "data": {
      "text/plain": [
       "11282.887455832783"
      ]
     },
     "execution_count": 283,
     "metadata": {},
     "output_type": "execute_result"
    }
   ],
   "source": [
    "RSS = (e**2).sum()\n",
    "RSS\n",
    "n = len(e)\n",
    "s = np.var(e)**(1/2)*n/(n-1)\n",
    "s**2\n"
   ]
  },
  {
   "cell_type": "code",
   "execution_count": 284,
   "metadata": {},
   "outputs": [
    {
     "data": {
      "text/plain": [
       "10.102965071039044"
      ]
     },
     "execution_count": 284,
     "metadata": {},
     "output_type": "execute_result"
    }
   ],
   "source": [
    "alph = 0.05\n",
    "stu = t(n-2).ppf(1-alph/2)\n",
    "S = (RSS/(n-1))**(1/2)\n",
    "stu*S*(1/(n*np.var(x)))**(1/2)"
   ]
  },
  {
   "cell_type": "code",
   "execution_count": 286,
   "metadata": {},
   "outputs": [
    {
     "data": {
      "text/plain": [
       "11423.923549030691"
      ]
     },
     "execution_count": 286,
     "metadata": {},
     "output_type": "execute_result"
    }
   ],
   "source": [
    "RSS/(n-2)"
   ]
  },
  {
   "cell_type": "code",
   "execution_count": null,
   "metadata": {},
   "outputs": [],
   "source": []
  }
 ],
 "metadata": {
  "kernelspec": {
   "display_name": "Python 3",
   "language": "python",
   "name": "python3"
  },
  "language_info": {
   "codemirror_mode": {
    "name": "ipython",
    "version": 3
   },
   "file_extension": ".py",
   "mimetype": "text/x-python",
   "name": "python",
   "nbconvert_exporter": "python",
   "pygments_lexer": "ipython3",
   "version": "3.7.3"
  }
 },
 "nbformat": 4,
 "nbformat_minor": 2
}
